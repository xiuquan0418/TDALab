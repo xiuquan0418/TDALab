{
 "cells": [
  {
   "cell_type": "code",
   "execution_count": 1,
   "metadata": {},
   "outputs": [],
   "source": [
    "import sys\n",
    "try:\n",
    "    import pandas as pd\n",
    "except ImportError as e:\n",
    "    print(\"pandas is required for this example. Please install with conda or pip  and then try again.\")\n",
    "    sys.exit()\n",
    "\n",
    "import numpy as np\n",
    "import sklearn\n",
    "from sklearn import ensemble\n",
    "import kmapper as km\n",
    "from kmapper.plotlyviz import *\n",
    "\n",
    "import warnings\n",
    "warnings.filterwarnings(\"ignore\")"
   ]
  },
  {
   "cell_type": "code",
   "execution_count": 2,
   "metadata": {},
   "outputs": [],
   "source": [
    "import plotly.graph_objs as go\n",
    "from ipywidgets import (HBox, VBox)"
   ]
  },
  {
   "cell_type": "code",
   "execution_count": 3,
   "metadata": {},
   "outputs": [],
   "source": [
    "from sklearn import cluster"
   ]
  },
  {
   "cell_type": "code",
   "execution_count": 68,
   "metadata": {},
   "outputs": [],
   "source": [
    "# Data - the Wisconsin Breast Cancer Dataset\n",
    "# https://www.kaggle.com/uciml/breast-cancer-wisconsin-data\n",
    "df = pd.read_csv(\"../data/breast-cancer.csv\")\n",
    "feature_names = [c for c in df.columns if c not in [\"id\", \"diagnosis\"]]\n",
    "df[\"diagnosis\"] = df[\"diagnosis\"].apply(lambda x: 1 if x == \"M\" else 0)\n",
    "X = np.array(df[feature_names].fillna(0))\n",
    "y = np.array(df[\"diagnosis\"])"
   ]
  },
  {
   "cell_type": "code",
   "execution_count": 5,
   "metadata": {},
   "outputs": [
    {
     "name": "stdout",
     "output_type": "stream",
     "text": [
      "<class 'pandas.core.frame.DataFrame'>\n",
      "RangeIndex: 569 entries, 0 to 568\n",
      "Data columns (total 33 columns):\n",
      " #   Column                   Non-Null Count  Dtype  \n",
      "---  ------                   --------------  -----  \n",
      " 0   id                       569 non-null    int64  \n",
      " 1   diagnosis                569 non-null    int64  \n",
      " 2   radius_mean              569 non-null    float64\n",
      " 3   texture_mean             569 non-null    float64\n",
      " 4   perimeter_mean           569 non-null    float64\n",
      " 5   area_mean                569 non-null    float64\n",
      " 6   smoothness_mean          569 non-null    float64\n",
      " 7   compactness_mean         569 non-null    float64\n",
      " 8   concavity_mean           569 non-null    float64\n",
      " 9   concave points_mean      569 non-null    float64\n",
      " 10  symmetry_mean            569 non-null    float64\n",
      " 11  fractal_dimension_mean   569 non-null    float64\n",
      " 12  radius_se                569 non-null    float64\n",
      " 13  texture_se               569 non-null    float64\n",
      " 14  perimeter_se             569 non-null    float64\n",
      " 15  area_se                  569 non-null    float64\n",
      " 16  smoothness_se            569 non-null    float64\n",
      " 17  compactness_se           569 non-null    float64\n",
      " 18  concavity_se             569 non-null    float64\n",
      " 19  concave points_se        569 non-null    float64\n",
      " 20  symmetry_se              569 non-null    float64\n",
      " 21  fractal_dimension_se     569 non-null    float64\n",
      " 22  radius_worst             569 non-null    float64\n",
      " 23  texture_worst            569 non-null    float64\n",
      " 24  perimeter_worst          569 non-null    float64\n",
      " 25  area_worst               569 non-null    float64\n",
      " 26  smoothness_worst         569 non-null    float64\n",
      " 27  compactness_worst        569 non-null    float64\n",
      " 28  concavity_worst          569 non-null    float64\n",
      " 29  concave points_worst     569 non-null    float64\n",
      " 30  symmetry_worst           569 non-null    float64\n",
      " 31  fractal_dimension_worst  569 non-null    float64\n",
      " 32  Unnamed: 32              0 non-null      float64\n",
      "dtypes: float64(31), int64(2)\n",
      "memory usage: 146.8 KB\n"
     ]
    }
   ],
   "source": [
    "df.info()"
   ]
  },
  {
   "cell_type": "code",
   "execution_count": 6,
   "metadata": {},
   "outputs": [
    {
     "name": "stdout",
     "output_type": "stream",
     "text": [
      "(569, 31)\n",
      "(569,)\n"
     ]
    }
   ],
   "source": [
    "print(X.shape)\n",
    "print(y.shape)"
   ]
  },
  {
   "cell_type": "code",
   "execution_count": 7,
   "metadata": {},
   "outputs": [
    {
     "data": {
      "image/png": "[encoded data removed]",
      "text/plain": [
       "<Figure size 432x288 with 1 Axes>"
      ]
     },
     "metadata": {
      "needs_background": "light"
     },
     "output_type": "display_data"
    }
   ],
   "source": [
    "#plotting class distribution graph using a function\n",
    "#importing saperate functions from pandas\n",
    "from pandas import value_counts\n",
    "import matplotlib.pyplot as plt\n",
    "\n",
    "def class_distribution_graph():\n",
    "    count_classes = value_counts(y, sort = True)\n",
    "    count_classes.plot(kind = 'bar', rot = 0)\n",
    "    plt.title(\"Class Distribution Graph\")\n",
    "    plt.xlabel(\"Class\")\n",
    "    plt.ylabel(\"Frequency\")\n",
    "    plt.legend()\n",
    "    \n",
    "#calling the function\n",
    "class_distribution_graph()"
   ]
  },
  {
   "cell_type": "code",
   "execution_count": 8,
   "metadata": {},
   "outputs": [],
   "source": [
    "#classifying normal and fraud label\n",
    "\n",
    "benign = df[df[\"diagnosis\"] == 0]\n",
    "malignant = df[df[\"diagnosis\"] == 1]"
   ]
  },
  {
   "cell_type": "code",
   "execution_count": 9,
   "metadata": {},
   "outputs": [
    {
     "name": "stdout",
     "output_type": "stream",
     "text": [
      "(357, 33) (212, 33)\n"
     ]
    }
   ],
   "source": [
    "#printing the total numbers of fraud and normal transactions wit respect to its row\n",
    "\n",
    "print(benign.shape, malignant.shape)"
   ]
  },
  {
   "cell_type": "code",
   "execution_count": 10,
   "metadata": {},
   "outputs": [
    {
     "data": {
      "text/plain": [
       "count    357.000000\n",
       "mean     462.790196\n",
       "std      134.287118\n",
       "min      143.500000\n",
       "25%      378.200000\n",
       "50%      458.400000\n",
       "75%      551.100000\n",
       "max      992.100000\n",
       "Name: area_mean, dtype: float64"
      ]
     },
     "execution_count": 10,
     "metadata": {},
     "output_type": "execute_result"
    }
   ],
   "source": [
    "#Description of both the transactions\n",
    "\n",
    "benign.area_mean.describe()"
   ]
  },
  {
   "cell_type": "code",
   "execution_count": 11,
   "metadata": {},
   "outputs": [
    {
     "data": {
      "text/plain": [
       "count     212.000000\n",
       "mean      978.376415\n",
       "std       367.937978\n",
       "min       361.600000\n",
       "25%       705.300000\n",
       "50%       932.000000\n",
       "75%      1203.750000\n",
       "max      2501.000000\n",
       "Name: area_mean, dtype: float64"
      ]
     },
     "execution_count": 11,
     "metadata": {},
     "output_type": "execute_result"
    }
   ],
   "source": [
    "malignant.area_mean.describe()"
   ]
  },
  {
   "cell_type": "code",
   "execution_count": 12,
   "metadata": {},
   "outputs": [
    {
     "data": {
      "image/png": "[encoded data removed]",
      "text/plain": [
       "<Figure size 432x288 with 2 Axes>"
      ]
     },
     "metadata": {
      "needs_background": "light"
     },
     "output_type": "display_data"
    }
   ],
   "source": [
    "f, (ax1, ax2) = plt.subplots(2, 1, sharex=True)\n",
    "f.suptitle(' area mean of patients by class')\n",
    "bins = 100\n",
    "ax1.hist(malignant.area_mean, bins = bins)\n",
    "ax1.set_title('malignant')\n",
    "ax2.hist(benign.area_mean, bins = bins)\n",
    "ax2.set_title('benign')\n",
    "plt.xlabel('area_mean')\n",
    "plt.ylabel('Number of patients')\n",
    "plt.xlim((0, 2600))\n",
    "plt.yscale('log')\n",
    "plt.show()"
   ]
  },
  {
   "cell_type": "code",
   "execution_count": 13,
   "metadata": {},
   "outputs": [
    {
     "data": {
      "image/png": "[encoded data removed]",
      "text/plain": [
       "<Figure size 432x288 with 2 Axes>"
      ]
     },
     "metadata": {
      "needs_background": "light"
     },
     "output_type": "display_data"
    }
   ],
   "source": [
    "f, (ax1, ax2) = plt.subplots(2, 1, sharex=True)\n",
    "f.suptitle(' Area mean of patient vs smoothness_mean by class')\n",
    "ax1.scatter(malignant.area_mean, malignant.smoothness_mean)\n",
    "ax1.set_title('malignant')\n",
    "ax2.scatter(benign.area_mean, benign.smoothness_mean)\n",
    "ax2.set_title('benign')\n",
    "plt.xlabel('Area mean')\n",
    "plt.ylabel('smoothness_mean')\n",
    "plt.show()"
   ]
  },
  {
   "cell_type": "code",
   "execution_count": 14,
   "metadata": {},
   "outputs": [
    {
     "name": "stdout",
     "output_type": "stream",
     "text": [
      "0.5938375350140056\n",
      "malignant patients : 212\n",
      "benign patients : 357\n"
     ]
    }
   ],
   "source": [
    "#Defining the malignant and benign patients of the sets like above\n",
    "\n",
    "outlier_fraction = len(malignant)/float(len(benign))\n",
    "print(outlier_fraction)\n",
    "print(\"malignant patients : {}\" .format(len(malignant)))\n",
    "print(\"benign patients : {}\" .format(len(benign)))"
   ]
  },
  {
   "cell_type": "code",
   "execution_count": 15,
   "metadata": {},
   "outputs": [
    {
     "data": {
      "image/png": "[encoded data removed]",
      "text/plain": [
       "<Figure size 720x720 with 2 Axes>"
      ]
     },
     "metadata": {
      "needs_background": "light"
     },
     "output_type": "display_data"
    }
   ],
   "source": [
    "## Correlation\n",
    "import seaborn as sns\n",
    "\n",
    "#get correlations of each features in dataset\n",
    "corrmat = df.corr()\n",
    "top_corr_features = corrmat.index\n",
    "plt.figure(figsize=(10,10))\n",
    "#plot heat map\n",
    "g=sns.heatmap(df[top_corr_features].corr(),annot=True,cmap=\"RdYlGn\")"
   ]
  },
  {
   "cell_type": "code",
   "execution_count": 18,
   "metadata": {},
   "outputs": [],
   "source": [
    "##Define the outlier detection methods\n",
    "from sklearn.ensemble import IsolationForest\n",
    "from sklearn.neighbors import LocalOutlierFactor\n",
    "from sklearn.svm import OneClassSVM\n",
    "state = np.random.RandomState(1729)\n",
    "classifiers = {\n",
    "    \"Isolation Forest\":IsolationForest(n_estimators=100, max_samples=len(X), \n",
    "                                       contamination=outlier_fraction,random_state=state, verbose=0)\n",
    "   \n",
    "}\n",
    "\n",
    "#\"Local Outlier Factor\":LocalOutlierFactor(n_neighbors=20, algorithm='auto', \n",
    "#                                              leaf_size=30, metric='minkowski',\n",
    "#                                              p=2, metric_params=None, contamination=outlier_fraction),\n",
    "#    \"Support Vector Machine\":OneClassSVM(kernel='rbf', degree=3, gamma=0.1,nu=0.05, \n",
    "#                                         max_iter=-1, )"
   ]
  },
  {
   "cell_type": "code",
   "execution_count": 19,
   "metadata": {},
   "outputs": [
    {
     "data": {
      "text/plain": [
       "dict_items([('Isolation Forest', IsolationForest(behaviour='deprecated', bootstrap=False,\n",
       "                contamination=0.5938375350140056, max_features=1.0,\n",
       "                max_samples=569, n_estimators=100, n_jobs=None,\n",
       "                random_state=RandomState(MT19937) at 0xC9C8158, verbose=0,\n",
       "                warm_start=False))])"
      ]
     },
     "execution_count": 19,
     "metadata": {},
     "output_type": "execute_result"
    }
   ],
   "source": [
    "classifiers.items()"
   ]
  },
  {
   "cell_type": "code",
   "execution_count": 20,
   "metadata": {},
   "outputs": [
    {
     "name": "stdout",
     "output_type": "stream",
     "text": [
      "Isolation Forest: 180\n",
      "Accuracy Score :\n",
      "0.6836555360281195\n",
      "Classification Report :\n",
      "              precision    recall  f1-score   support\n",
      "\n",
      "           0       0.88      0.57      0.69       357\n",
      "           1       0.55      0.87      0.67       212\n",
      "\n",
      "    accuracy                           0.68       569\n",
      "   macro avg       0.72      0.72      0.68       569\n",
      "weighted avg       0.76      0.68      0.69       569\n",
      "\n"
     ]
    }
   ],
   "source": [
    "from sklearn.metrics import classification_report, accuracy_score\n",
    "\n",
    "n_outliers = len(malignant)\n",
    "for i, (clf_name,clf) in enumerate(classifiers.items()):\n",
    "    #Fit the data and tag outliers\n",
    "    if clf_name == \"Local Outlier Factor\":\n",
    "        y_pred = clf.fit_predict(X)\n",
    "        scores_prediction = clf.negative_outlier_factor_\n",
    "    elif clf_name == \"Support Vector Machine\":\n",
    "        clf.fit(X)\n",
    "        y_pred = clf.predict(X)\n",
    "    else:    \n",
    "        clf.fit(X)\n",
    "        scores_prediction = clf.decision_function(X)\n",
    "        y_pred = clf.predict(X)\n",
    "    #Reshape the prediction values to 0 for Valid transactions , 1 for Fraud transactions\n",
    "    y_pred[y_pred == 1] = 0\n",
    "    y_pred[y_pred == -1] = 1\n",
    "    n_errors = (y_pred != y).sum()\n",
    "    # Run Classification Metrics\n",
    "    print(\"{}: {}\".format(clf_name,n_errors))\n",
    "    print(\"Accuracy Score :\")\n",
    "    print(accuracy_score(y,y_pred))\n",
    "    print(\"Classification Report :\")\n",
    "    print(classification_report(y,y_pred))"
   ]
  },
  {
   "cell_type": "markdown",
   "metadata": {},
   "source": [
    "Liu F T, Kai M T, Zhou Z H. Isolation-Based Anomaly Detection. ACM, 2012."
   ]
  },
  {
   "cell_type": "code",
   "execution_count": 21,
   "metadata": {},
   "outputs": [],
   "source": [
    "# Create a custom 1-D lens with Isolation Forest\n",
    "model = ensemble.IsolationForest(random_state=1729)\n",
    "model.fit(X)\n",
    "lens1 = model.decision_function(X).reshape((X.shape[0], 1))  # decision_function(self, X) Average anomaly score of X of the base classifiers."
   ]
  },
  {
   "cell_type": "code",
   "execution_count": 22,
   "metadata": {},
   "outputs": [],
   "source": [
    "# Create another 1-D lens with L2-norm\n",
    "mapper = km.KeplerMapper(verbose=0)\n",
    "lens2 = mapper.fit_transform(X, projection=\"l2norm\")"
   ]
  },
  {
   "cell_type": "code",
   "execution_count": 23,
   "metadata": {},
   "outputs": [
    {
     "name": "stdout",
     "output_type": "stream",
     "text": [
      "\n",
      "..Projecting data using: l2norm\n"
     ]
    }
   ],
   "source": [
    "from sklearn import preprocessing\n",
    "projection = \"l2norm\"\n",
    "print(\"\\n..Projecting data using: %s\" % (projection))\n",
    "X_l2norm =  np.linalg.norm(X, axis=1).reshape((X.shape[0], 1))\n",
    "scaler = preprocessing.MinMaxScaler()\n",
    "lens2 = scaler.fit_transform(X_l2norm)"
   ]
  },
  {
   "cell_type": "code",
   "execution_count": 24,
   "metadata": {},
   "outputs": [
    {
     "data": {
      "text/plain": [
       "array([[-0.05587876,  0.42810257],\n",
       "       [ 0.05753702,  0.45004959],\n",
       "       [ 0.06728697,  0.39262707],\n",
       "       ...,\n",
       "       [ 0.07690604,  0.24959046],\n",
       "       [-0.06561871,  0.42004469],\n",
       "       [-0.01539551,  0.01915261]])"
      ]
     },
     "execution_count": 24,
     "metadata": {},
     "output_type": "execute_result"
    }
   ],
   "source": [
    "# Combine both lenses to get a 2-D [Isolation Forest, L^2-Norm] lens\n",
    "lens = np.c_[lens1, lens2]\n",
    "lens"
   ]
  },
  {
   "cell_type": "code",
   "execution_count": 25,
   "metadata": {},
   "outputs": [
    {
     "name": "stdout",
     "output_type": "stream",
     "text": [
      "(357, 2)\n",
      "(212, 2)\n"
     ]
    }
   ],
   "source": [
    "print(lens[df[\"diagnosis\"] == 0].shape)\n",
    "print(lens[df[\"diagnosis\"] == 1].shape)"
   ]
  },
  {
   "cell_type": "code",
   "execution_count": 67,
   "metadata": {},
   "outputs": [
    {
     "data": {
      "image/png": "[encoded data removed]",
      "text/plain": [
       "<Figure size 432x288 with 1 Axes>"
      ]
     },
     "metadata": {
      "needs_background": "light"
     },
     "output_type": "display_data"
    }
   ],
   "source": [
    "import matplotlib.pyplot as plt\n",
    "\n",
    "x_Isolate = lens[df[\"diagnosis\"] == 0][:, 0]\n",
    "y_l2norm = lens[df[\"diagnosis\"] == 0][:, 1]\n",
    "\n",
    "plt.scatter(x_Isolate, y_l2norm, c='coral')\n",
    "\n",
    "x_Isolate = lens[df[\"diagnosis\"] == 1][:, 0]\n",
    "y_l2norm = lens[df[\"diagnosis\"] == 1][:, 1]\n",
    "\n",
    "plt.scatter(x_Isolate, y_l2norm, c='lightblue')\n",
    "\n",
    "plt.title('Cluster of lens')\n",
    "plt.xlabel('Isolate Forest')\n",
    "plt.ylabel('l2norm')\n",
    "# plt.savefig('ScatterPlot_05.png')\n",
    "plt.show()"
   ]
  },
  {
   "cell_type": "code",
   "execution_count": 27,
   "metadata": {},
   "outputs": [],
   "source": [
    "# Define the simplicial complex\n",
    "scomplex = mapper.map(lens,\n",
    "                      X,\n",
    "                      nr_cubes=15,\n",
    "                      overlap_perc=0.7,\n",
    "                      clusterer=sklearn.cluster.KMeans(n_clusters=2,\n",
    "                                                       random_state=3471))"
   ]
  },
  {
   "cell_type": "code",
   "execution_count": 28,
   "metadata": {},
   "outputs": [
    {
     "data": {
      "text/plain": [
       "dict_keys(['nodes', 'links', 'simplices', 'meta_data', 'meta_nodes'])"
      ]
     },
     "execution_count": 28,
     "metadata": {},
     "output_type": "execute_result"
    }
   ],
   "source": [
    "scomplex.keys()"
   ]
  },
  {
   "cell_type": "code",
   "execution_count": 29,
   "metadata": {},
   "outputs": [],
   "source": [
    " # Prefix'ing the data with an ID column\n",
    "ids = np.array([x for x in range(lens.shape[0])])\n",
    "lens_ids = np.c_[ids, lens]\n",
    "from scipy.sparse import issparse\n",
    "issparse(X)\n",
    "X_ids = np.c_[ids, X]"
   ]
  },
  {
   "cell_type": "code",
   "execution_count": 30,
   "metadata": {},
   "outputs": [
    {
     "name": "stdout",
     "output_type": "stream",
     "text": [
      "(569, 2) (569, 3)\n",
      "(569, 31) (569, 32)\n"
     ]
    }
   ],
   "source": [
    "print(lens.shape, lens_ids.shape)\n",
    "print(X.shape, X_ids.shape)"
   ]
  },
  {
   "cell_type": "markdown",
   "metadata": {},
   "source": [
    "Cover"
   ]
  },
  {
   "cell_type": "code",
   "execution_count": 31,
   "metadata": {},
   "outputs": [],
   "source": [
    "# Cover\n",
    "# Cover(n_cubes=10, perc_overlap=0.1)\n",
    "# Cover scheme defines a list of elements\n",
    "# bins = self.cover.fit(lens_ids)\n",
    "\n",
    "# TODO: support indexing into any columns\n",
    "di = np.array(range(1, lens_ids.shape[1]))\n",
    "indexless_lens_ids = lens_ids[:, di]\n",
    "n_dims = indexless_lens_ids.shape[1]\n"
   ]
  },
  {
   "cell_type": "code",
   "execution_count": 33,
   "metadata": {},
   "outputs": [
    {
     "name": "stdout",
     "output_type": "stream",
     "text": [
      "(array([-0.19325022,  0.        ]), array([0.14843262, 1.        ]))\n",
      "[0.34168284 1.        ]\n"
     ]
    }
   ],
   "source": [
    " bounds = (np.min(lens, axis=0), np.max(lens, axis=0))\n",
    " ranges = bounds[1] - bounds[0]\n",
    " print(bounds)\n",
    " print(ranges)"
   ]
  },
  {
   "cell_type": "code",
   "execution_count": 34,
   "metadata": {},
   "outputs": [],
   "source": [
    "n_cubes = 5\n",
    "perc_overlap = 0.3"
   ]
  },
  {
   "cell_type": "code",
   "execution_count": 35,
   "metadata": {},
   "outputs": [],
   "source": [
    "from collections.abc import Iterable\n",
    "\n",
    "if isinstance(n_cubes, Iterable):\n",
    "    n_cubes = np.array(n_cubes)\n",
    "    assert (\n",
    "        len(n_cubes) == n_dims\n",
    "        ), \"Custom cubes in each dimension must match number of dimensions\"\n",
    "else:\n",
    "    n_cubes = np.repeat(n_cubes, n_dims)\n",
    "if isinstance(perc_overlap, Iterable):\n",
    "    perc_overlap = np.array(perc_overlap)\n",
    "    assert (\n",
    "        len(perc_overlap) == n_dims\n",
    "        ), \"Custom cubes in each dimension must match number of dimensions\"\n",
    "else:\n",
    "    perc_overlap = np.repeat(perc_overlap, n_dims)\n",
    "\n",
    "assert all(0.0 <= p <= 1.0 for p in perc_overlap), (\n",
    "    \"Each overlap percentage must be between 0.0 and 1.0., not %s\"\n",
    "    % perc_overlap\n",
    "    )"
   ]
  },
  {
   "cell_type": "code",
   "execution_count": 36,
   "metadata": {},
   "outputs": [
    {
     "name": "stdout",
     "output_type": "stream",
     "text": [
      "[5 5] [0.3 0.3]\n"
     ]
    }
   ],
   "source": [
    "print(n_cubes, perc_overlap)"
   ]
  },
  {
   "cell_type": "code",
   "execution_count": 37,
   "metadata": {},
   "outputs": [
    {
     "name": "stdout",
     "output_type": "stream",
     "text": [
      "[0.27334627 0.8       ]\n",
      "[0.03416828 0.1       ]\n",
      "[0.04881183 0.14285714]\n"
     ]
    }
   ],
   "source": [
    "inner_range = ((n_cubes - 1) / n_cubes) * ranges\n",
    "print(inner_range)\n",
    "inset = (ranges - inner_range) / 2\n",
    "print(inset)\n",
    "radius = ranges / (2 * (n_cubes) * (1 - perc_overlap))  # (1 - perc_overlap) * radius = inset (r)\n",
    "print(radius)"
   ]
  },
  {
   "cell_type": "code",
   "execution_count": 38,
   "metadata": {},
   "outputs": [
    {
     "data": {
      "text/plain": [
       "[array([-0.19325022,  0.        ]),\n",
       " array([0.14843262, 1.        ]),\n",
       " array([5, 5]),\n",
       " array([0.03416828, 0.1       ])]"
      ]
     },
     "execution_count": 38,
     "metadata": {},
     "output_type": "execute_result"
    }
   ],
   "source": [
    "zip_items = list(bounds)\n",
    "zip_items.extend([n_cubes, inset])\n",
    "zip_items"
   ]
  },
  {
   "cell_type": "code",
   "execution_count": 39,
   "metadata": {},
   "outputs": [
    {
     "name": "stdout",
     "output_type": "stream",
     "text": [
      "{(-0.19325021923497354, 0.14843261588938972, 5, 0.03416828351243631), (0.0, 1.0, 5, 0.09999999999999998)}\n"
     ]
    }
   ],
   "source": [
    "print(set(zip(*zip_items)))"
   ]
  },
  {
   "cell_type": "code",
   "execution_count": 40,
   "metadata": {},
   "outputs": [
    {
     "name": "stdout",
     "output_type": "stream",
     "text": [
      "[array([-0.15908194, -0.09074537, -0.0224088 ,  0.04592777,  0.11426433]), array([0.1, 0.3, 0.5, 0.7, 0.9])]\n"
     ]
    }
   ],
   "source": [
    "centers_per_dimension = [\n",
    "    np.linspace(b + r, c - r, num=n) for b, c, n, r in zip(*zip_items)\n",
    "    ]\n",
    "print(centers_per_dimension)"
   ]
  },
  {
   "cell_type": "code",
   "execution_count": 41,
   "metadata": {},
   "outputs": [
    {
     "data": {
      "text/plain": [
       "[array([-0.15908194,  0.1       ]),\n",
       " array([-0.15908194,  0.3       ]),\n",
       " array([-0.15908194,  0.5       ]),\n",
       " array([-0.15908194,  0.7       ]),\n",
       " array([-0.15908194,  0.9       ]),\n",
       " array([-0.09074537,  0.1       ]),\n",
       " array([-0.09074537,  0.3       ]),\n",
       " array([-0.09074537,  0.5       ]),\n",
       " array([-0.09074537,  0.7       ]),\n",
       " array([-0.09074537,  0.9       ]),\n",
       " array([-0.0224088,  0.1      ]),\n",
       " array([-0.0224088,  0.3      ]),\n",
       " array([-0.0224088,  0.5      ]),\n",
       " array([-0.0224088,  0.7      ]),\n",
       " array([-0.0224088,  0.9      ]),\n",
       " array([0.04592777, 0.1       ]),\n",
       " array([0.04592777, 0.3       ]),\n",
       " array([0.04592777, 0.5       ]),\n",
       " array([0.04592777, 0.7       ]),\n",
       " array([0.04592777, 0.9       ]),\n",
       " array([0.11426433, 0.1       ]),\n",
       " array([0.11426433, 0.3       ]),\n",
       " array([0.11426433, 0.5       ]),\n",
       " array([0.11426433, 0.7       ]),\n",
       " array([0.11426433, 0.9       ])]"
      ]
     },
     "execution_count": 41,
     "metadata": {},
     "output_type": "execute_result"
    }
   ],
   "source": [
    "from itertools import product\n",
    "\n",
    "centers = [np.array(c) for c in product(*centers_per_dimension)]\n",
    "centers"
   ]
  },
  {
   "cell_type": "code",
   "execution_count": 42,
   "metadata": {},
   "outputs": [
    {
     "data": {
      "text/plain": [
       "[(0, array([-0.15908194,  0.1       ])),\n",
       " (1, array([-0.15908194,  0.3       ])),\n",
       " (2, array([-0.15908194,  0.5       ])),\n",
       " (3, array([-0.15908194,  0.7       ])),\n",
       " (4, array([-0.15908194,  0.9       ])),\n",
       " (5, array([-0.09074537,  0.1       ])),\n",
       " (6, array([-0.09074537,  0.3       ])),\n",
       " (7, array([-0.09074537,  0.5       ])),\n",
       " (8, array([-0.09074537,  0.7       ])),\n",
       " (9, array([-0.09074537,  0.9       ])),\n",
       " (10, array([-0.0224088,  0.1      ])),\n",
       " (11, array([-0.0224088,  0.3      ])),\n",
       " (12, array([-0.0224088,  0.5      ])),\n",
       " (13, array([-0.0224088,  0.7      ])),\n",
       " (14, array([-0.0224088,  0.9      ])),\n",
       " (15, array([0.04592777, 0.1       ])),\n",
       " (16, array([0.04592777, 0.3       ])),\n",
       " (17, array([0.04592777, 0.5       ])),\n",
       " (18, array([0.04592777, 0.7       ])),\n",
       " (19, array([0.04592777, 0.9       ])),\n",
       " (20, array([0.11426433, 0.1       ])),\n",
       " (21, array([0.11426433, 0.3       ])),\n",
       " (22, array([0.11426433, 0.5       ])),\n",
       " (23, array([0.11426433, 0.7       ])),\n",
       " (24, array([0.11426433, 0.9       ]))]"
      ]
     },
     "execution_count": 42,
     "metadata": {},
     "output_type": "execute_result"
    }
   ],
   "source": [
    "list(enumerate(centers))"
   ]
  },
  {
   "cell_type": "code",
   "execution_count": 43,
   "metadata": {},
   "outputs": [
    {
     "name": "stdout",
     "output_type": "stream",
     "text": [
      "[-0.15908194  0.1       ]\n",
      "[0.04881183 0.14285714]\n",
      "[-0.20789377 -0.04285714] [-0.1102701   0.24285714]\n"
     ]
    }
   ],
   "source": [
    "center_0 = list(enumerate(centers))[0][1]\n",
    "lowerbounds_0, upperbounds_0 = center_0 - radius, center_0 + radius\n",
    "print(center_0)\n",
    "print(radius)\n",
    "print(lowerbounds_0, upperbounds_0)"
   ]
  },
  {
   "cell_type": "code",
   "execution_count": 44,
   "metadata": {},
   "outputs": [
    {
     "name": "stdout",
     "output_type": "stream",
     "text": [
      "(2, 3)\n"
     ]
    }
   ],
   "source": [
    "entries_0 = (lens_ids[:, di] >= lowerbounds_0) & (\n",
    "    lens_ids[:, di] <= upperbounds_0\n",
    ")\n",
    "hypercube_0 = lens_ids[np.invert(np.any(entries_0 == False, axis=1))]\n",
    "hypercube_0\n",
    "print(hypercube_0.shape)"
   ]
  },
  {
   "cell_type": "code",
   "execution_count": 45,
   "metadata": {},
   "outputs": [
    {
     "data": {
      "text/plain": [
       "[array([-0.15908194,  0.1       ]),\n",
       " array([-0.15908194,  0.3       ]),\n",
       " array([-0.15908194,  0.5       ]),\n",
       " array([-0.15908194,  0.7       ]),\n",
       " array([-0.15908194,  0.9       ]),\n",
       " array([-0.09074537,  0.1       ]),\n",
       " array([-0.09074537,  0.3       ]),\n",
       " array([-0.09074537,  0.5       ]),\n",
       " array([-0.09074537,  0.7       ]),\n",
       " array([-0.09074537,  0.9       ]),\n",
       " array([-0.0224088,  0.1      ]),\n",
       " array([-0.0224088,  0.3      ]),\n",
       " array([-0.0224088,  0.5      ]),\n",
       " array([-0.0224088,  0.7      ]),\n",
       " array([-0.0224088,  0.9      ]),\n",
       " array([0.04592777, 0.1       ]),\n",
       " array([0.04592777, 0.3       ]),\n",
       " array([0.04592777, 0.5       ]),\n",
       " array([0.04592777, 0.7       ]),\n",
       " array([0.04592777, 0.9       ]),\n",
       " array([0.11426433, 0.1       ]),\n",
       " array([0.11426433, 0.3       ]),\n",
       " array([0.11426433, 0.5       ]),\n",
       " array([0.11426433, 0.7       ]),\n",
       " array([0.11426433, 0.9       ])]"
      ]
     },
     "execution_count": 45,
     "metadata": {},
     "output_type": "execute_result"
    }
   ],
   "source": [
    "centers"
   ]
  },
  {
   "cell_type": "code",
   "execution_count": 46,
   "metadata": {},
   "outputs": [],
   "source": [
    "radius\n",
    "lowerbounds, upperbounds = centers - radius, centers + radius\n"
   ]
  },
  {
   "cell_type": "code",
   "execution_count": 47,
   "metadata": {},
   "outputs": [
    {
     "data": {
      "text/plain": [
       "array([[-0.20789377, -0.04285714],\n",
       "       [-0.20789377,  0.15714286],\n",
       "       [-0.20789377,  0.35714286],\n",
       "       [-0.20789377,  0.55714286],\n",
       "       [-0.20789377,  0.75714286],\n",
       "       [-0.1395572 , -0.04285714],\n",
       "       [-0.1395572 ,  0.15714286],\n",
       "       [-0.1395572 ,  0.35714286],\n",
       "       [-0.1395572 ,  0.55714286],\n",
       "       [-0.1395572 ,  0.75714286],\n",
       "       [-0.07122064, -0.04285714],\n",
       "       [-0.07122064,  0.15714286],\n",
       "       [-0.07122064,  0.35714286],\n",
       "       [-0.07122064,  0.55714286],\n",
       "       [-0.07122064,  0.75714286],\n",
       "       [-0.00288407, -0.04285714],\n",
       "       [-0.00288407,  0.15714286],\n",
       "       [-0.00288407,  0.35714286],\n",
       "       [-0.00288407,  0.55714286],\n",
       "       [-0.00288407,  0.75714286],\n",
       "       [ 0.0654525 , -0.04285714],\n",
       "       [ 0.0654525 ,  0.15714286],\n",
       "       [ 0.0654525 ,  0.35714286],\n",
       "       [ 0.0654525 ,  0.55714286],\n",
       "       [ 0.0654525 ,  0.75714286]])"
      ]
     },
     "execution_count": 47,
     "metadata": {},
     "output_type": "execute_result"
    }
   ],
   "source": [
    "lowerbounds"
   ]
  },
  {
   "cell_type": "code",
   "execution_count": 48,
   "metadata": {},
   "outputs": [
    {
     "data": {
      "text/plain": [
       "array([[-0.1102701 ,  0.24285714],\n",
       "       [-0.1102701 ,  0.44285714],\n",
       "       [-0.1102701 ,  0.64285714],\n",
       "       [-0.1102701 ,  0.84285714],\n",
       "       [-0.1102701 ,  1.04285714],\n",
       "       [-0.04193354,  0.24285714],\n",
       "       [-0.04193354,  0.44285714],\n",
       "       [-0.04193354,  0.64285714],\n",
       "       [-0.04193354,  0.84285714],\n",
       "       [-0.04193354,  1.04285714],\n",
       "       [ 0.02640303,  0.24285714],\n",
       "       [ 0.02640303,  0.44285714],\n",
       "       [ 0.02640303,  0.64285714],\n",
       "       [ 0.02640303,  0.84285714],\n",
       "       [ 0.02640303,  1.04285714],\n",
       "       [ 0.0947396 ,  0.24285714],\n",
       "       [ 0.0947396 ,  0.44285714],\n",
       "       [ 0.0947396 ,  0.64285714],\n",
       "       [ 0.0947396 ,  0.84285714],\n",
       "       [ 0.0947396 ,  1.04285714],\n",
       "       [ 0.16307617,  0.24285714],\n",
       "       [ 0.16307617,  0.44285714],\n",
       "       [ 0.16307617,  0.64285714],\n",
       "       [ 0.16307617,  0.84285714],\n",
       "       [ 0.16307617,  1.04285714]])"
      ]
     },
     "execution_count": 48,
     "metadata": {},
     "output_type": "execute_result"
    }
   ],
   "source": [
    "upperbounds"
   ]
  },
  {
   "cell_type": "code",
   "execution_count": 49,
   "metadata": {},
   "outputs": [
    {
     "data": {
      "text/plain": [
       "array([], shape=(0, 3), dtype=float64)"
      ]
     },
     "execution_count": 49,
     "metadata": {},
     "output_type": "execute_result"
    }
   ],
   "source": [
    "ll = 24\n",
    "entries = (lens_ids[:, di] >= lowerbounds[ll]) & (\n",
    "    lens_ids[:, di] <= upperbounds[ll]\n",
    ")\n",
    "hypercube = lens_ids[np.invert(np.any(entries == False, axis=1))]\n",
    "hypercube"
   ]
  },
  {
   "cell_type": "code",
   "execution_count": 50,
   "metadata": {},
   "outputs": [
    {
     "data": {
      "text/plain": [
       "[(0, array([-0.15908194,  0.1       ])),\n",
       " (1, array([-0.15908194,  0.3       ])),\n",
       " (2, array([-0.15908194,  0.5       ])),\n",
       " (3, array([-0.15908194,  0.7       ])),\n",
       " (4, array([-0.15908194,  0.9       ])),\n",
       " (5, array([-0.09074537,  0.1       ])),\n",
       " (6, array([-0.09074537,  0.3       ])),\n",
       " (7, array([-0.09074537,  0.5       ])),\n",
       " (8, array([-0.09074537,  0.7       ])),\n",
       " (9, array([-0.09074537,  0.9       ])),\n",
       " (10, array([-0.0224088,  0.1      ])),\n",
       " (11, array([-0.0224088,  0.3      ])),\n",
       " (12, array([-0.0224088,  0.5      ])),\n",
       " (13, array([-0.0224088,  0.7      ])),\n",
       " (14, array([-0.0224088,  0.9      ])),\n",
       " (15, array([0.04592777, 0.1       ])),\n",
       " (16, array([0.04592777, 0.3       ])),\n",
       " (17, array([0.04592777, 0.5       ])),\n",
       " (18, array([0.04592777, 0.7       ])),\n",
       " (19, array([0.04592777, 0.9       ])),\n",
       " (20, array([0.11426433, 0.1       ])),\n",
       " (21, array([0.11426433, 0.3       ])),\n",
       " (22, array([0.11426433, 0.5       ])),\n",
       " (23, array([0.11426433, 0.7       ])),\n",
       " (24, array([0.11426433, 0.9       ]))]"
      ]
     },
     "execution_count": 50,
     "metadata": {},
     "output_type": "execute_result"
    }
   ],
   "source": [
    "list(enumerate(centers))"
   ]
  },
  {
   "cell_type": "code",
   "execution_count": 51,
   "metadata": {},
   "outputs": [],
   "source": [
    "def transform_single(data, center, i=0):\n",
    "\n",
    "        lowerbounds, upperbounds = center - radius, center + radius\n",
    "\n",
    "        # Slice the hypercube\n",
    "        entries = (data[:, di] >= lowerbounds) & (\n",
    "            data[:, di] <= upperbounds\n",
    "        )\n",
    "        hypercube = data[np.invert(np.any(entries == False, axis=1))]\n",
    "\n",
    "        return hypercube"
   ]
  },
  {
   "cell_type": "code",
   "execution_count": 52,
   "metadata": {},
   "outputs": [],
   "source": [
    "hypercubes = [\n",
    "    transform_single(lens_ids, cube, i) for i, cube in enumerate(centers)\n",
    "]"
   ]
  },
  {
   "cell_type": "code",
   "execution_count": 53,
   "metadata": {},
   "outputs": [
    {
     "name": "stdout",
     "output_type": "stream",
     "text": [
      "[2, 1, 3, 1, 1, 6, 7, 6, 4, 1, 40, 27, 20, 8, 0, 144, 125, 53, 2, 0, 343, 129, 15, 0, 0]\n"
     ]
    }
   ],
   "source": [
    "print(list(map(len, hypercubes)))"
   ]
  },
  {
   "cell_type": "code",
   "execution_count": 54,
   "metadata": {},
   "outputs": [
    {
     "name": "stdout",
     "output_type": "stream",
     "text": [
      "[2, 1, 3, 1, 1, 6, 7, 6, 4, 1, 40, 27, 20, 8, 144, 125, 53, 2, 343, 129, 15]\n"
     ]
    }
   ],
   "source": [
    "hypercubes = [cube for cube in hypercubes if len(cube)]\n",
    "print(list(map(len, hypercubes)))"
   ]
  },
  {
   "cell_type": "code",
   "execution_count": 57,
   "metadata": {},
   "outputs": [
    {
     "name": "stdout",
     "output_type": "stream",
     "text": [
      "[[ 3.00000000e+00 -1.27502616e-01  9.60674965e-02]\n",
      " [ 9.00000000e+00 -6.13120339e-02  1.31553135e-01]\n",
      " [ 6.80000000e+01 -5.63325005e-02  3.71716378e-02]\n",
      " [ 7.10000000e+01 -5.25827626e-02  2.97930092e-02]\n",
      " [ 1.90000000e+02 -9.09623325e-02  1.57130726e-01]\n",
      " [ 3.79000000e+02 -5.12294558e-02  8.26540898e-02]]\n"
     ]
    },
    {
     "data": {
      "text/plain": [
       "True"
      ]
     },
     "execution_count": 57,
     "metadata": {},
     "output_type": "execute_result"
    }
   ],
   "source": [
    "min_cluster_samples = 2\n",
    "hypercube = hypercubes[5]\n",
    "print(hypercube)\n",
    "hypercube.shape[0]>= min_cluster_samples"
   ]
  },
  {
   "cell_type": "code",
   "execution_count": 58,
   "metadata": {},
   "outputs": [
    {
     "data": {
      "text/plain": [
       "array([  3.,   9.,  68.,  71., 190., 379.])"
      ]
     },
     "execution_count": 58,
     "metadata": {},
     "output_type": "execute_result"
    }
   ],
   "source": [
    "hypercube[:,0]"
   ]
  },
  {
   "cell_type": "code",
   "execution_count": 59,
   "metadata": {},
   "outputs": [
    {
     "name": "stdout",
     "output_type": "stream",
     "text": [
      "[3, 9, 68, 71, 190, 379]\n"
     ]
    },
    {
     "data": {
      "text/plain": [
       "(6, 31)"
      ]
     },
     "execution_count": 59,
     "metadata": {},
     "output_type": "execute_result"
    }
   ],
   "source": [
    "ids = [int(nn) for nn in hypercube[:, 0]]\n",
    "print(ids)  \n",
    "X_cube = X[ids]  \n",
    "X_cube.shape           "
   ]
  },
  {
   "cell_type": "code",
   "execution_count": 60,
   "metadata": {},
   "outputs": [
    {
     "data": {
      "text/plain": [
       "(6, 30)"
      ]
     },
     "execution_count": 60,
     "metadata": {},
     "output_type": "execute_result"
    }
   ],
   "source": [
    "fit_data = X_cube[:, 1:]\n",
    "fit_data.shape"
   ]
  },
  {
   "cell_type": "markdown",
   "metadata": {},
   "source": [
    "Cluster"
   ]
  },
  {
   "cell_type": "code",
   "execution_count": 61,
   "metadata": {},
   "outputs": [
    {
     "data": {
      "text/plain": [
       "{'algorithm': 'auto',\n",
       " 'copy_x': True,\n",
       " 'init': 'k-means++',\n",
       " 'max_iter': 300,\n",
       " 'n_clusters': 2,\n",
       " 'n_init': 10,\n",
       " 'n_jobs': None,\n",
       " 'precompute_distances': 'auto',\n",
       " 'random_state': 3471,\n",
       " 'tol': 0.0001,\n",
       " 'verbose': 0}"
      ]
     },
     "execution_count": 61,
     "metadata": {},
     "output_type": "execute_result"
    }
   ],
   "source": [
    "from sklearn import cluster\n",
    "clusterer = sklearn.cluster.KMeans(n_clusters=2, random_state=3471)\n",
    "cluster_params = clusterer.get_params()\n",
    "cluster_params"
   ]
  },
  {
   "cell_type": "code",
   "execution_count": 62,
   "metadata": {},
   "outputs": [
    {
     "name": "stdout",
     "output_type": "stream",
     "text": [
      "[0 0 1 1 0 0]\n",
      "   > Found 2 clusters in hypercube 5.\n"
     ]
    }
   ],
   "source": [
    "cluster_predictions = clusterer.fit_predict(fit_data) \n",
    "print(cluster_predictions)\n",
    "print(\n",
    "    \"   > Found %s clusters in hypercube %s.\"\n",
    "    % (\n",
    "        np.unique(\n",
    "            cluster_predictions[cluster_predictions > -1]\n",
    "        ).shape[0], 5\n",
    "    )\n",
    ")\n"
   ]
  },
  {
   "cell_type": "code",
   "execution_count": 70,
   "metadata": {},
   "outputs": [
    {
     "data": {
      "text/plain": [
       "array([1, 1, 0, 0, 1, 1], dtype=int64)"
      ]
     },
     "execution_count": 70,
     "metadata": {},
     "output_type": "execute_result"
    }
   ],
   "source": [
    "y[ids]"
   ]
  },
  {
   "cell_type": "code",
   "execution_count": 71,
   "metadata": {},
   "outputs": [
    {
     "data": {
      "text/plain": [
       "array([0, 1])"
      ]
     },
     "execution_count": 71,
     "metadata": {},
     "output_type": "execute_result"
    }
   ],
   "source": [
    "np.unique(cluster_predictions)"
   ]
  },
  {
   "cell_type": "code",
   "execution_count": 72,
   "metadata": {},
   "outputs": [
    {
     "data": {
      "text/plain": [
       "defaultdict(list, {'cube5_cluster0': [3, 9, 190, 379]})"
      ]
     },
     "execution_count": 72,
     "metadata": {},
     "output_type": "execute_result"
    }
   ],
   "source": [
    "from collections import defaultdict\n",
    "\n",
    "nodes = defaultdict(list)\n",
    "pred = 0\n",
    "cluster_id = \"cube5_cluster0\"\n",
    "nodes[cluster_id] = hypercube[:, 0][cluster_predictions == pred].astype(int).tolist()\n",
    "nodes"
   ]
  },
  {
   "cell_type": "code",
   "execution_count": 74,
   "metadata": {},
   "outputs": [],
   "source": [
    "precomputed = False\n",
    "nodes = defaultdict(list)\n",
    "for i, hypercube in enumerate(hypercubes):\n",
    "    if hypercube.shape[0] >= min_cluster_samples:                \n",
    "        ids = [int(nn) for nn in hypercube[:, 0]]\n",
    "        X_cube = X[ids]\n",
    "\n",
    "        fit_data = X_cube[:, 1:]\n",
    "        if precomputed:\n",
    "            fit_data = fit_data[:, ids]\n",
    "\n",
    "        cluster_predictions = clusterer.fit_predict(fit_data)      \n",
    "        \n",
    "        for pred in np.unique(cluster_predictions):                    \n",
    "            if pred != -1 and not np.isnan(pred):  \n",
    "                cluster_id = \"cube{}_cluster{}\".format(i, int(pred))\n",
    "                        \n",
    "                nodes[cluster_id] = hypercube[:, 0][cluster_predictions == pred].astype(int).tolist()"
   ]
  },
  {
   "cell_type": "code",
   "execution_count": 75,
   "metadata": {},
   "outputs": [],
   "source": [
    "from kmapper.kmapper import KeplerMapper"
   ]
  },
  {
   "cell_type": "code",
   "execution_count": 76,
   "metadata": {},
   "outputs": [],
   "source": [
    "def _remove_duplicate_nodes(nodes):\n",
    "\n",
    "        # invert node list and merge duplicate nodes\n",
    "        deduped_items = defaultdict(list)\n",
    "        for node_id, items in nodes.items():\n",
    "            deduped_items[frozenset(items)].append(node_id)\n",
    "\n",
    "        deduped_nodes = {\n",
    "            \"|\".join(node_id_list): list(frozen_items)\n",
    "            for frozen_items, node_id_list in deduped_items.items()\n",
    "        }\n",
    "\n",
    "        return deduped_nodes"
   ]
  },
  {
   "cell_type": "code",
   "execution_count": 77,
   "metadata": {},
   "outputs": [
    {
     "name": "stdout",
     "output_type": "stream",
     "text": [
      "[14, 14, 14, 14, 14, 14, 14, 29, 14, 14, 14, 15, 15, 15, 15, 15, 15, 15, 15, 15, 15, 15, 15, 15, 15, 15, 15, 15, 15, 15, 15, 15, 15]\n"
     ]
    }
   ],
   "source": [
    "nodes = _remove_duplicate_nodes(nodes)\n",
    "print(list(map(len, nodes)))"
   ]
  },
  {
   "cell_type": "code",
   "execution_count": 79,
   "metadata": {},
   "outputs": [],
   "source": [
    "import itertools\n",
    "\n",
    "\n",
    "def compute(nodes, min_intersection=1):\n",
    "        \"\"\"Helper function to find edges of the overlapping clusters.\n",
    "\n",
    "        Parameters\n",
    "        ----------\n",
    "        nodes:\n",
    "            A dictionary with entires `{node id}:{list of ids in node}`\n",
    "\n",
    "        Returns\n",
    "        -------\n",
    "        edges:\n",
    "            A 1-skeleton of the nerve (intersecting  nodes)\n",
    "\n",
    "        simplicies: \n",
    "            Complete list of simplices\n",
    "\n",
    "        \"\"\"\n",
    "\n",
    "        result = defaultdict(list)\n",
    "\n",
    "        # Create links when clusters from different hypercubes have members with the same sample id.\n",
    "        candidates = itertools.combinations(nodes.keys(), 2)     # len(candidates) = from len(nodes.key()) pick 2\n",
    "        for candidate in candidates:\n",
    "            # if there are non-unique members in the union\n",
    "            if (\n",
    "                len(set(nodes[candidate[0]]).intersection(nodes[candidate[1]]))\n",
    "                >= min_intersection\n",
    "            ):\n",
    "                result[candidate[0]].append(candidate[1])\n",
    "\n",
    "        edges = [[x, end] for x in result for end in result[x]]\n",
    "        simplices = [[n] for n in nodes] + edges\n",
    "        return result, simplices\n"
   ]
  },
  {
   "cell_type": "code",
   "execution_count": 80,
   "metadata": {},
   "outputs": [
    {
     "data": {
      "text/plain": [
       "defaultdict(list,\n",
       "            {'cube0_cluster1': ['cube5_cluster0'],\n",
       "             'cube2_cluster0': ['cube7_cluster1'],\n",
       "             'cube2_cluster1': ['cube6_cluster1|cube7_cluster0'],\n",
       "             'cube5_cluster0': ['cube10_cluster0', 'cube10_cluster1'],\n",
       "             'cube5_cluster1': ['cube10_cluster1'],\n",
       "             'cube6_cluster0': ['cube11_cluster0'],\n",
       "             'cube6_cluster1|cube7_cluster0': ['cube11_cluster1',\n",
       "              'cube12_cluster0'],\n",
       "             'cube7_cluster1': ['cube8_cluster1'],\n",
       "             'cube8_cluster1': ['cube13_cluster1'],\n",
       "             'cube10_cluster0': ['cube11_cluster0',\n",
       "              'cube14_cluster0',\n",
       "              'cube14_cluster1',\n",
       "              'cube15_cluster1'],\n",
       "             'cube10_cluster1': ['cube14_cluster1'],\n",
       "             'cube11_cluster0': ['cube14_cluster0',\n",
       "              'cube15_cluster0',\n",
       "              'cube15_cluster1'],\n",
       "             'cube11_cluster1': ['cube12_cluster0',\n",
       "              'cube15_cluster0',\n",
       "              'cube16_cluster0'],\n",
       "             'cube12_cluster0': ['cube15_cluster0',\n",
       "              'cube16_cluster0',\n",
       "              'cube16_cluster1'],\n",
       "             'cube12_cluster1': ['cube13_cluster0',\n",
       "              'cube16_cluster1',\n",
       "              'cube17_cluster0',\n",
       "              'cube17_cluster1'],\n",
       "             'cube13_cluster0': ['cube16_cluster1',\n",
       "              'cube17_cluster0',\n",
       "              'cube17_cluster1'],\n",
       "             'cube14_cluster0': ['cube15_cluster1',\n",
       "              'cube18_cluster0',\n",
       "              'cube18_cluster1',\n",
       "              'cube19_cluster0'],\n",
       "             'cube14_cluster1': ['cube18_cluster0'],\n",
       "             'cube15_cluster0': ['cube16_cluster0',\n",
       "              'cube16_cluster1',\n",
       "              'cube19_cluster1',\n",
       "              'cube20_cluster0',\n",
       "              'cube20_cluster1'],\n",
       "             'cube15_cluster1': ['cube18_cluster1',\n",
       "              'cube19_cluster0',\n",
       "              'cube19_cluster1'],\n",
       "             'cube16_cluster0': ['cube19_cluster1',\n",
       "              'cube20_cluster0',\n",
       "              'cube20_cluster1'],\n",
       "             'cube16_cluster1': ['cube17_cluster0',\n",
       "              'cube17_cluster1',\n",
       "              'cube19_cluster1',\n",
       "              'cube20_cluster0'],\n",
       "             'cube18_cluster1': ['cube19_cluster0'],\n",
       "             'cube19_cluster1': ['cube20_cluster0', 'cube20_cluster1']})"
      ]
     },
     "execution_count": 80,
     "metadata": {},
     "output_type": "execute_result"
    }
   ],
   "source": [
    "# Nerve\n",
    "links, simplices = compute(nodes)\n",
    "links"
   ]
  },
  {
   "cell_type": "code",
   "execution_count": 81,
   "metadata": {},
   "outputs": [],
   "source": [
    "result = defaultdict(list)\n",
    "candidates = itertools.combinations(nodes.keys(), 2)\n",
    "for candidate in candidates:\n",
    "    if (\n",
    "        len(set(nodes[candidate[0]]).intersection(nodes[candidate[1]]))\n",
    "        >= 1\n",
    "        ):\n",
    "        result[candidate[0]].append(candidate[1])"
   ]
  },
  {
   "cell_type": "code",
   "execution_count": 82,
   "metadata": {},
   "outputs": [
    {
     "data": {
      "text/plain": [
       "['cube5_cluster0']"
      ]
     },
     "execution_count": 82,
     "metadata": {},
     "output_type": "execute_result"
    }
   ],
   "source": [
    "result['cube0_cluster1']"
   ]
  },
  {
   "cell_type": "code",
   "execution_count": 83,
   "metadata": {},
   "outputs": [
    {
     "data": {
      "text/plain": [
       "[['cube0_cluster1', 'cube5_cluster0'],\n",
       " ['cube2_cluster0', 'cube7_cluster1'],\n",
       " ['cube2_cluster1', 'cube6_cluster1|cube7_cluster0'],\n",
       " ['cube5_cluster0', 'cube10_cluster0'],\n",
       " ['cube5_cluster0', 'cube10_cluster1'],\n",
       " ['cube5_cluster1', 'cube10_cluster1'],\n",
       " ['cube6_cluster0', 'cube11_cluster0'],\n",
       " ['cube6_cluster1|cube7_cluster0', 'cube11_cluster1'],\n",
       " ['cube6_cluster1|cube7_cluster0', 'cube12_cluster0'],\n",
       " ['cube7_cluster1', 'cube8_cluster1'],\n",
       " ['cube8_cluster1', 'cube13_cluster1'],\n",
       " ['cube10_cluster0', 'cube11_cluster0'],\n",
       " ['cube10_cluster0', 'cube14_cluster0'],\n",
       " ['cube10_cluster0', 'cube14_cluster1'],\n",
       " ['cube10_cluster0', 'cube15_cluster1'],\n",
       " ['cube10_cluster1', 'cube14_cluster1'],\n",
       " ['cube11_cluster0', 'cube14_cluster0'],\n",
       " ['cube11_cluster0', 'cube15_cluster0'],\n",
       " ['cube11_cluster0', 'cube15_cluster1'],\n",
       " ['cube11_cluster1', 'cube12_cluster0'],\n",
       " ['cube11_cluster1', 'cube15_cluster0'],\n",
       " ['cube11_cluster1', 'cube16_cluster0'],\n",
       " ['cube12_cluster0', 'cube15_cluster0'],\n",
       " ['cube12_cluster0', 'cube16_cluster0'],\n",
       " ['cube12_cluster0', 'cube16_cluster1'],\n",
       " ['cube12_cluster1', 'cube13_cluster0'],\n",
       " ['cube12_cluster1', 'cube16_cluster1'],\n",
       " ['cube12_cluster1', 'cube17_cluster0'],\n",
       " ['cube12_cluster1', 'cube17_cluster1'],\n",
       " ['cube13_cluster0', 'cube16_cluster1'],\n",
       " ['cube13_cluster0', 'cube17_cluster0'],\n",
       " ['cube13_cluster0', 'cube17_cluster1'],\n",
       " ['cube14_cluster0', 'cube15_cluster1'],\n",
       " ['cube14_cluster0', 'cube18_cluster0'],\n",
       " ['cube14_cluster0', 'cube18_cluster1'],\n",
       " ['cube14_cluster0', 'cube19_cluster0'],\n",
       " ['cube14_cluster1', 'cube18_cluster0'],\n",
       " ['cube15_cluster0', 'cube16_cluster0'],\n",
       " ['cube15_cluster0', 'cube16_cluster1'],\n",
       " ['cube15_cluster0', 'cube19_cluster1'],\n",
       " ['cube15_cluster0', 'cube20_cluster0'],\n",
       " ['cube15_cluster0', 'cube20_cluster1'],\n",
       " ['cube15_cluster1', 'cube18_cluster1'],\n",
       " ['cube15_cluster1', 'cube19_cluster0'],\n",
       " ['cube15_cluster1', 'cube19_cluster1'],\n",
       " ['cube16_cluster0', 'cube19_cluster1'],\n",
       " ['cube16_cluster0', 'cube20_cluster0'],\n",
       " ['cube16_cluster0', 'cube20_cluster1'],\n",
       " ['cube16_cluster1', 'cube17_cluster0'],\n",
       " ['cube16_cluster1', 'cube17_cluster1'],\n",
       " ['cube16_cluster1', 'cube19_cluster1'],\n",
       " ['cube16_cluster1', 'cube20_cluster0'],\n",
       " ['cube18_cluster1', 'cube19_cluster0'],\n",
       " ['cube19_cluster1', 'cube20_cluster0'],\n",
       " ['cube19_cluster1', 'cube20_cluster1']]"
      ]
     },
     "execution_count": 83,
     "metadata": {},
     "output_type": "execute_result"
    }
   ],
   "source": [
    "edges = [[x, end] for x in result for end in result[x]]\n",
    "edges"
   ]
  },
  {
   "cell_type": "code",
   "execution_count": 84,
   "metadata": {},
   "outputs": [
    {
     "data": {
      "text/plain": [
       "['cube0_cluster1']"
      ]
     },
     "execution_count": 84,
     "metadata": {},
     "output_type": "execute_result"
    }
   ],
   "source": [
    "simplices = [[n] for n in nodes] + edges\n",
    "simplices[1]"
   ]
  },
  {
   "cell_type": "code",
   "execution_count": 85,
   "metadata": {},
   "outputs": [
    {
     "data": {
      "text/plain": [
       "[['cube0_cluster0'],\n",
       " ['cube0_cluster1'],\n",
       " ['cube2_cluster0'],\n",
       " ['cube2_cluster1'],\n",
       " ['cube5_cluster0'],\n",
       " ['cube5_cluster1'],\n",
       " ['cube6_cluster0'],\n",
       " ['cube6_cluster1|cube7_cluster0'],\n",
       " ['cube7_cluster1'],\n",
       " ['cube8_cluster0'],\n",
       " ['cube8_cluster1'],\n",
       " ['cube10_cluster0'],\n",
       " ['cube10_cluster1'],\n",
       " ['cube11_cluster0'],\n",
       " ['cube11_cluster1'],\n",
       " ['cube12_cluster0'],\n",
       " ['cube12_cluster1'],\n",
       " ['cube13_cluster0'],\n",
       " ['cube13_cluster1'],\n",
       " ['cube14_cluster0'],\n",
       " ['cube14_cluster1'],\n",
       " ['cube15_cluster0'],\n",
       " ['cube15_cluster1'],\n",
       " ['cube16_cluster0'],\n",
       " ['cube16_cluster1'],\n",
       " ['cube17_cluster0'],\n",
       " ['cube17_cluster1'],\n",
       " ['cube18_cluster0'],\n",
       " ['cube18_cluster1'],\n",
       " ['cube19_cluster0'],\n",
       " ['cube19_cluster1'],\n",
       " ['cube20_cluster0'],\n",
       " ['cube20_cluster1']]"
      ]
     },
     "execution_count": 85,
     "metadata": {},
     "output_type": "execute_result"
    }
   ],
   "source": [
    "[[n] for n in nodes]"
   ]
  },
  {
   "cell_type": "code",
   "execution_count": 86,
   "metadata": {},
   "outputs": [
    {
     "data": {
      "text/plain": [
       "{15, 38, 138, 203, 257, 259, 290, 351, 430, 562}"
      ]
     },
     "execution_count": 86,
     "metadata": {},
     "output_type": "execute_result"
    }
   ],
   "source": [
    "result = defaultdict(list)\n",
    "set(nodes['cube10_cluster0']).intersection(nodes['cube11_cluster0'])"
   ]
  },
  {
   "cell_type": "code",
   "execution_count": 87,
   "metadata": {},
   "outputs": [
    {
     "data": {
      "text/plain": [
       "dict_keys(['nodes', 'links', 'simplices', 'meta_data', 'meta_nodes'])"
      ]
     },
     "execution_count": 87,
     "metadata": {},
     "output_type": "execute_result"
    }
   ],
   "source": [
    "scomplex.keys()"
   ]
  },
  {
   "cell_type": "code",
   "execution_count": 88,
   "metadata": {},
   "outputs": [
    {
     "data": {
      "text/plain": [
       "defaultdict(list, {})"
      ]
     },
     "execution_count": 88,
     "metadata": {},
     "output_type": "execute_result"
    }
   ],
   "source": [
    "scomplex['meta_nodes']"
   ]
  },
  {
   "cell_type": "code",
   "execution_count": 89,
   "metadata": {
    "tags": [
     "outputPrepend"
    ]
   },
   "outputs": [
    {
     "data": {
      "text/plain": [
       "[108]"
      ]
     },
     "execution_count": 89,
     "metadata": {},
     "output_type": "execute_result"
    }
   ],
   "source": [
    "scomplex['nodes']['cube15_cluster1']"
   ]
  },
  {
   "cell_type": "code",
   "execution_count": 50,
   "metadata": {},
   "outputs": [
    {
     "data": {
      "text/plain": [
       "dict_keys(['cube5_cluster1', 'cube5_cluster0', 'cube10_cluster1', 'cube10_cluster0', 'cube11_cluster1', 'cube11_cluster0', 'cube13_cluster1', 'cube13_cluster0', 'cube14_cluster1', 'cube14_cluster0', 'cube15_cluster1', 'cube15_cluster0', 'cube16_cluster0', 'cube16_cluster1', 'cube21_cluster1', 'cube21_cluster0', 'cube22_cluster1', 'cube22_cluster0', 'cube25_cluster1', 'cube25_cluster0', 'cube26_cluster1', 'cube26_cluster0', 'cube27_cluster1', 'cube27_cluster0', 'cube28_cluster1', 'cube28_cluster0', 'cube29_cluster1', 'cube29_cluster0', 'cube30_cluster0', 'cube30_cluster1', 'cube33_cluster1', 'cube33_cluster0', 'cube34_cluster0', 'cube34_cluster1', 'cube35_cluster1', 'cube35_cluster0', 'cube36_cluster1', 'cube36_cluster0', 'cube37_cluster1', 'cube37_cluster0', 'cube38_cluster1', 'cube38_cluster0', 'cube39_cluster1', 'cube39_cluster0', 'cube41_cluster1', 'cube41_cluster0', 'cube42_cluster0', 'cube42_cluster1', 'cube43_cluster1', 'cube43_cluster0', 'cube44_cluster1', 'cube45_cluster1', 'cube45_cluster0', 'cube46_cluster0', 'cube46_cluster1', 'cube47_cluster0', 'cube47_cluster1', 'cube48_cluster1', 'cube48_cluster0', 'cube49_cluster1', 'cube49_cluster0', 'cube50_cluster1', 'cube50_cluster0', 'cube51_cluster0', 'cube51_cluster1', 'cube52_cluster1', 'cube52_cluster0', 'cube53_cluster1', 'cube53_cluster0', 'cube56_cluster1', 'cube56_cluster0', 'cube57_cluster1', 'cube57_cluster0', 'cube58_cluster1', 'cube58_cluster0', 'cube59_cluster0', 'cube59_cluster1', 'cube60_cluster1', 'cube60_cluster0', 'cube61_cluster0', 'cube61_cluster1', 'cube62_cluster0', 'cube62_cluster1', 'cube63_cluster0', 'cube63_cluster1', 'cube64_cluster0', 'cube64_cluster1', 'cube65_cluster1', 'cube65_cluster0', 'cube66_cluster0', 'cube66_cluster1', 'cube67_cluster1', 'cube67_cluster0', 'cube68_cluster1', 'cube68_cluster0', 'cube69_cluster0', 'cube69_cluster1', 'cube70_cluster1', 'cube70_cluster0', 'cube71_cluster0', 'cube72_cluster0', 'cube72_cluster1', 'cube73_cluster1', 'cube73_cluster0', 'cube74_cluster1', 'cube74_cluster0', 'cube75_cluster0', 'cube75_cluster1', 'cube76_cluster1', 'cube76_cluster0', 'cube77_cluster0', 'cube77_cluster1', 'cube78_cluster0', 'cube78_cluster1', 'cube79_cluster0', 'cube79_cluster1', 'cube80_cluster0', 'cube80_cluster1', 'cube81_cluster0', 'cube81_cluster1', 'cube82_cluster0', 'cube82_cluster1', 'cube83_cluster1', 'cube83_cluster0', 'cube85_cluster0', 'cube85_cluster1', 'cube86_cluster0', 'cube86_cluster1', 'cube87_cluster0', 'cube87_cluster1', 'cube88_cluster0', 'cube88_cluster1', 'cube89_cluster0', 'cube89_cluster1', 'cube90_cluster0', 'cube90_cluster1', 'cube91_cluster1', 'cube91_cluster0', 'cube92_cluster1', 'cube92_cluster0', 'cube93_cluster0', 'cube93_cluster1', 'cube94_cluster0', 'cube94_cluster1', 'cube95_cluster0', 'cube95_cluster1', 'cube96_cluster1', 'cube96_cluster0', 'cube98_cluster0', 'cube98_cluster1', 'cube99_cluster1', 'cube99_cluster0', 'cube100_cluster1', 'cube100_cluster0', 'cube101_cluster0', 'cube101_cluster1', 'cube102_cluster0', 'cube102_cluster1', 'cube103_cluster1', 'cube103_cluster0', 'cube104_cluster0', 'cube104_cluster1', 'cube105_cluster0', 'cube105_cluster1', 'cube106_cluster1', 'cube106_cluster0', 'cube107_cluster0', 'cube107_cluster1', 'cube108_cluster0', 'cube108_cluster1', 'cube109_cluster1', 'cube111_cluster1', 'cube111_cluster0', 'cube112_cluster1', 'cube112_cluster0', 'cube113_cluster0', 'cube113_cluster1', 'cube114_cluster0', 'cube114_cluster1', 'cube115_cluster1', 'cube115_cluster0', 'cube116_cluster1', 'cube116_cluster0', 'cube117_cluster1', 'cube117_cluster0', 'cube118_cluster0', 'cube118_cluster1', 'cube119_cluster0', 'cube119_cluster1', 'cube120_cluster0', 'cube123_cluster1', 'cube123_cluster0', 'cube124_cluster0', 'cube124_cluster1', 'cube125_cluster1', 'cube125_cluster0', 'cube126_cluster0', 'cube126_cluster1', 'cube127_cluster0', 'cube127_cluster1', 'cube128_cluster0', 'cube128_cluster1', 'cube129_cluster1', 'cube129_cluster0', 'cube130_cluster1', 'cube130_cluster0', 'cube131_cluster1', 'cube131_cluster0', 'cube133_cluster0', 'cube133_cluster1', 'cube134_cluster1', 'cube134_cluster0', 'cube135_cluster0', 'cube135_cluster1', 'cube136_cluster0', 'cube136_cluster1', 'cube137_cluster1', 'cube137_cluster0', 'cube138_cluster1', 'cube138_cluster0', 'cube139_cluster1', 'cube139_cluster0', 'cube140_cluster0', 'cube140_cluster1', 'cube141_cluster0', 'cube142_cluster1', 'cube142_cluster0', 'cube143_cluster1', 'cube143_cluster0', 'cube144_cluster0', 'cube144_cluster1', 'cube145_cluster0', 'cube145_cluster1', 'cube146_cluster0', 'cube146_cluster1', 'cube147_cluster1', 'cube147_cluster0', 'cube148_cluster1', 'cube148_cluster0', 'cube149_cluster0', 'cube149_cluster1', 'cube151_cluster0', 'cube151_cluster1', 'cube152_cluster1', 'cube152_cluster0', 'cube153_cluster0', 'cube153_cluster1', 'cube154_cluster0', 'cube154_cluster1', 'cube155_cluster1', 'cube155_cluster0', 'cube156_cluster1', 'cube156_cluster0', 'cube157_cluster1', 'cube157_cluster0', 'cube159_cluster0', 'cube159_cluster1', 'cube160_cluster1', 'cube160_cluster0', 'cube161_cluster1', 'cube161_cluster0', 'cube162_cluster1', 'cube162_cluster0', 'cube163_cluster0'])"
      ]
     },
     "execution_count": 50,
     "metadata": {},
     "output_type": "execute_result"
    }
   ],
   "source": [
    "scomplex['links'].keys()"
   ]
  },
  {
   "cell_type": "code",
   "execution_count": 90,
   "metadata": {},
   "outputs": [],
   "source": [
    "pl_brewer = [[0.0, '#006837'],\n",
    "             [0.1, '#1a9850'],\n",
    "             [0.2, '#66bd63'],\n",
    "             [0.3, '#a6d96a'],\n",
    "             [0.4, '#d9ef8b'],\n",
    "             [0.5, '#ffffbf'],\n",
    "             [0.6, '#fee08b'],\n",
    "             [0.7, '#fdae61'],\n",
    "             [0.8, '#f46d43'],\n",
    "             [0.9, '#d73027'],\n",
    "             [1.0, '#a50026']]"
   ]
  },
  {
   "cell_type": "code",
   "execution_count": 91,
   "metadata": {},
   "outputs": [],
   "source": [
    "color_function = lens [:,0] - lens[:,0].min()\n",
    "my_colorscale = pl_brewer"
   ]
  },
  {
   "cell_type": "code",
   "execution_count": 92,
   "metadata": {},
   "outputs": [],
   "source": [
    "kmgraph,  mapper_summary, colorf_distribution = get_mapper_graph(scomplex)\n"
   ]
  },
  {
   "cell_type": "code",
   "execution_count": 93,
   "metadata": {},
   "outputs": [
    {
     "data": {
      "text/plain": [
       "dict_keys(['nodes', 'links'])"
      ]
     },
     "execution_count": 93,
     "metadata": {},
     "output_type": "execute_result"
    }
   ],
   "source": [
    "kmgraph.keys()"
   ]
  },
  {
   "cell_type": "code",
   "execution_count": 94,
   "metadata": {},
   "outputs": [
    {
     "data": {
      "text/plain": [
       "{'id': 1,\n",
       " 'name': 'cube5_cluster0',\n",
       " 'member_ids': [212],\n",
       " 'color': 0.3732394366197183,\n",
       " 'size': 1,\n",
       " 'cluster': {'above': [], 'below': [], 'size': 1},\n",
       " 'distribution': [{'height': 0.0, 'perc': 0.0, 'color': 'rgb(70, 18, 100)'},\n",
       "  {'height': 0.0, 'perc': 0.0, 'color': 'rgb(68, 51, 125)'},\n",
       "  {'height': 0.0, 'perc': 0.0, 'color': 'rgb(58, 80, 138)'},\n",
       "  {'height': 100.0, 'perc': 100.0, 'color': 'rgb(46, 107, 141)'},\n",
       "  {'height': 0.0, 'perc': 0.0, 'color': 'rgb(36, 131, 141)'},\n",
       "  {'height': 0.0, 'perc': 0.0, 'color': 'rgb(33, 155, 136)'},\n",
       "  {'height': 0.0, 'perc': 0.0, 'color': 'rgb(51, 178, 121)'},\n",
       "  {'height': 0.0, 'perc': 0.0, 'color': 'rgb(94, 199, 96)'},\n",
       "  {'height': 0.0, 'perc': 0.0, 'color': 'rgb(155, 215, 59)'},\n",
       "  {'height': 0.0, 'perc': 0.0, 'color': 'rgb(220, 226, 37)'}],\n",
       " 'projection': [],\n",
       " 'custom_tooltips': None}"
      ]
     },
     "execution_count": 94,
     "metadata": {},
     "output_type": "execute_result"
    }
   ],
   "source": [
    "kmgraph['nodes'][1]"
   ]
  },
  {
   "cell_type": "code",
   "execution_count": 95,
   "metadata": {},
   "outputs": [
    {
     "data": {
      "text/plain": [
       "{'source': 0, 'target': 7}"
      ]
     },
     "execution_count": 95,
     "metadata": {},
     "output_type": "execute_result"
    }
   ],
   "source": [
    "kmgraph['links'][0]"
   ]
  },
  {
   "cell_type": "code",
   "execution_count": 96,
   "metadata": {},
   "outputs": [
    {
     "data": {
      "text/plain": [
       "{'custom_meta': {'projection': 'l2norm',\n",
       "  'n_cubes': 15,\n",
       "  'perc_overlap': 0.7,\n",
       "  'clusterer': \"KMeans(algorithm='auto', copy_x=True, init='k-means++', max_iter=300,<br>       n_clusters=2, n_init=10, n_jobs=None, precompute_distances='auto',<br>       random_state=3471, tol=0.0001, verbose=0)\",\n",
       "  'scaler': 'MinMaxScaler(copy=True, feature_range=(0, 1))'},\n",
       " 'n_nodes': 278,\n",
       " 'n_edges': 2999,\n",
       " 'n_total': 5673,\n",
       " 'n_unique': 568}"
      ]
     },
     "execution_count": 96,
     "metadata": {},
     "output_type": "execute_result"
    }
   ],
   "source": [
    "mapper_summary"
   ]
  },
  {
   "cell_type": "code",
   "execution_count": 97,
   "metadata": {},
   "outputs": [
    {
     "data": {
      "text/plain": [
       "[{'height': 26.0, 'perc': 7.2, 'color': 'rgb(70, 18, 100)'},\n",
       " {'height': 32.0, 'perc': 9.0, 'color': 'rgb(68, 51, 125)'},\n",
       " {'height': 36.0, 'perc': 10.1, 'color': 'rgb(58, 80, 138)'},\n",
       " {'height': 65.0, 'perc': 18.3, 'color': 'rgb(46, 107, 141)'},\n",
       " {'height': 100.0, 'perc': 28.1, 'color': 'rgb(36, 131, 141)'},\n",
       " {'height': 76.0, 'perc': 21.2, 'color': 'rgb(33, 155, 136)'},\n",
       " {'height': 13.0, 'perc': 3.6, 'color': 'rgb(51, 178, 121)'},\n",
       " {'height': 6.0, 'perc': 1.8, 'color': 'rgb(94, 199, 96)'},\n",
       " {'height': 1.0, 'perc': 0.4, 'color': 'rgb(155, 215, 59)'},\n",
       " {'height': 1.0, 'perc': 0.4, 'color': 'rgb(220, 226, 37)'}]"
      ]
     },
     "execution_count": 97,
     "metadata": {},
     "output_type": "execute_result"
    }
   ],
   "source": [
    "colorf_distribution"
   ]
  },
  {
   "cell_type": "code",
   "execution_count": 98,
   "metadata": {},
   "outputs": [],
   "source": [
    "\n",
    "# assign to node['custom_tooltips']  the node label (0 for benign, 1 for malignant)\n",
    "for node in kmgraph['nodes']:\n",
    "    node['custom_tooltips'] = y[scomplex['nodes'][node['name']]]                        "
   ]
  },
  {
   "cell_type": "code",
   "execution_count": 99,
   "metadata": {},
   "outputs": [
    {
     "data": {
      "text/plain": [
       "{'id': 120,\n",
       " 'name': 'cube81_cluster0',\n",
       " 'member_ids': [219, 236, 339, 503, 521],\n",
       " 'color': 0.6401408450704225,\n",
       " 'size': 2,\n",
       " 'cluster': {'above': [], 'below': [], 'size': 5},\n",
       " 'distribution': [{'height': 0.0, 'perc': 0.0, 'color': 'rgb(70, 18, 100)'},\n",
       "  {'height': 0.0, 'perc': 0.0, 'color': 'rgb(68, 51, 125)'},\n",
       "  {'height': 0.0, 'perc': 0.0, 'color': 'rgb(58, 80, 138)'},\n",
       "  {'height': 100.0, 'perc': 20.0, 'color': 'rgb(46, 107, 141)'},\n",
       "  {'height': 100.0, 'perc': 20.0, 'color': 'rgb(36, 131, 141)'},\n",
       "  {'height': 100.0, 'perc': 20.0, 'color': 'rgb(33, 155, 136)'},\n",
       "  {'height': 0.0, 'perc': 0.0, 'color': 'rgb(51, 178, 121)'},\n",
       "  {'height': 0.0, 'perc': 0.0, 'color': 'rgb(94, 199, 96)'},\n",
       "  {'height': 100.0, 'perc': 20.0, 'color': 'rgb(155, 215, 59)'},\n",
       "  {'height': 100.0, 'perc': 20.0, 'color': 'rgb(220, 226, 37)'}],\n",
       " 'projection': [],\n",
       " 'custom_tooltips': array([1, 1, 1, 1, 1], dtype=int64)}"
      ]
     },
     "execution_count": 99,
     "metadata": {},
     "output_type": "execute_result"
    }
   ],
   "source": [
    "kmgraph['nodes'][120]"
   ]
  },
  {
   "cell_type": "code",
   "execution_count": 100,
   "metadata": {},
   "outputs": [
    {
     "name": "stdout",
     "output_type": "stream",
     "text": [
      "[219, 236, 339, 503, 521]\n"
     ]
    }
   ],
   "source": [
    "print(scomplex['nodes'][kmgraph['nodes'][120]['name']])"
   ]
  },
  {
   "cell_type": "code",
   "execution_count": 101,
   "metadata": {},
   "outputs": [
    {
     "data": {
      "text/plain": [
       "array([1, 1, 1, 1, 1], dtype=int64)"
      ]
     },
     "execution_count": 101,
     "metadata": {},
     "output_type": "execute_result"
    }
   ],
   "source": [
    "y[scomplex['nodes'][kmgraph['nodes'][120]['name']]]"
   ]
  },
  {
   "cell_type": "code",
   "execution_count": 102,
   "metadata": {},
   "outputs": [],
   "source": [
    "bgcolor = 'rgba(10,10,10, 0.9)'  # background color\n",
    "y_gridcolor = 'rgb(150,150,150)'# on a black background the gridlines are set on  grey"
   ]
  },
  {
   "cell_type": "code",
   "execution_count": 103,
   "metadata": {},
   "outputs": [],
   "source": [
    "plotly_graph_data = plotly_graph(kmgraph, graph_layout='fr', colorscale=my_colorscale, \n",
    "                                 factor_size=2.5, edge_linewidth=0.5)"
   ]
  },
  {
   "cell_type": "code",
   "execution_count": 104,
   "metadata": {},
   "outputs": [
    {
     "name": "stdout",
     "output_type": "stream",
     "text": [
      "2\n",
      "dict_keys(['type', 'x', 'y', 'mode', 'line', 'hoverinfo'])\n",
      "scatter\n"
     ]
    }
   ],
   "source": [
    "print(len(plotly_graph_data))\n",
    "print(plotly_graph_data[0].keys())\n",
    "print(plotly_graph_data[0]['type'])"
   ]
  },
  {
   "cell_type": "code",
   "execution_count": 105,
   "metadata": {},
   "outputs": [
    {
     "data": {
      "text/plain": [
       "[[0.0, '#006837'],\n",
       " [0.1, '#1a9850'],\n",
       " [0.2, '#66bd63'],\n",
       " [0.3, '#a6d96a'],\n",
       " [0.4, '#d9ef8b'],\n",
       " [0.5, '#ffffbf'],\n",
       " [0.6, '#fee08b'],\n",
       " [0.7, '#fdae61'],\n",
       " [0.8, '#f46d43'],\n",
       " [0.9, '#d73027'],\n",
       " [1.0, '#a50026']]"
      ]
     },
     "execution_count": 105,
     "metadata": {},
     "output_type": "execute_result"
    }
   ],
   "source": [
    "colorscale=my_colorscale\n",
    "colorscale"
   ]
  },
  {
   "cell_type": "code",
   "execution_count": 106,
   "metadata": {},
   "outputs": [],
   "source": [
    "n_nodes = len(kmgraph[\"nodes\"])\n",
    "G = ig.Graph(n=n_nodes)\n",
    "links = [(e[\"source\"], e[\"target\"]) for e in kmgraph[\"links\"]]  # the list of tuples representing the graph edges eg: [(0, 7), (0, 9)]\n",
    "G.add_edges(links)\n",
    "graph_layout=\"kk\"\n",
    "layt = G.layout(graph_layout)   # layt: list of node coordinates assigned by igraph.Layout graph with Kamada-Kawai force-directed algorithm\n",
    "N = len(layt)                  \n",
    "Xnodes = [layt[k][0] for k in range(N)]  # x-coordinates of nodes\n",
    "Ynodes = [layt[k][1] for k in range(N)]  # y-coordnates of nodes\n",
    "Xedges = []\n",
    "Yedges = []\n",
    "for e in links:\n",
    "    Xedges.extend([layt[e[0]][0], layt[e[1]][0], None])  #adds all the elements of an iterable (list, tuple, string etc.) to the end of the list.\n",
    "    Yedges.extend([layt[e[0]][1], layt[e[1]][1], None])"
   ]
  },
  {
   "cell_type": "code",
   "execution_count": 107,
   "metadata": {},
   "outputs": [],
   "source": [
    "hover_text = [node[\"name\"] for node in kmgraph[\"nodes\"]]\n",
    "color_vals = [node[\"color\"] for node in kmgraph[\"nodes\"]]\n",
    "factor_size = 2.5\n",
    "node_size = np.array(\n",
    "    [factor_size * node[\"size\"] for node in kmgraph[\"nodes\"]], dtype=np.int\n",
    "    )"
   ]
  },
  {
   "cell_type": "code",
   "execution_count": 108,
   "metadata": {},
   "outputs": [],
   "source": [
    "edge_linecolor=\"rgb(180,180,180)\"\n",
    "edge_linewidth=1.5\n",
    "edge_trace = dict(\n",
    "        type=\"scatter\",\n",
    "        x=Xedges,\n",
    "        y=Yedges,\n",
    "        mode=\"lines\",\n",
    "        line=dict(color=edge_linecolor, width=edge_linewidth),\n",
    "        hoverinfo=\"none\",\n",
    "    )\n",
    "\n",
    "node_linecolor=\"rgb(255,255,255)\"\n",
    "node_linewidth=1.0\n",
    "colorscale=my_colorscale\n",
    "showscale=True\n",
    "node_trace = dict(\n",
    "        type=\"scatter\",\n",
    "        x=Xnodes,\n",
    "        y=Ynodes,\n",
    "        mode=\"markers\",\n",
    "        marker=dict(\n",
    "            size=node_size.tolist(),\n",
    "            color=color_vals,\n",
    "            opacity=1.0,\n",
    "            colorscale=colorscale,\n",
    "            showscale=showscale,\n",
    "            line=dict(color=node_linecolor, width=node_linewidth),\n",
    "            colorbar=dict(thickness=20, ticklen=4, x=1.01, tickfont=dict(size=10)),\n",
    "        ),\n",
    "        text=hover_text,\n",
    "        hoverinfo=\"text\",\n",
    "    )"
   ]
  },
  {
   "cell_type": "code",
   "execution_count": 109,
   "metadata": {},
   "outputs": [],
   "source": [
    "def get_kmgraph_meta(mapper_summary):\n",
    "    \"\"\" Extract info from mapper summary to be displayed below the graph plot\n",
    "    \"\"\"\n",
    "    d = mapper_summary[\"custom_meta\"]\n",
    "    meta = (\n",
    "        \"<b>N_cubes:</b> \"\n",
    "        + str(d[\"n_cubes\"])\n",
    "        + \" <b>Perc_overlap:</b> \"\n",
    "        + str(d[\"perc_overlap\"])\n",
    "    )\n",
    "    meta += (\n",
    "        \"<br><b>Nodes:</b> \"\n",
    "        + str(mapper_summary[\"n_nodes\"])\n",
    "        + \" <b>Edges:</b> \"\n",
    "        + str(mapper_summary[\"n_edges\"])\n",
    "        + \" <b>Total samples:</b> \"\n",
    "        + str(mapper_summary[\"n_total\"])\n",
    "        + \" <b>Unique_samples:</b> \"\n",
    "        + str(mapper_summary[\"n_unique\"])\n",
    "    )\n",
    "\n",
    "    return meta"
   ]
  },
  {
   "cell_type": "code",
   "execution_count": 110,
   "metadata": {},
   "outputs": [
    {
     "data": {
      "text/plain": [
       "'<b>N_cubes:</b> 15 <b>Perc_overlap:</b> 0.7<br><b>Nodes:</b> 278 <b>Edges:</b> 2999 <b>Total samples:</b> 5673 <b>Unique_samples:</b> 568'"
      ]
     },
     "execution_count": 110,
     "metadata": {},
     "output_type": "execute_result"
    }
   ],
   "source": [
    "annotation_text=get_kmgraph_meta(mapper_summary)\n",
    "annotation_text"
   ]
  },
  {
   "cell_type": "code",
   "execution_count": 111,
   "metadata": {},
   "outputs": [],
   "source": [
    "title='Topological network representing the<br>  breast cancer  dataset'\n",
    "bgcolor = 'rgba(10,10,10, 0.9)'  # background color\n",
    "width=620\n",
    "height=570\n",
    "top=100\n",
    "left=60\n",
    "right=60\n",
    "bottom=60\n",
    "annotation_text = annotation_text\n",
    "annotation_x=0\n",
    "annotation_y=-0.01\n",
    "pl_layout = dict(\n",
    "        title=title,\n",
    "        font=dict(size=12),\n",
    "        showlegend=False,\n",
    "        autosize=False,\n",
    "        width=width,\n",
    "        height=height,\n",
    "        xaxis=dict(visible=False),\n",
    "        yaxis=dict(visible=False),\n",
    "        hovermode=\"closest\",\n",
    "        plot_bgcolor=bgcolor,\n",
    "        margin=dict(t=top, b=bottom, l=left, r=right),\n",
    "    )\n",
    "annotations = [\n",
    "            dict(\n",
    "                showarrow=False,\n",
    "                text=annotation_text,\n",
    "                xref=\"paper\",\n",
    "                yref=\"paper\",\n",
    "                x=annotation_x,\n",
    "                y=annotation_y,\n",
    "                align=\"left\",\n",
    "                xanchor=\"left\",\n",
    "                yanchor=\"top\",\n",
    "                font=dict(size=12),\n",
    "            )\n",
    "        ]\n",
    "pl_layout.update(annotations=annotations)"
   ]
  },
  {
   "cell_type": "code",
   "execution_count": 112,
   "metadata": {},
   "outputs": [
    {
     "data": {
      "text/plain": [
       "{'title': 'Topological network representing the<br>  breast cancer  dataset',\n",
       " 'font': {'size': 12},\n",
       " 'showlegend': False,\n",
       " 'autosize': False,\n",
       " 'width': 620,\n",
       " 'height': 570,\n",
       " 'xaxis': {'visible': False},\n",
       " 'yaxis': {'visible': False},\n",
       " 'hovermode': 'closest',\n",
       " 'plot_bgcolor': 'rgba(10,10,10, 0.9)',\n",
       " 'margin': {'t': 100, 'b': 60, 'l': 60, 'r': 60},\n",
       " 'annotations': [{'showarrow': False,\n",
       "   'text': '<b>N_cubes:</b> 15 <b>Perc_overlap:</b> 0.7<br><b>Nodes:</b> 278 <b>Edges:</b> 2999 <b>Total samples:</b> 5673 <b>Unique_samples:</b> 568',\n",
       "   'xref': 'paper',\n",
       "   'yref': 'paper',\n",
       "   'x': 0,\n",
       "   'y': -0.01,\n",
       "   'align': 'left',\n",
       "   'xanchor': 'left',\n",
       "   'yanchor': 'top',\n",
       "   'font': {'size': 12}}]}"
      ]
     },
     "execution_count": 112,
     "metadata": {},
     "output_type": "execute_result"
    }
   ],
   "source": [
    "pl_layout"
   ]
  },
  {
   "cell_type": "code",
   "execution_count": 113,
   "metadata": {},
   "outputs": [
    {
     "data": {
      "text/plain": [
       "dict_keys(['type', 'x', 'y', 'mode', 'line', 'hoverinfo'])"
      ]
     },
     "execution_count": 113,
     "metadata": {},
     "output_type": "execute_result"
    }
   ],
   "source": [
    "plotly_graph_data[0].keys()  # edges"
   ]
  },
  {
   "cell_type": "code",
   "execution_count": 114,
   "metadata": {},
   "outputs": [
    {
     "data": {
      "text/plain": [
       "dict_keys(['type', 'x', 'y', 'mode', 'marker', 'text', 'hoverinfo'])"
      ]
     },
     "execution_count": 114,
     "metadata": {},
     "output_type": "execute_result"
    }
   ],
   "source": [
    "plotly_graph_data[1].keys()"
   ]
  },
  {
   "cell_type": "code",
   "execution_count": 115,
   "metadata": {},
   "outputs": [
    {
     "name": "stdout",
     "output_type": "stream",
     "text": [
      "[15.489248157014812, 15.253195061955577, -1.790866017236688, 1.7743916518936895, -0.7322918907302095, 1.2869982914720142, 14.536957602504966, 14.777223575462845, 14.511634295521652, 14.982509781149293, 14.996590378044816, 14.38467422377734, 14.541602140020254, 16.113615375836627, -1.5840981604149915, 1.6983626672173964, -0.9616434943728551, 2.264638952383381, 2.3573946338397187, -1.9386294297971902, 2.2349804549863133, -2.083443577189312, -2.2314889923357843, 14.811299332754446, 14.1565992274566, 14.35923450174691, 14.955500940522619, 15.23487667115037, 15.096940632718596, 15.598221742302636, -1.1521074634707744, 2.264754841033292, -0.05897552708146204, -3.1182067371687006, -1.3527104169655666, -3.3601145067569824, 1.7755789836708182, -2.736010251367258, 1.88564518812881, -2.363484400969943, 2.080619599315242, -1.7218465930270048, -2.5405782492010864, 15.407544123672453, 14.289290945632692, 15.392505541179938, 14.439158629698335, 15.711433699323663, 14.817554409213558, 12.667591000440087, 12.645419408976942, 16.159873942663083, 13.626042877520996, 12.100017823207413, -1.9211918971587139, -7.381150353939618, -2.3021479209668416, -6.957384107900063, -2.1385480238764907, 0.800945561161414, -2.913551808563688, 0.9100210089802009, -0.004992094245513822, 0.32037930411541415, -0.2758733104775929, 0.6727477229088904, 0.8005611825895923, -0.7056688598712989, 0.5106081599449114, -0.14718603890700088, 13.472257892394092, 12.974529474227607, 13.564002950710565, 11.948962666387079, 13.827348699406397, 12.14791531529611, -3.6720841490170617, -7.286251760521396, -2.696665095018455, -5.626758792095066, -3.226003505939646, 0.6378898998521676, -2.4654067114591602, 0.7817282591590025, 0.9828900914437473, 0.5792379677237486, 1.0135864726301882, 0.5428522163292915, 0.3159912954154352, 1.988712802058403, 1.202281413302852, 2.056153488305589, 13.983977155456168, 1.7637344996316202, 13.739379951740439, 5.905090378340164, 13.359060791515171, 5.039236083445669, 13.088971614831573, 5.4064130510477915, 12.900467747396466, 6.344794909895256, -4.062534783539685, -6.8832288774697865, -2.3815921588480222, -5.528592283281096, -3.899628166421388, -1.3447561168337654, -2.6730047377541655, -0.9027853985061676, -0.41838618926060184, -0.9048156913800186, 1.1776409317888754, 0.3082451613819281, 0.7521141947465614, 2.617556557659132, 1.3699445004789168, 3.4442805621230717, 2.7519393311721814, 5.179633569034896, 4.247278157163432, 6.239070602367314, 4.878863960119839, 5.8529793749424135, 5.547312376837496, 5.364593330534696, -4.293589263508651, -6.976279979602378, -2.7058518368614286, -5.304592343046154, -3.8873979650776644, -1.2485601389643493, -2.859630838404526, -0.08037153006624916, -1.2293405282084178, 0.16684205747258496, 1.487868624676503, 0.07240277976388032, 2.359655543929131, 0.6780066634911912, 1.7746187501109985, 3.7609273995319663, 2.91512471076238, 4.885244069875983, 4.177706363870116, 5.525670596716355, 5.5100829634205315, 5.433667107200618, 5.1874335856856675, 5.052629709665175, -4.538468112906566, -6.9623118642508395, -3.224253081648059, -5.673697753656178, -4.182764648066432, -2.311766216440942, -2.8764040547829604, -0.1021945859637052, -2.055340441586556, 0.5115722075590051, 1.5052299821395612, 0.02221249723694428, 2.6405749013550914, 0.7156507856217751, 4.003778317395301, 1.6554411724372688, 2.876309005476695, 4.909731059659792, 3.710017043492906, 5.265511820068384, 6.0365910744327165, 5.711452995785194, 5.894059855533687, 6.050346055213595, -4.5786961717065555, -5.810496700610547, -3.5363932226658448, -5.632828481946998, -4.769235828402653, -2.397508925460394, -3.2620030830528566, -1.010726964193154, -1.87033126456187, 0.4995914173429377, 1.470207295384343, -0.7489981005851615, 2.676192952926115, 0.33050406481125616, 1.606773409531664, 3.3985320278794062, 4.288418840565862, 2.9465518643854876, 3.9674598796437865, 5.6638255047215225, -4.918247009451589, -6.672203276935068, -3.8201426678772448, -5.6710615254899945, -4.662336854659937, -2.656681173802383, -3.5391995737414743, -1.257078953106176, 0.09183695398446043, -1.9813020628931046, 1.478521951640742, -1.1894394144007336, 2.395857695347861, 0.2756987003256789, 1.1989818194759143, 3.2817397993006785, 4.230177431250317, 2.7866107142924403, 4.338873263998149, 4.921213030282956, -5.130172387809441, -6.339424348316408, -4.329127365063194, -5.941567146293821, -5.131976317849384, -3.0123408300269015, -3.973911835143993, -1.8072723855533896, -0.15562968460392934, -2.7803610025194287, 1.53250395684059, -1.7881851844576353, 1.9589363588173223, -0.3413637632712893, 2.600536551484678, 0.8221752860268339, 3.3760962280440614, 3.044392577685781, -5.378926931107691, -6.713664968262908, -4.416063816199192, -6.012942449561142, -3.2203474625759667, -5.4602211334779245, -4.140604761673622, -1.9227282774337726, -0.2974475287563891, -3.0166553965185914, 1.591564788644968, -1.6662457114782505, 2.062979633668136, -0.5197572626071544, 2.7945444356685645, 1.1073419063605807, 3.6799426051216737, 3.323509674004183, -5.623830713078864, -6.927863744589994, -4.558506197757116, -6.479227434341322, -3.541502535397483, -5.796643598247787, -4.742188045606033, -2.29443117442705, -0.8100670991538981, -3.413700324357789, 0.10382481416953067, -2.4453938911269284, -1.0656565426317517, 1.6567468322216927, 2.9438477683776325, 1.3664651629941096, -5.955998106464876, -7.252504297568479, -4.873690059816083, -6.769439716745462, -4.077306914593551, -6.1966160949532565, -2.774589663703068, -5.1029983682152205, -4.159552018434942, -2.3343119179645515, -3.4921859654020824, -1.93221644067727]\n"
     ]
    }
   ],
   "source": [
    "print(plotly_graph_data[1]['y'])   # Node"
   ]
  },
  {
   "cell_type": "code",
   "execution_count": 116,
   "metadata": {},
   "outputs": [],
   "source": [
    "fw_graph = go.FigureWidget(data=plotly_graph_data, layout=pl_layout)"
   ]
  },
  {
   "cell_type": "code",
   "execution_count": 117,
   "metadata": {},
   "outputs": [
    {
     "data": {
      "application/vnd.jupyter.widget-view+json": {
       "model_id": "5b8dc9d3b86647a89a97b38d18e1319e",
       "version_major": 2,
       "version_minor": 0
      },
      "text/plain": [
       "FigureWidget({\n",
       "    'data': [{'hoverinfo': 'none',\n",
       "              'line': {'color': 'rgb(180,180,180)', 'width':…"
      ]
     },
     "metadata": {},
     "output_type": "display_data"
    }
   ],
   "source": [
    "fw_graph"
   ]
  },
  {
   "cell_type": "code",
   "execution_count": 118,
   "metadata": {},
   "outputs": [],
   "source": [
    "fw_hist = node_hist_fig(colorf_distribution, bgcolor=bgcolor,\n",
    "                        y_gridcolor=y_gridcolor)"
   ]
  },
  {
   "cell_type": "code",
   "execution_count": 119,
   "metadata": {},
   "outputs": [
    {
     "data": {
      "application/vnd.jupyter.widget-view+json": {
       "model_id": "1d712dc2c87549c3812b40904f07111d",
       "version_major": 2,
       "version_minor": 0
      },
      "text/plain": [
       "FigureWidget({\n",
       "    'data': [{'hoverinfo': 'y+text',\n",
       "              'marker': {'color': [rgb(70, 18, 100), rgb(6…"
      ]
     },
     "metadata": {},
     "output_type": "display_data"
    }
   ],
   "source": [
    "fw_hist"
   ]
  },
  {
   "cell_type": "code",
   "execution_count": null,
   "metadata": {},
   "outputs": [],
   "source": [
    "colorf_distribution      # From get_mapper_graph(scomplex)\n",
    "bgcolor = 'rgba(10,10,10, 0.9)'  # background color\n",
    "y_gridcolor = 'rgb(150,150,150)'# on a black background the gridlines are set on  grey"
   ]
  },
  {
   "cell_type": "code",
   "execution_count": 112,
   "metadata": {},
   "outputs": [
    {
     "data": {
      "text/plain": [
       "[{'height': 26.0, 'perc': 7.2, 'color': 'rgb(70, 18, 100)'},\n",
       " {'height': 32.0, 'perc': 9.0, 'color': 'rgb(68, 51, 125)'},\n",
       " {'height': 36.0, 'perc': 10.1, 'color': 'rgb(58, 80, 138)'},\n",
       " {'height': 65.0, 'perc': 18.3, 'color': 'rgb(46, 107, 141)'},\n",
       " {'height': 100.0, 'perc': 28.1, 'color': 'rgb(36, 131, 141)'},\n",
       " {'height': 76.0, 'perc': 21.2, 'color': 'rgb(33, 155, 136)'},\n",
       " {'height': 13.0, 'perc': 3.6, 'color': 'rgb(51, 178, 121)'},\n",
       " {'height': 6.0, 'perc': 1.8, 'color': 'rgb(94, 199, 96)'},\n",
       " {'height': 1.0, 'perc': 0.4, 'color': 'rgb(155, 215, 59)'},\n",
       " {'height': 1.0, 'perc': 0.4, 'color': 'rgb(220, 226, 37)'}]"
      ]
     },
     "execution_count": 112,
     "metadata": {},
     "output_type": "execute_result"
    }
   ],
   "source": [
    "colorf_distribution    # "
   ]
  },
  {
   "cell_type": "code",
   "execution_count": 115,
   "metadata": {},
   "outputs": [
    {
     "data": {
      "text/plain": [
       "['7.2%',\n",
       " '9.0%',\n",
       " '10.1%',\n",
       " '18.3%',\n",
       " '28.1%',\n",
       " '21.2%',\n",
       " '3.6%',\n",
       " '1.8%',\n",
       " '0.4%',\n",
       " '0.4%']"
      ]
     },
     "execution_count": 115,
     "metadata": {},
     "output_type": "execute_result"
    }
   ],
   "source": [
    "text = [\n",
    "        \"{perc}%\".format(**locals())                  \n",
    "        for perc in [d[\"perc\"] for d in colorf_distribution]\n",
    "    ]\n",
    "text"
   ]
  },
  {
   "cell_type": "markdown",
   "metadata": {},
   "source": [
    "\"locals\" is a function, which returns a dictionary with the current scope's local variables, i.e- the local variable names are the keys of this dictionary and the corresponding values are the values of these variables.\n",
    "The dictionary returned by locals() can be used as a parameter of the string format method. This way we can use all the local variable names inside of a format string."
   ]
  },
  {
   "cell_type": "code",
   "execution_count": 129,
   "metadata": {},
   "outputs": [
    {
     "data": {
      "text/plain": [
       "Bar({\n",
       "    'hoverinfo': 'y+text',\n",
       "    'marker': {'color': [rgb(70, 18, 100), rgb(68, 51, 125), rgb(58, 80, 138),\n",
       "                         rgb(46, 107, 141), rgb(36, 131, 141), rgb(33, 155, 136),\n",
       "                         rgb(51, 178, 121), rgb(94, 199, 96), rgb(155, 215, 59),\n",
       "                         rgb(220, 226, 37)]},\n",
       "    'text': [7.2%, 9.0%, 10.1%, 18.3%, 28.1%, 21.2%, 3.6%, 1.8%, 0.4%, 0.4%],\n",
       "    'y': [26.0, 32.0, 36.0, 65.0, 100.0, 76.0, 13.0, 6.0, 1.0, 1.0]\n",
       "})"
      ]
     },
     "execution_count": 129,
     "metadata": {},
     "output_type": "execute_result"
    }
   ],
   "source": [
    "pl_hist = go.Bar(\n",
    "        y=[d[\"height\"] for d in colorf_distribution],\n",
    "        marker=dict(color=[d[\"color\"] for d in colorf_distribution]),\n",
    "        text=text,\n",
    "        hoverinfo=\"y+text\",\n",
    "    )\n",
    "pl_hist"
   ]
  },
  {
   "cell_type": "markdown",
   "metadata": {},
   "source": [
    "The bar plot can be customized using keyword arguments."
   ]
  },
  {
   "cell_type": "code",
   "execution_count": 132,
   "metadata": {},
   "outputs": [],
   "source": [
    "hist_title=\"Graph Node Distribution\"\n",
    "hist_width=400\n",
    "hist_height=300\n",
    "hist_top=60\n",
    "hist_left=25\n",
    "hist_bottom=60\n",
    "hist_right=25\n",
    "hist_bgcolor=\"rgb(240,240,240)\"\n",
    "hist_y_gridcolor=\"white\""
   ]
  },
  {
   "cell_type": "code",
   "execution_count": 133,
   "metadata": {},
   "outputs": [],
   "source": [
    " hist_layout = dict(\n",
    "        title=hist_title,\n",
    "        width=hist_width,\n",
    "        height=hist_height,\n",
    "        font=dict(size=12),\n",
    "        xaxis=dict(showline=True, zeroline=False, showgrid=False, showticklabels=False),\n",
    "        yaxis=dict(showline=False, gridcolor=hist_y_gridcolor, tickfont=dict(size=10)),\n",
    "        bargap=0.01,\n",
    "        margin=dict(l=hist_left, r=hist_right, b=hist_bottom, t=hist_top),\n",
    "        hovermode=\"x\",\n",
    "        plot_bgcolor=hist_bgcolor,\n",
    "    )"
   ]
  },
  {
   "cell_type": "code",
   "execution_count": 134,
   "metadata": {},
   "outputs": [
    {
     "data": {
      "application/vnd.jupyter.widget-view+json": {
       "model_id": "028fa9e9359e4c2692f35f195908717f",
       "version_major": 2,
       "version_minor": 0
      },
      "text/plain": [
       "FigureWidget({\n",
       "    'data': [{'hoverinfo': 'y+text',\n",
       "              'marker': {'color': [rgb(70, 18, 100), rgb(6…"
      ]
     },
     "metadata": {},
     "output_type": "display_data"
    }
   ],
   "source": [
    "go.FigureWidget(data=[pl_hist], layout=hist_layout)"
   ]
  },
  {
   "cell_type": "code",
   "execution_count": 135,
   "metadata": {},
   "outputs": [
    {
     "data": {
      "application/vnd.jupyter.widget-view+json": {
       "model_id": "5598399da764415284d8038b2d7cea33",
       "version_major": 2,
       "version_minor": 0
      },
      "text/plain": [
       "FigureWidget({\n",
       "    'data': [{'hoverinfo': 'none',\n",
       "              'mode': 'text',\n",
       "              'text': [<br><b>…"
      ]
     },
     "metadata": {},
     "output_type": "display_data"
    }
   ],
   "source": [
    "fw_summary = summary_fig(mapper_summary, height=300)\n",
    "fw_summary"
   ]
  },
  {
   "cell_type": "code",
   "execution_count": 136,
   "metadata": {},
   "outputs": [
    {
     "data": {
      "application/vnd.jupyter.widget-view+json": {
       "model_id": "e96069d7eb8441018fd468597dc6e8d0",
       "version_major": 2,
       "version_minor": 0
      },
      "text/plain": [
       "VBox(children=(FigureWidget({\n",
       "    'data': [{'hoverinfo': 'none',\n",
       "              'line': {'color': 'rgb(180,180,…"
      ]
     },
     "metadata": {},
     "output_type": "display_data"
    }
   ],
   "source": [
    "VBox([fw_graph, HBox([fw_summary, fw_hist])])"
   ]
  },
  {
   "cell_type": "code",
   "execution_count": 137,
   "metadata": {},
   "outputs": [
    {
     "data": {
      "application/vnd.jupyter.widget-view+json": {
       "model_id": "70cf2311a53a4be1a9e6c488e0e0a2e3",
       "version_major": 2,
       "version_minor": 0
      },
      "text/plain": [
       "VBox(children=(HBox(children=(FigureWidget({\n",
       "    'data': [{'hoverinfo': 'none',\n",
       "              'line': {'color'…"
      ]
     },
     "metadata": {},
     "output_type": "display_data"
    }
   ],
   "source": [
    "dashboard = hovering_widgets(kmgraph, \n",
    "                             fw_graph, \n",
    "                             ctooltips=True, # ctooltips = True, because we assigned a label to each \n",
    "                                             #cluster member\n",
    "                             bgcolor=bgcolor,\n",
    "                             y_gridcolor=y_gridcolor, \n",
    "                             member_textbox_width=600)\n",
    "dashboard"
   ]
  },
  {
   "cell_type": "code",
   "execution_count": 139,
   "metadata": {},
   "outputs": [
    {
     "data": {
      "text/plain": [
       "dict_keys(['nodes', 'links'])"
      ]
     },
     "execution_count": 139,
     "metadata": {},
     "output_type": "execute_result"
    }
   ],
   "source": [
    "kmgraph.keys()"
   ]
  },
  {
   "cell_type": "code",
   "execution_count": 140,
   "metadata": {},
   "outputs": [
    {
     "data": {
      "application/vnd.jupyter.widget-view+json": {
       "model_id": "8baf8365fb9a4d2981c72d42349d4626",
       "version_major": 2,
       "version_minor": 0
      },
      "text/plain": [
       "FigureWidget({\n",
       "    'data': [{'hoverinfo': 'none',\n",
       "              'line': {'color': 'rgb(180,180,180)', 'width':…"
      ]
     },
     "metadata": {},
     "output_type": "display_data"
    }
   ],
   "source": [
    "fw_graph"
   ]
  },
  {
   "cell_type": "code",
   "execution_count": 252,
   "metadata": {},
   "outputs": [
    {
     "data": {
      "text/plain": [
       "{'id': 120,\n",
       " 'name': 'cube81_cluster0',\n",
       " 'member_ids': [219, 236, 339, 503, 521],\n",
       " 'color': 0.6401408450704225,\n",
       " 'size': 2,\n",
       " 'cluster': {'above': [], 'below': [], 'size': 5},\n",
       " 'distribution': [{'height': 0.0, 'perc': 0.0, 'color': 'rgb(70, 18, 100)'},\n",
       "  {'height': 0.0, 'perc': 0.0, 'color': 'rgb(68, 51, 125)'},\n",
       "  {'height': 0.0, 'perc': 0.0, 'color': 'rgb(58, 80, 138)'},\n",
       "  {'height': 100.0, 'perc': 20.0, 'color': 'rgb(46, 107, 141)'},\n",
       "  {'height': 100.0, 'perc': 20.0, 'color': 'rgb(36, 131, 141)'},\n",
       "  {'height': 100.0, 'perc': 20.0, 'color': 'rgb(33, 155, 136)'},\n",
       "  {'height': 0.0, 'perc': 0.0, 'color': 'rgb(51, 178, 121)'},\n",
       "  {'height': 0.0, 'perc': 0.0, 'color': 'rgb(94, 199, 96)'},\n",
       "  {'height': 100.0, 'perc': 20.0, 'color': 'rgb(155, 215, 59)'},\n",
       "  {'height': 100.0, 'perc': 20.0, 'color': 'rgb(220, 226, 37)'}],\n",
       " 'projection': [],\n",
       " 'custom_tooltips': array([1, 1, 1, 1, 1], dtype=int64)}"
      ]
     },
     "execution_count": 252,
     "metadata": {},
     "output_type": "execute_result"
    }
   ],
   "source": [
    "fnode = kmgraph[\"nodes\"][120]\n",
    "fnode"
   ]
  },
  {
   "cell_type": "code",
   "execution_count": 250,
   "metadata": {},
   "outputs": [
    {
     "data": {
      "application/vnd.jupyter.widget-view+json": {
       "model_id": "a1c5be911e8a4967a8b736c304549cfe",
       "version_major": 2,
       "version_minor": 0
      },
      "text/plain": [
       "FigureWidget({\n",
       "    'data': [{'hoverinfo': 'y+text',\n",
       "              'marker': {'color': [rgb(70, 18, 100), rgb(6…"
      ]
     },
     "metadata": {},
     "output_type": "display_data"
    }
   ],
   "source": [
    "fwc = node_hist_fig(\n",
    "        fnode[\"distribution\"],\n",
    "        title=\"Cluster Member Distribution\",\n",
    "        width=400,\n",
    "        height=300,\n",
    "        top=100,\n",
    "        left=50,\n",
    "        bgcolor=\"rgb(240,240,240)\",\n",
    "        y_gridcolor=\"white\",\n",
    "    )\n",
    "fwc"
   ]
  },
  {
   "cell_type": "code",
   "execution_count": 251,
   "metadata": {},
   "outputs": [
    {
     "data": {
      "text/plain": [
       "['0.0%',\n",
       " '0.0%',\n",
       " '0.0%',\n",
       " '20.0%',\n",
       " '20.0%',\n",
       " '20.0%',\n",
       " '0.0%',\n",
       " '0.0%',\n",
       " '20.0%',\n",
       " '20.0%']"
      ]
     },
     "execution_count": 251,
     "metadata": {},
     "output_type": "execute_result"
    }
   ],
   "source": [
    "fwc_text = [\n",
    "        \"{perc}%\".format(**locals())\n",
    "        for perc in [d[\"perc\"] for d in fnode[\"distribution\"]]\n",
    "    ]\n",
    "fwc_text"
   ]
  },
  {
   "cell_type": "code",
   "execution_count": 146,
   "metadata": {},
   "outputs": [
    {
     "data": {
      "text/plain": [
       "Bar({\n",
       "    'hoverinfo': 'y+text',\n",
       "    'marker': {'color': [rgb(70, 18, 100), rgb(68, 51, 125), rgb(58, 80, 138),\n",
       "                         rgb(46, 107, 141), rgb(36, 131, 141), rgb(33, 155, 136),\n",
       "                         rgb(51, 178, 121), rgb(94, 199, 96), rgb(155, 215, 59),\n",
       "                         rgb(220, 226, 37)]},\n",
       "    'text': [0.0%, 0.0%, 100.0%, 0.0%, 0.0%, 0.0%, 0.0%, 0.0%, 0.0%, 0.0%],\n",
       "    'y': [0.0, 0.0, 100.0, 0.0, 0.0, 0.0, 0.0, 0.0, 0.0, 0.0]\n",
       "})"
      ]
     },
     "execution_count": 146,
     "metadata": {},
     "output_type": "execute_result"
    }
   ],
   "source": [
    "fwc_pl_hist = go.Bar(\n",
    "        y=[d[\"height\"] for d in fnode[\"distribution\"]],\n",
    "        marker=dict(color=[d[\"color\"] for d in fnode[\"distribution\"]]),\n",
    "        text=fwc_text,\n",
    "        hoverinfo=\"y+text\",\n",
    "    )\n",
    "fwc_pl_hist"
   ]
  },
  {
   "cell_type": "code",
   "execution_count": 156,
   "metadata": {},
   "outputs": [],
   "source": [
    "fwc_hist_layout = dict(\n",
    "        title=\"Cluster Member Distribution\",\n",
    "        width=400,\n",
    "        height=300,\n",
    "        font=dict(size=12),\n",
    "        xaxis=dict(showline=True, zeroline=False, showgrid=False, showticklabels=False),\n",
    "        yaxis=dict(showline=False, gridcolor=y_gridcolor, tickfont=dict(size=10)),\n",
    "        bargap=0.01,\n",
    "        margin=dict(l=50, r=100, b=10, t=100),\n",
    "        hovermode=\"x\",\n",
    "        plot_bgcolor=bgcolor,\n",
    "    )"
   ]
  },
  {
   "cell_type": "code",
   "execution_count": 157,
   "metadata": {},
   "outputs": [
    {
     "data": {
      "application/vnd.jupyter.widget-view+json": {
       "model_id": "b91d50a597e34cad8a2e4dfdbbfbb19f",
       "version_major": 2,
       "version_minor": 0
      },
      "text/plain": [
       "FigureWidget({\n",
       "    'data': [{'hoverinfo': 'y+text',\n",
       "              'marker': {'color': [rgb(70, 18, 100), rgb(6…"
      ]
     },
     "metadata": {},
     "output_type": "display_data"
    }
   ],
   "source": [
    "go.FigureWidget(data=[fwc_pl_hist], layout=fwc_hist_layout)"
   ]
  },
  {
   "cell_type": "code",
   "execution_count": 270,
   "metadata": {},
   "outputs": [
    {
     "data": {
      "application/vnd.jupyter.widget-view+json": {
       "model_id": "c06bfbb6b1c94971add90be2466ee816",
       "version_major": 2,
       "version_minor": 0
      },
      "text/plain": [
       "Text(value='5', description='Cluster size:')"
      ]
     },
     "metadata": {},
     "output_type": "display_data"
    }
   ],
   "source": [
    "clust_textbox = ipw.Text(                                  # ipw: jupyter-widgets ipywidgets\n",
    "        value=\"{:d}\".format(fnode[\"cluster\"][\"size\"]),     # format_spec, which is preceded by a colon ':', {:d} d prints as decimal integer\n",
    "        description=\"Cluster size:\",\n",
    "        disabled=False,\n",
    "        continuous_update=True,\n",
    "    )\n",
    "clust_textbox"
   ]
  },
  {
   "cell_type": "code",
   "execution_count": 205,
   "metadata": {},
   "outputs": [],
   "source": [
    "clust_textbox.layout = dict(margin=\"10px 10px 10px 10px\", width=\"200px\")"
   ]
  },
  {
   "cell_type": "code",
   "execution_count": 174,
   "metadata": {},
   "outputs": [
    {
     "data": {
      "application/vnd.jupyter.widget-view+json": {
       "model_id": "8fec801ca3d94aa99749836b75c6bd0d",
       "version_major": 2,
       "version_minor": 0
      },
      "text/plain": [
       "Text(value='1', description='Cluster size:', layout=Layout(margin='10px 10px 10px 10px', width='200px'))"
      ]
     },
     "metadata": {},
     "output_type": "display_data"
    }
   ],
   "source": [
    "clust_textbox"
   ]
  },
  {
   "cell_type": "code",
   "execution_count": 213,
   "metadata": {},
   "outputs": [
    {
     "data": {
      "application/vnd.jupyter.widget-view+json": {
       "model_id": "4a0f4e323ff7460c957d9db1e706a257",
       "version_major": 2,
       "version_minor": 0
      },
      "text/plain": [
       "Textarea(value='1', description='Members:')"
      ]
     },
     "metadata": {},
     "output_type": "display_data"
    }
   ],
   "source": [
    "ctooltips=True  # ctooltips = True, because we assigned a label to each cluster member, ctooltips = False Show member_ids\n",
    "member_textbox = ipw.Textarea(\n",
    "        value=\", \".join(str(x) for x in fnode[\"member_ids\"])\n",
    "        if not ctooltips\n",
    "        else \", \".join(str(x) for x in fnode[\"custom_tooltips\"]),\n",
    "        description=\"Members:\",\n",
    "        disabled=False,\n",
    "        continuous_update=True,\n",
    "    )\n",
    "member_textbox"
   ]
  },
  {
   "cell_type": "code",
   "execution_count": 218,
   "metadata": {},
   "outputs": [
    {
     "data": {
      "application/vnd.jupyter.widget-view+json": {
       "model_id": "4a0f4e323ff7460c957d9db1e706a257",
       "version_major": 2,
       "version_minor": 0
      },
      "text/plain": [
       "Textarea(value='1', description='Members:', layout=Layout(margin='5px 5px 5px 10px', width='200px'))"
      ]
     },
     "metadata": {},
     "output_type": "display_data"
    }
   ],
   "source": [
    "member_textbox_width=200\n",
    "member_textbox.layout = dict(\n",
    "        margin=\"5px 5px 5px 10px\", width=str(member_textbox_width) + \"px\"\n",
    "    )\n",
    "member_textbox"
   ]
  },
  {
   "cell_type": "code",
   "execution_count": 219,
   "metadata": {},
   "outputs": [],
   "source": [
    "def do_on_hover(trace, points, state):\n",
    "        if not points.point_inds:\n",
    "            return\n",
    "        ind = points.point_inds[0]  # get the index of the hovered node\n",
    "        node = kmgraph[\"nodes\"][ind]\n",
    "        # on hover do:\n",
    "        with fwc.batch_update():  # update data in the cluster member histogr\n",
    "            fwc.data[0].text = [\n",
    "                \"{:.1f}%\".format(d[\"perc\"]) for d in node[\"distribution\"]\n",
    "            ]\n",
    "            fwc.data[0].y = [d[\"height\"] for d in node[\"distribution\"]]\n",
    "            fwc.data[0].marker.color = [d[\"color\"] for d in node[\"distribution\"]]\n",
    "\n",
    "        clust_textbox.value = \"{:d}\".format(node[\"cluster\"][\"size\"])\n",
    "        member_textbox.value = (\n",
    "            \", \".join(str(x) for x in node[\"member_ids\"])\n",
    "            if not ctooltips\n",
    "            else \", \".join(str(x) for x in node[\"custom_tooltips\"])\n",
    "        )"
   ]
  },
  {
   "cell_type": "code",
   "execution_count": 269,
   "metadata": {},
   "outputs": [
    {
     "data": {
      "text/plain": [
       "Bar({\n",
       "    'hoverinfo': 'y+text',\n",
       "    'marker': {'color': [rgb(70, 18, 100), rgb(68, 51, 125), rgb(58, 80, 138),\n",
       "                         rgb(46, 107, 141), rgb(36, 131, 141), rgb(33, 155, 136),\n",
       "                         rgb(51, 178, 121), rgb(94, 199, 96), rgb(155, 215, 59),\n",
       "                         rgb(220, 226, 37)]},\n",
       "    'text': [0.0%, 0.0%, 0.0%, 20.0%, 20.0%, 20.0%, 0.0%, 0.0%, 20.0%, 20.0%],\n",
       "    'uid': 'ef5de440-1db4-464d-bed3-b0f2e62d8107',\n",
       "    'y': [0.0, 0.0, 0.0, 100.0, 100.0, 100.0, 0.0, 0.0, 100.0, 100.0]\n",
       "})"
      ]
     },
     "execution_count": 269,
     "metadata": {},
     "output_type": "execute_result"
    }
   ],
   "source": [
    "fwc.data[0]\n",
    "\n"
   ]
  },
  {
   "cell_type": "code",
   "execution_count": 240,
   "metadata": {},
   "outputs": [
    {
     "data": {
      "text/plain": [
       "Scatter({\n",
       "    'hoverinfo': 'text',\n",
       "    'marker': {'color': [0.2147887323943662, 0.3732394366197183,\n",
       "                         0.00528169014084507, ..., 0.38128772635814895,\n",
       "                         0.2785211267605634, 0.6382042253521127],\n",
       "               'colorbar': {'thickness': 20, 'tickfont': {'size': 10}, 'ticklen': 4, 'x': 1.01},\n",
       "               'colorscale': [[0.0, '#006837'], [0.1, '#1a9850'], [0.2,\n",
       "                              '#66bd63'], [0.3, '#a6d96a'], [0.4, '#d9ef8b'], [0.5,\n",
       "                              '#ffffbf'], [0.6, '#fee08b'], [0.7, '#fdae61'], [0.8,\n",
       "                              '#f46d43'], [0.9, '#d73027'], [1.0, '#a50026']],\n",
       "               'line': {'color': 'rgb(255,255,255)', 'width': 1.0},\n",
       "               'opacity': 1.0,\n",
       "               'showscale': True,\n",
       "               'size': [2, 2, 2, ..., 7, 5, 5]},\n",
       "    'mode': 'markers',\n",
       "    'text': [cube5_cluster1, cube5_cluster0, cube10_cluster1, ...,\n",
       "             cube163_cluster0, cube164_cluster0, cube164_cluster1],\n",
       "    'uid': 'ab6b70fd-d21d-45c1-87fe-18d0d76c9864',\n",
       "    'x': [4.19750174687881, 10.15493862509414, -6.434967811690834, ...,\n",
       "          -0.8149505799690948, -1.6498835112737946, 0.13426427434915222],\n",
       "    'y': [-15.380673826323607, -12.935562293510428, -9.616304019650142, ...,\n",
       "          -1.9232424366055256, -2.720553422343742, -1.9861734174977406]\n",
       "})"
      ]
     },
     "execution_count": 240,
     "metadata": {},
     "output_type": "execute_result"
    }
   ],
   "source": [
    "fw_graph.data[1]"
   ]
  },
  {
   "cell_type": "code",
   "execution_count": 239,
   "metadata": {},
   "outputs": [
    {
     "data": {
      "text/plain": [
       "Scatter({\n",
       "    'hoverinfo': 'text',\n",
       "    'marker': {'color': [0.2147887323943662, 0.3732394366197183,\n",
       "                         0.00528169014084507, ..., 0.38128772635814895,\n",
       "                         0.2785211267605634, 0.6382042253521127],\n",
       "               'colorbar': {'thickness': 20, 'tickfont': {'size': 10}, 'ticklen': 4, 'x': 1.01},\n",
       "               'colorscale': [[0.0, '#006837'], [0.1, '#1a9850'], [0.2,\n",
       "                              '#66bd63'], [0.3, '#a6d96a'], [0.4, '#d9ef8b'], [0.5,\n",
       "                              '#ffffbf'], [0.6, '#fee08b'], [0.7, '#fdae61'], [0.8,\n",
       "                              '#f46d43'], [0.9, '#d73027'], [1.0, '#a50026']],\n",
       "               'line': {'color': 'rgb(255,255,255)', 'width': 1.0},\n",
       "               'opacity': 1.0,\n",
       "               'showscale': True,\n",
       "               'size': [2, 2, 2, ..., 7, 5, 5]},\n",
       "    'mode': 'markers',\n",
       "    'text': [cube5_cluster1, cube5_cluster0, cube10_cluster1, ...,\n",
       "             cube163_cluster0, cube164_cluster0, cube164_cluster1],\n",
       "    'uid': 'ab6b70fd-d21d-45c1-87fe-18d0d76c9864',\n",
       "    'x': [4.19750174687881, 10.15493862509414, -6.434967811690834, ...,\n",
       "          -0.8149505799690948, -1.6498835112737946, 0.13426427434915222],\n",
       "    'y': [-15.380673826323607, -12.935562293510428, -9.616304019650142, ...,\n",
       "          -1.9232424366055256, -2.720553422343742, -1.9861734174977406]\n",
       "})"
      ]
     },
     "execution_count": 239,
     "metadata": {},
     "output_type": "execute_result"
    }
   ],
   "source": [
    "trace.on_hover(do_on_hover) \n",
    "trace"
   ]
  },
  {
   "cell_type": "code",
   "execution_count": 171,
   "metadata": {},
   "outputs": [
    {
     "data": {
      "text/plain": [
       "'1000000'"
      ]
     },
     "execution_count": 171,
     "metadata": {},
     "output_type": "execute_result"
    }
   ],
   "source": [
    "fw_graph.data[1].marker.colorbar.title = 'dist to<br>x-min'"
   ]
  },
  {
   "cell_type": "code",
   "execution_count": 274,
   "metadata": {},
   "outputs": [
    {
     "data": {
      "text/plain": [
       "scatter.marker.colorbar.Title()"
      ]
     },
     "execution_count": 274,
     "metadata": {},
     "output_type": "execute_result"
    }
   ],
   "source": [
    "fw_graph.data[1].marker.colorbar.title"
   ]
  },
  {
   "cell_type": "code",
   "execution_count": 275,
   "metadata": {},
   "outputs": [],
   "source": [
    "breastc_dict = {0: 'benign', 1: 'malignant'}"
   ]
  },
  {
   "cell_type": "code",
   "execution_count": 283,
   "metadata": {},
   "outputs": [],
   "source": [
    "tooltips = list(fw_graph.data[1].text) "
   ]
  },
  {
   "cell_type": "code",
   "execution_count": 284,
   "metadata": {},
   "outputs": [],
   "source": [
    "new_color = []"
   ]
  },
  {
   "cell_type": "code",
   "execution_count": 278,
   "metadata": {},
   "outputs": [
    {
     "data": {
      "application/vnd.jupyter.widget-view+json": {
       "model_id": "8baf8365fb9a4d2981c72d42349d4626",
       "version_major": 2,
       "version_minor": 0
      },
      "text/plain": [
       "FigureWidget({\n",
       "    'data': [{'hoverinfo': 'none',\n",
       "              'line': {'color': 'rgb(180,180,180)', 'width':…"
      ]
     },
     "metadata": {},
     "output_type": "display_data"
    }
   ],
   "source": [
    "fw_graph"
   ]
  },
  {
   "cell_type": "code",
   "execution_count": 314,
   "metadata": {},
   "outputs": [
    {
     "data": {
      "text/plain": [
       "{'id': 128,\n",
       " 'name': 'cube86_cluster0',\n",
       " 'member_ids': [14, 15, 38, 112, 138, 257, 290, 351, 562],\n",
       " 'color': 0.3476134585289515,\n",
       " 'size': 3,\n",
       " 'cluster': {'above': [], 'below': [], 'size': 9},\n",
       " 'distribution': [{'height': 100.0, 'perc': 33.3, 'color': 'rgb(70, 18, 100)'},\n",
       "  {'height': 33.0, 'perc': 11.1, 'color': 'rgb(68, 51, 125)'},\n",
       "  {'height': 33.0, 'perc': 11.1, 'color': 'rgb(58, 80, 138)'},\n",
       "  {'height': 0.0, 'perc': 0.0, 'color': 'rgb(46, 107, 141)'},\n",
       "  {'height': 33.0, 'perc': 11.1, 'color': 'rgb(36, 131, 141)'},\n",
       "  {'height': 33.0, 'perc': 11.1, 'color': 'rgb(33, 155, 136)'},\n",
       "  {'height': 33.0, 'perc': 11.1, 'color': 'rgb(51, 178, 121)'},\n",
       "  {'height': 0.0, 'perc': 0.0, 'color': 'rgb(94, 199, 96)'},\n",
       "  {'height': 0.0, 'perc': 0.0, 'color': 'rgb(155, 215, 59)'},\n",
       "  {'height': 33.0, 'perc': 11.1, 'color': 'rgb(220, 226, 37)'}],\n",
       " 'projection': [],\n",
       " 'custom_tooltips': array([1, 1, 1, 0, 1, 1, 0, 1, 1], dtype=int64)}"
      ]
     },
     "execution_count": 314,
     "metadata": {},
     "output_type": "execute_result"
    }
   ],
   "source": [
    "kmgraph['nodes'][128]"
   ]
  },
  {
   "cell_type": "code",
   "execution_count": 316,
   "metadata": {},
   "outputs": [],
   "source": [
    "node_128 = [[j, node120] for j, node120 in enumerate(kmgraph['nodes'])][128]"
   ]
  },
  {
   "cell_type": "code",
   "execution_count": 317,
   "metadata": {},
   "outputs": [
    {
     "data": {
      "text/plain": [
       "[128,\n",
       " {'id': 128,\n",
       "  'name': 'cube86_cluster0',\n",
       "  'member_ids': [14, 15, 38, 112, 138, 257, 290, 351, 562],\n",
       "  'color': 0.3476134585289515,\n",
       "  'size': 3,\n",
       "  'cluster': {'above': [], 'below': [], 'size': 9},\n",
       "  'distribution': [{'height': 100.0,\n",
       "    'perc': 33.3,\n",
       "    'color': 'rgb(70, 18, 100)'},\n",
       "   {'height': 33.0, 'perc': 11.1, 'color': 'rgb(68, 51, 125)'},\n",
       "   {'height': 33.0, 'perc': 11.1, 'color': 'rgb(58, 80, 138)'},\n",
       "   {'height': 0.0, 'perc': 0.0, 'color': 'rgb(46, 107, 141)'},\n",
       "   {'height': 33.0, 'perc': 11.1, 'color': 'rgb(36, 131, 141)'},\n",
       "   {'height': 33.0, 'perc': 11.1, 'color': 'rgb(33, 155, 136)'},\n",
       "   {'height': 33.0, 'perc': 11.1, 'color': 'rgb(51, 178, 121)'},\n",
       "   {'height': 0.0, 'perc': 0.0, 'color': 'rgb(94, 199, 96)'},\n",
       "   {'height': 0.0, 'perc': 0.0, 'color': 'rgb(155, 215, 59)'},\n",
       "   {'height': 33.0, 'perc': 11.1, 'color': 'rgb(220, 226, 37)'}],\n",
       "  'projection': [],\n",
       "  'custom_tooltips': array([1, 1, 1, 0, 1, 1, 0, 1, 1], dtype=int64)}]"
      ]
     },
     "execution_count": 317,
     "metadata": {},
     "output_type": "execute_result"
    }
   ],
   "source": [
    "node_128"
   ]
  },
  {
   "cell_type": "code",
   "execution_count": 318,
   "metadata": {},
   "outputs": [],
   "source": [
    "node_128[1]['name']\n",
    "member_label_ids = y[scomplex['nodes'][node_128[1]['name']]]"
   ]
  },
  {
   "cell_type": "code",
   "execution_count": 319,
   "metadata": {},
   "outputs": [
    {
     "data": {
      "text/plain": [
       "['malignant',\n",
       " 'malignant',\n",
       " 'malignant',\n",
       " 'benign',\n",
       " 'malignant',\n",
       " 'malignant',\n",
       " 'benign',\n",
       " 'malignant',\n",
       " 'malignant']"
      ]
     },
     "execution_count": 319,
     "metadata": {},
     "output_type": "execute_result"
    }
   ],
   "source": [
    "breastc_dict = {0: 'benign', 1: 'malignant'}\n",
    "member_labels = [breastc_dict[id] for id in member_label_ids]\n",
    "member_labels"
   ]
  },
  {
   "cell_type": "code",
   "execution_count": 323,
   "metadata": {},
   "outputs": [
    {
     "name": "stdout",
     "output_type": "stream",
     "text": [
      "['benign' 'malignant']\n",
      "[2 7]\n"
     ]
    }
   ],
   "source": [
    "label_type, label_counts = np.unique(member_labels, return_counts=True) \n",
    "print(label_type)\n",
    "print(label_counts)"
   ]
  },
  {
   "cell_type": "code",
   "execution_count": 327,
   "metadata": {},
   "outputs": [
    {
     "name": "stdout",
     "output_type": "stream",
     "text": [
      "[2 7]\n",
      "9\n"
     ]
    }
   ],
   "source": [
    "n_members = label_counts.sum()\n",
    "print(label_counts)\n",
    "print(n_members)\n"
   ]
  },
  {
   "cell_type": "code",
   "execution_count": 330,
   "metadata": {},
   "outputs": [
    {
     "data": {
      "text/plain": [
       "2"
      ]
     },
     "execution_count": 330,
     "metadata": {},
     "output_type": "execute_result"
    }
   ],
   "source": [
    "label_type.shape[0]"
   ]
  },
  {
   "cell_type": "code",
   "execution_count": 331,
   "metadata": {},
   "outputs": [
    {
     "data": {
      "text/plain": [
       "0.7777777777777778"
      ]
     },
     "execution_count": 331,
     "metadata": {},
     "output_type": "execute_result"
    }
   ],
   "source": [
    "1.0*label_counts[1]/n_members"
   ]
  },
  {
   "cell_type": "code",
   "execution_count": 332,
   "metadata": {},
   "outputs": [
    {
     "data": {
      "text/plain": [
       "0.7777777777777778"
      ]
     },
     "execution_count": 332,
     "metadata": {},
     "output_type": "execute_result"
    }
   ],
   "source": [
    "for m in range(len(label_counts)):\n",
    "        tooltips[j] += '<br>' + str(label_type[m]) + ': ' + str(label_counts[m]) # append  how many benign/malign \n",
    "                                                                                 # members exist in each node"
   ]
  },
  {
   "cell_type": "code",
   "execution_count": 336,
   "metadata": {},
   "outputs": [
    {
     "data": {
      "text/plain": [
       "[0, 1]"
      ]
     },
     "execution_count": 336,
     "metadata": {},
     "output_type": "execute_result"
    }
   ],
   "source": [
    "list(range(len(label_counts)))"
   ]
  },
  {
   "cell_type": "code",
   "execution_count": 337,
   "metadata": {},
   "outputs": [
    {
     "data": {
      "text/plain": [
       "'benign'"
      ]
     },
     "execution_count": 337,
     "metadata": {},
     "output_type": "execute_result"
    }
   ],
   "source": [
    "str(label_type[0])"
   ]
  },
  {
   "cell_type": "code",
   "execution_count": 338,
   "metadata": {},
   "outputs": [
    {
     "data": {
      "text/plain": [
       "'2'"
      ]
     },
     "execution_count": 338,
     "metadata": {},
     "output_type": "execute_result"
    }
   ],
   "source": [
    "str(label_counts[0])"
   ]
  },
  {
   "cell_type": "code",
   "execution_count": 339,
   "metadata": {},
   "outputs": [
    {
     "data": {
      "text/plain": [
       "'cube86_cluster0'"
      ]
     },
     "execution_count": 339,
     "metadata": {},
     "output_type": "execute_result"
    }
   ],
   "source": [
    "tooltips[128]"
   ]
  },
  {
   "cell_type": "code",
   "execution_count": 341,
   "metadata": {},
   "outputs": [
    {
     "data": {
      "application/vnd.jupyter.widget-view+json": {
       "model_id": "0e76f08fb3b547e5974d99021e3a3a75",
       "version_major": 2,
       "version_minor": 0
      },
      "text/plain": [
       "FigureWidget({\n",
       "    'data': [{'hoverinfo': 'none',\n",
       "              'line': {'color': 'rgb(180,180,180)', 'width':…"
      ]
     },
     "metadata": {},
     "output_type": "display_data"
    }
   ],
   "source": [
    "fwn_graph = go.FigureWidget(fw_graph)\n",
    "fwn_graph"
   ]
  },
  {
   "cell_type": "code",
   "execution_count": null,
   "metadata": {},
   "outputs": [],
   "source": [
    "fwn_graph = go.FigureWidget(fw_graph) # copy the initial FigureWidget\n",
    "\n",
    "with fwn_graph.batch_update(): # make updates for the new figure                                                                \n",
    "    fwn_graph.data[1].text = tooltips # add the new tooltips\n",
    "    fwn_graph.data[1].marker.colorbar.x = -0.14 # place toolbar at the figure left side\n",
    "    fwn_graph.layout.width = 550 # change the figure size in order to plot two \"parallel\" copies\n",
    "    fwn_graph.layout.height = 550\n",
    "    fwn_graph.layout.margin.r = 45 # decrease the right margin from 60px (default val) to 45 pixels\n",
    "    \n",
    "fw1 = go.FigureWidget(fwn_graph) # define a new figure from  the fwn_graph that will be colored by the new color function  \n",
    "with fw1.batch_update():\n",
    "    fw1.data[1].marker.color = new_color # update node colors\n",
    "    fw1.data[0].line.color = 'rgb(125,125,125)' # update the graph edge color\n",
    "    fw1.layout.plot_bgcolor = 'rgb(240,240,240)'\n",
    "    fw1.layout.annotations = None # remove the mapper_summary from the second plot\n",
    "    fw1.data[1].marker.showscale = False # remove the colorbar\n",
    "    fw1.layout.title = \"Nodes are colored according to the proportion<br> of malignant members\""
   ]
  },
  {
   "cell_type": "code",
   "execution_count": 361,
   "metadata": {},
   "outputs": [],
   "source": [
    "with fwn_graph.batch_update(): # make updates for the new figure                                                                \n",
    "    fwn_graph.data[1].text = tooltips # add the new tooltips\n",
    "    fwn_graph.data[1].marker.colorbar.x = -0.14 # place toolbar at the figure left side\n",
    "    fwn_graph.layout.width = 550 # change the figure size in order to plot two \"parallel\" copies\n",
    "    fwn_graph.layout.height = 550\n",
    "    fwn_graph.layout.margin.r = 45 # decrease the right margin from 60px (default val) to 45 pixels"
   ]
  },
  {
   "cell_type": "code",
   "execution_count": 362,
   "metadata": {},
   "outputs": [],
   "source": [
    "fw1 = go.FigureWidget(fwn_graph)"
   ]
  },
  {
   "cell_type": "code",
   "execution_count": 363,
   "metadata": {},
   "outputs": [
    {
     "data": {
      "text/plain": [
       "<contextlib._GeneratorContextManager at 0x13751688>"
      ]
     },
     "execution_count": 363,
     "metadata": {},
     "output_type": "execute_result"
    }
   ],
   "source": [
    "fw1.batch_update()"
   ]
  },
  {
   "cell_type": "code",
   "execution_count": 369,
   "metadata": {},
   "outputs": [],
   "source": [
    "fw1.data[1].marker.color = new_color"
   ]
  },
  {
   "cell_type": "code",
   "execution_count": null,
   "metadata": {},
   "outputs": [],
   "source": []
  },
  {
   "cell_type": "code",
   "execution_count": null,
   "metadata": {},
   "outputs": [],
   "source": []
  },
  {
   "cell_type": "code",
   "execution_count": null,
   "metadata": {},
   "outputs": [],
   "source": []
  },
  {
   "cell_type": "code",
   "execution_count": null,
   "metadata": {},
   "outputs": [],
   "source": []
  },
  {
   "cell_type": "code",
   "execution_count": null,
   "metadata": {},
   "outputs": [],
   "source": []
  },
  {
   "cell_type": "code",
   "execution_count": null,
   "metadata": {},
   "outputs": [],
   "source": []
  },
  {
   "cell_type": "code",
   "execution_count": null,
   "metadata": {},
   "outputs": [],
   "source": [
    " cluster_data = {\"above\": [], \"below\": [], \"size\": len(member_ids)}\n",
    "for s, f, i, c, a, v in above_stats[:5]:\n",
    "    cluster_data['above'].append({\"feature\":f, \"mean\":round(c, 3), \"std\": round(s,1)})\n",
    "print(cluster_data)    "
   ]
  },
  {
   "cell_type": "code",
   "execution_count": null,
   "metadata": {},
   "outputs": [],
   "source": [
    "cluster_data"
   ]
  },
  {
   "cell_type": "code",
   "execution_count": null,
   "metadata": {},
   "outputs": [],
   "source": [
    "colorscale"
   ]
  },
  {
   "cell_type": "code",
   "execution_count": null,
   "metadata": {},
   "outputs": [],
   "source": [
    "my_colorscale"
   ]
  },
  {
   "cell_type": "code",
   "execution_count": null,
   "metadata": {},
   "outputs": [],
   "source": [
    "pl_brewer = [[0.0, '#006837'],\n",
    "             [0.1, '#1a9850'],\n",
    "             [0.2, '#66bd63'],\n",
    "             [0.3, '#a6d96a'],\n",
    "             [0.4, '#d9ef8b'],\n",
    "             [0.5, '#ffffbf'],\n",
    "             [0.6, '#fee08b'],\n",
    "             [0.7, '#fdae61'],\n",
    "             [0.8, '#f46d43'],\n",
    "             [0.9, '#d73027'],\n",
    "             [1.0, '#a50026']]"
   ]
  },
  {
   "cell_type": "code",
   "execution_count": null,
   "metadata": {},
   "outputs": [],
   "source": [
    "my_colorscale = pl_brewer"
   ]
  },
  {
   "cell_type": "code",
   "execution_count": null,
   "metadata": {},
   "outputs": [],
   "source": [
    "my_colorscale[0][1][0]"
   ]
  },
  {
   "cell_type": "code",
   "execution_count": null,
   "metadata": {},
   "outputs": [],
   "source": [
    "type(my_colorscale)"
   ]
  },
  {
   "cell_type": "code",
   "execution_count": null,
   "metadata": {},
   "outputs": [],
   "source": [
    "plotly_colors = np.array(my_colorscale)[:,1].tolist()"
   ]
  },
  {
   "cell_type": "code",
   "execution_count": null,
   "metadata": {},
   "outputs": [],
   "source": [
    "list(enumerate(plotly_colors))"
   ]
  },
  {
   "cell_type": "code",
   "execution_count": null,
   "metadata": {},
   "outputs": [],
   "source": [
    "for k, hexcode in enumerate(plotly_colors):\n",
    "    hexcode = hexcode.lstrip(\"#\")\n",
    "    hex_len = len(hexcode)\n",
    "    step = hex_len // 3\n",
    "    \n",
    "   \n",
    "    "
   ]
  },
  {
   "cell_type": "code",
   "execution_count": null,
   "metadata": {},
   "outputs": [],
   "source": [
    "list(range(0, hex_len, step))"
   ]
  },
  {
   "cell_type": "code",
   "execution_count": null,
   "metadata": {},
   "outputs": [],
   "source": [
    "int(hexcode[4:4+step], 16)"
   ]
  },
  {
   "cell_type": "code",
   "execution_count": null,
   "metadata": {},
   "outputs": [],
   "source": [
    "color_function[member_ids]"
   ]
  },
  {
   "cell_type": "code",
   "execution_count": null,
   "metadata": {},
   "outputs": [],
   "source": [
    "from kmapper.visuals import _colors_to_rgb\n",
    "my_colorscale = _colors_to_rgb(my_colorscale)\n",
    "my_colorscale"
   ]
  },
  {
   "cell_type": "code",
   "execution_count": null,
   "metadata": {},
   "outputs": [],
   "source": [
    "member_histogram = build_histogram(\n",
    "        color_function[member_ids], colorscale=my_colorscale, nbins=10\n",
    "    )\n",
    "member_histogram"
   ]
  },
  {
   "cell_type": "code",
   "execution_count": null,
   "metadata": {},
   "outputs": [],
   "source": [
    "hist, bin_edges = np.histogram(color_function[member_ids], range=(0, 1), bins=10)"
   ]
  },
  {
   "cell_type": "code",
   "execution_count": null,
   "metadata": {},
   "outputs": [],
   "source": [
    "hist"
   ]
  },
  {
   "cell_type": "code",
   "execution_count": null,
   "metadata": {},
   "outputs": [],
   "source": [
    "bin_edges"
   ]
  },
  {
   "cell_type": "code",
   "execution_count": null,
   "metadata": {},
   "outputs": [],
   "source": [
    "color_function[member_ids]"
   ]
  },
  {
   "cell_type": "code",
   "execution_count": null,
   "metadata": {},
   "outputs": [],
   "source": [
    "bin_mids = np.mean(np.array(list(zip(bin_edges, bin_edges[1:]))),axis=1)\n",
    "bin_mids"
   ]
  },
  {
   "cell_type": "code",
   "execution_count": null,
   "metadata": {},
   "outputs": [],
   "source": [
    "histogram = []\n",
    "max_bucket_value = max(hist)\n",
    "print(max_bucket_value)\n",
    "sum_bucket_value = sum(hist)\n",
    "print(sum_bucket_value)"
   ]
  },
  {
   "cell_type": "code",
   "execution_count": null,
   "metadata": {},
   "outputs": [],
   "source": [
    "list(zip(hist, bin_mids))"
   ]
  },
  {
   "cell_type": "code",
   "execution_count": null,
   "metadata": {},
   "outputs": [],
   "source": [
    "for bar, mid in zip(hist, bin_mids):\n",
    "    height = np.floor(((bar/max_bucket_value)*100)+0.5)\n",
    "    perc = round((bar/sum_bucket_value)*100.0,1)\n",
    "    color = \n",
    "    print(height)\n",
    "    print(perc)"
   ]
  },
  {
   "cell_type": "code",
   "execution_count": null,
   "metadata": {},
   "outputs": [],
   "source": [
    "color = _map_val2color(mid, 0.0, 1.0, colorscale)"
   ]
  },
  {
   "cell_type": "code",
   "execution_count": null,
   "metadata": {},
   "outputs": [],
   "source": [
    "not None"
   ]
  },
  {
   "cell_type": "code",
   "execution_count": null,
   "metadata": {},
   "outputs": [],
   "source": [
    "True and False"
   ]
  },
  {
   "cell_type": "code",
   "execution_count": null,
   "metadata": {},
   "outputs": [],
   "source": []
  }
 ],
 "metadata": {
  "kernelspec": {
   "display_name": "Python 3",
   "language": "python",
   "name": "python3"
  },
  "language_info": {
   "codemirror_mode": {
    "name": "ipython",
    "version": 3
   },
   "file_extension": ".py",
   "mimetype": "text/x-python",
   "name": "python",
   "nbconvert_exporter": "python",
   "pygments_lexer": "ipython3",
   "version": "3.7.7"
  }
 },
 "nbformat": 4,
 "nbformat_minor": 4
}
