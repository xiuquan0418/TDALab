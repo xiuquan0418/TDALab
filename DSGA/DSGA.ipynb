{
 "cells": [
  {
   "cell_type": "code",
   "execution_count": 2,
   "metadata": {},
   "outputs": [],
   "source": [
    "import pandas as pd\n",
    "import numpy\n",
    "import scipy\n",
    "import matplotlib.pyplot as plt\n",
    "from sklearn import linear_model"
   ]
  },
  {
   "cell_type": "code",
   "execution_count": 3,
   "metadata": {},
   "outputs": [],
   "source": [
    "# Display array values to 6 digits of precision\n",
    "numpy.set_printoptions(precision=6, suppress=True)"
   ]
  },
  {
   "cell_type": "code",
   "execution_count": 11,
   "metadata": {},
   "outputs": [],
   "source": [
    "from pathlib import Path\n",
    "home = str(Path.home())\n",
    "home\n",
    "A = pd.read_csv(\"C:/Users/user/Dropbox/Github/TDALab/data/nsource.csv\")"
   ]
  },
  {
   "cell_type": "code",
   "execution_count": null,
   "metadata": {},
   "outputs": [],
   "source": []
  },
  {
   "cell_type": "code",
   "execution_count": 14,
   "metadata": {},
   "outputs": [
    {
     "data": {
      "text/plain": [
       "Index(['valine_d8', 'phenylalanine_d8', '__methyladenosine', '__methylguanine',\n",
       "       '__methylguanosine', '__methylhistamine', '__methylnicotinamide',\n",
       "       '__deoxyuridine', '__o_methylguanosine', '__methylhistidine',\n",
       "       ...\n",
       "       'taurodeoxycholic_acid___tauroche', 'udp_glcnac',\n",
       "       'udp_glucose____galactose', 'uracil', 'age', 'male', 'BMI',\n",
       "       'IncidentStoke_Hx', 'incidentCHD_Hx', 'HbA1c'],\n",
       "      dtype='object', length=2061)"
      ]
     },
     "execution_count": 14,
     "metadata": {},
     "output_type": "execute_result"
    }
   ],
   "source": [
    "A.columns"
   ]
  },
  {
   "cell_type": "code",
   "execution_count": 15,
   "metadata": {},
   "outputs": [],
   "source": [
    "feature_names = [c for c in A.columns if c not in [\"id\", \"age\", \"male\", \"BMI\", \"IncidentStoke_Hx\", \"incidentCHD_Hx\", \"HbA1c\"]]\n",
    "X = numpy.array(A[feature_names].fillna(0))\n",
    "Alt_headers = [\"age\", \"male\", \"BMI\", \"IncidentStoke_Hx\", \"incidentCHD_Hx\", \"HbA1c\"]\n",
    "y = numpy.array(A[Alt_headers])"
   ]
  },
  {
   "cell_type": "markdown",
   "metadata": {},
   "source": [
    "https://matthew-brett.github.io/teaching/pca_introduction.html"
   ]
  },
  {
   "cell_type": "code",
   "execution_count": 16,
   "metadata": {},
   "outputs": [],
   "source": [
    "#----Normal Data set creation----------------------\n",
    "#Normal people\n",
    "X_normal = X[numpy.where((y[:,3] == 0) & (y[:,4] == 0) & (y[:,5] < 6))]\n",
    "X_diabetes = X[numpy.where(y[:,5]>7)]"
   ]
  },
  {
   "cell_type": "code",
   "execution_count": 17,
   "metadata": {},
   "outputs": [
    {
     "data": {
      "text/plain": [
       "(741, 2055)"
      ]
     },
     "execution_count": 17,
     "metadata": {},
     "output_type": "execute_result"
    }
   ],
   "source": [
    "X_normal.shape"
   ]
  },
  {
   "cell_type": "code",
   "execution_count": 18,
   "metadata": {},
   "outputs": [
    {
     "data": {
      "text/plain": [
       "(173, 2055)"
      ]
     },
     "execution_count": 18,
     "metadata": {},
     "output_type": "execute_result"
    }
   ],
   "source": [
    "X_diabetes.shape"
   ]
  },
  {
   "cell_type": "markdown",
   "metadata": {},
   "source": [
    "Method one: Feature selection to genes"
   ]
  },
  {
   "cell_type": "code",
   "execution_count": 29,
   "metadata": {},
   "outputs": [],
   "source": [
    "U, s, V = numpy.linalg.svd(X_normal, full_matrices=False)"
   ]
  },
  {
   "cell_type": "code",
   "execution_count": 30,
   "metadata": {},
   "outputs": [
    {
     "data": {
      "text/plain": [
       "(741, 741)"
      ]
     },
     "execution_count": 30,
     "metadata": {},
     "output_type": "execute_result"
    }
   ],
   "source": [
    "U.shape"
   ]
  },
  {
   "cell_type": "code",
   "execution_count": 31,
   "metadata": {},
   "outputs": [
    {
     "data": {
      "image/png": "[encoded data removed]",
      "text/plain": [
       "<Figure size 432x288 with 1 Axes>"
      ]
     },
     "metadata": {
      "needs_background": "light"
     },
     "output_type": "display_data"
    }
   ],
   "source": [
    "plt.plot(range(0,len(s)), s, linewidth=2.0)\n",
    "#plt.axis([0, 1400, 0, 10])\n",
    "plt.show()\n"
   ]
  },
  {
   "cell_type": "markdown",
   "metadata": {},
   "source": [
    "Variance explained in first $k$ vectors\n",
    "Use $$V_{k}=\\frac{\\sum_{i=1}^{k}\\lambda_{i}^{2}}{\\sum_{i=1}^{N}\\lambda_{i}^{2}}$$"
   ]
  },
  {
   "cell_type": "code",
   "execution_count": 32,
   "metadata": {},
   "outputs": [
    {
     "data": {
      "image/png": "[encoded data removed]",
      "text/plain": [
       "<Figure size 432x288 with 1 Axes>"
      ]
     },
     "metadata": {
      "needs_background": "light"
     },
     "output_type": "display_data"
    }
   ],
   "source": [
    "varAccountedFor = []\n",
    "for i in range(1,len(s)):\n",
    "    varAccountedFor.append(numpy.sum(numpy.square(s[0:i]))/numpy.sum(numpy.square(s[0:])))\n",
    "plt.plot(range(0,len(varAccountedFor)), varAccountedFor, linewidth=2.0)\n",
    "plt.show()"
   ]
  },
  {
   "cell_type": "code",
   "execution_count": 41,
   "metadata": {},
   "outputs": [],
   "source": [
    "def N_hat(U,s,V,l):\n",
    "    ''' returns the dimension reduced array '''\n",
    "    s[l:]=0\n",
    "    S=numpy.diag(s)\n",
    "    N=numpy.matmul(U,numpy.matmul(S,V))\n",
    "    return N\n",
    "\n",
    "#rank of N_hat is reduced to l i.e. L\n",
    " #========Finding the basis of the matrix\n",
    "\n",
    "def basis(N,l,method='QR'):\n",
    "    ''' The numpy matrix returned after N_hat'''\n",
    "    if method != 'QR':\n",
    "        return scipy.linalg.orth(N)\n",
    "    else:\n",
    "        q,r=numpy.linalg.qr(N) # QR decomposition, by means of the Gram–Schmidt process, q: basis,\n",
    "        return q[:,:l]   # r: right upper matrix which element are magnitute of column vectors of N matrix on new coordinates."
   ]
  },
  {
   "cell_type": "code",
   "execution_count": 42,
   "metadata": {},
   "outputs": [
    {
     "name": "stdout",
     "output_type": "stream",
     "text": [
      "Give in the value of l= 200\n"
     ]
    }
   ],
   "source": [
    "#choose l based on the plot (the x-axis value)\n",
    "l=int(input(\"Give in the value of l= \"))\n",
    "N_new=N_hat(U,s,V,l)     # approximation with all the other vectors.\n"
   ]
  },
  {
   "cell_type": "code",
   "execution_count": 43,
   "metadata": {},
   "outputs": [
    {
     "data": {
      "text/plain": [
       "(741, 2055)"
      ]
     },
     "execution_count": 43,
     "metadata": {},
     "output_type": "execute_result"
    }
   ],
   "source": [
    "N_new.shape"
   ]
  },
  {
   "cell_type": "code",
   "execution_count": 44,
   "metadata": {},
   "outputs": [
    {
     "data": {
      "text/plain": [
       "(741, 200)"
      ]
     },
     "execution_count": 44,
     "metadata": {},
     "output_type": "execute_result"
    }
   ],
   "source": [
    "N_b=basis(N_new,l)\n",
    "N_b.shape"
   ]
  },
  {
   "cell_type": "markdown",
   "metadata": {},
   "source": [
    " The difference of basis between svd and gram–schmidt, The first vector in svd basis is the direction of vector with largest magnitude. The first vector in Gram-Schmidt is the first vector of the original matrix. "
   ]
  },
  {
   "cell_type": "code",
   "execution_count": 66,
   "metadata": {},
   "outputs": [
    {
     "data": {
      "text/plain": [
       "0.07286049036599129"
      ]
     },
     "execution_count": 66,
     "metadata": {},
     "output_type": "execute_result"
    }
   ],
   "source": [
    "numpy.sum(numpy.square(N_b[:,0]))"
   ]
  },
  {
   "cell_type": "code",
   "execution_count": 28,
   "metadata": {},
   "outputs": [
    {
     "data": {
      "text/plain": [
       "1.0000000000000009"
      ]
     },
     "execution_count": 28,
     "metadata": {},
     "output_type": "execute_result"
    }
   ],
   "source": [
    "sum(numpy.square(U[:,0]))"
   ]
  },
  {
   "cell_type": "code",
   "execution_count": 29,
   "metadata": {},
   "outputs": [],
   "source": [
    "U_try, s_try, V_try = numpy.linalg.svd(N_new, full_matrices=False)"
   ]
  },
  {
   "cell_type": "code",
   "execution_count": 35,
   "metadata": {},
   "outputs": [
    {
     "data": {
      "text/plain": [
       "array([-0.016039, -0.03418 , -0.002881, -0.010617, -0.042715,  0.051176,\n",
       "        0.046643,  0.008951,  0.015571,  0.029791, -0.027404, -0.027589,\n",
       "        0.019826,  0.013722,  0.00229 ,  0.000358, -0.002322, -0.04175 ,\n",
       "       -0.051284,  0.025463,  0.00897 , -0.045902,  0.033068, -0.009518,\n",
       "        0.021267, -0.031097,  0.115184,  0.043709,  0.00932 , -0.05884 ,\n",
       "       -0.031632, -0.015451,  0.030757, -0.012694,  0.035435,  0.026127,\n",
       "        0.064447,  0.050213, -0.007891, -0.045826, -0.00069 ,  0.004184,\n",
       "        0.024476, -0.005108,  0.018124, -0.002191,  0.007924,  0.022611,\n",
       "        0.055564, -0.029226,  0.018378,  0.005669, -0.051779, -0.00027 ,\n",
       "       -0.060515, -0.005135, -0.026245,  0.067947,  0.069805, -0.030062,\n",
       "       -0.036169,  0.029674,  0.000839, -0.072271,  0.026247,  0.013862,\n",
       "        0.004462, -0.010137, -0.027021, -0.003514,  0.048069, -0.008905,\n",
       "       -0.040792,  0.071937, -0.003994,  0.024809,  0.057909,  0.050065,\n",
       "        0.10664 ,  0.03069 , -0.006995, -0.00861 , -0.037876, -0.052265,\n",
       "        0.019153,  0.028288, -0.032016, -0.013376,  0.006747, -0.031487,\n",
       "       -0.021169, -0.004813,  0.006926, -0.02381 ,  0.023433,  0.004465,\n",
       "        0.00286 , -0.000032,  0.027359,  0.049566, -0.003433, -0.003711,\n",
       "        0.016006,  0.017362, -0.032747, -0.008637,  0.057512, -0.031139,\n",
       "       -0.077885,  0.070001,  0.059477,  0.075381, -0.008778, -0.065426,\n",
       "       -0.015283,  0.059721, -0.031677,  0.157703,  0.04489 ,  0.050097,\n",
       "       -0.008483,  0.021769,  0.007822,  0.003907,  0.018458, -0.012878,\n",
       "        0.026188,  0.021698,  0.000542, -0.008709,  0.001949, -0.052159,\n",
       "       -0.015863,  0.073256, -0.037555,  0.017428,  0.012127, -0.05446 ,\n",
       "        0.004806, -0.044833,  0.017453,  0.04679 , -0.011456,  0.049733,\n",
       "       -0.000064, -0.002208,  0.066492,  0.115987, -0.080981, -0.07152 ,\n",
       "       -0.007228,  0.085477,  0.000875,  0.026494,  0.032199,  0.013213,\n",
       "       -0.041126, -0.072309, -0.030667, -0.063359,  0.012975, -0.028084,\n",
       "        0.00668 ,  0.017883,  0.018905, -0.034697, -0.000104,  0.05858 ,\n",
       "       -0.035702, -0.01046 , -0.099545, -0.071483,  0.015139, -0.022036,\n",
       "        0.054096, -0.020243, -0.027983, -0.077514, -0.024814,  0.034036,\n",
       "        0.008324, -0.033868, -0.021601,  0.041639, -0.002123,  0.002685,\n",
       "        0.008513, -0.059698,  0.005004, -0.061789,  0.011043,  0.003809,\n",
       "        0.028443,  0.030508,  0.052683, -0.019295,  0.023733,  0.085157,\n",
       "       -0.082363,  0.018665,  0.020437, -0.000041, -0.037827,  0.024338,\n",
       "       -0.013496,  0.054787,  0.018893,  0.006412, -0.122952, -0.006179,\n",
       "       -0.016858,  0.001317, -0.007455, -0.023172,  0.01798 ,  0.009602,\n",
       "        0.005465, -0.044506, -0.006735,  0.026293, -0.039682,  0.00056 ,\n",
       "       -0.029748, -0.011704, -0.002252, -0.017777, -0.062813,  0.009911,\n",
       "        0.006242,  0.009004, -0.016039, -0.004075,  0.00868 , -0.040242,\n",
       "       -0.014664, -0.042511,  0.047418, -0.004858, -0.051408, -0.051299,\n",
       "       -0.057408, -0.018837, -0.064284, -0.010505,  0.01718 ,  0.002501,\n",
       "        0.014064,  0.044238, -0.000489,  0.006489, -0.001424, -0.014203,\n",
       "       -0.020496,  0.034968,  0.024424, -0.009064, -0.050671,  0.017946,\n",
       "       -0.005786, -0.007894, -0.024911, -0.065704, -0.036912, -0.02076 ,\n",
       "       -0.026235, -0.030174, -0.029518,  0.005774, -0.022255,  0.007435,\n",
       "       -0.025989, -0.003361, -0.022441,  0.032001, -0.020584, -0.006874,\n",
       "       -0.022719,  0.008593, -0.057138, -0.02737 ,  0.023026, -0.074055,\n",
       "       -0.007826, -0.002331,  0.019996, -0.067886, -0.095687,  0.036999,\n",
       "       -0.029557, -0.068886, -0.005993, -0.038545, -0.007166, -0.020032,\n",
       "        0.001895, -0.008016, -0.007589,  0.010263, -0.034329,  0.038883,\n",
       "        0.012636,  0.049207, -0.021748,  0.047124,  0.025038, -0.028188,\n",
       "        0.014314, -0.006746, -0.001746, -0.022983,  0.021697, -0.01322 ,\n",
       "       -0.002545,  0.076644, -0.028159, -0.004961, -0.01154 , -0.011642,\n",
       "        0.028436,  0.028367,  0.029989,  0.069321,  0.005775,  0.030478,\n",
       "        0.022579, -0.022605,  0.024436,  0.025496,  0.030169, -0.082427,\n",
       "       -0.072074, -0.064701,  0.040521,  0.032175,  0.007093, -0.00289 ,\n",
       "        0.020124, -0.019612,  0.011107,  0.019651, -0.01938 ,  0.012854,\n",
       "       -0.00073 ,  0.041621, -0.023768,  0.009821, -0.016011,  0.020067,\n",
       "       -0.039026, -0.001562, -0.025077, -0.009143, -0.055613, -0.017667,\n",
       "        0.018899,  0.078272, -0.00729 ,  0.010969,  0.017972, -0.009331,\n",
       "       -0.071689, -0.06722 , -0.032843,  0.028532,  0.042941, -0.068674,\n",
       "        0.003706, -0.001457, -0.024969,  0.007928, -0.112508, -0.009677,\n",
       "       -0.02926 , -0.020601, -0.023848,  0.032278,  0.000583, -0.020161,\n",
       "        0.015356, -0.019293,  0.011109,  0.000439, -0.029206,  0.003092,\n",
       "        0.003073, -0.029977, -0.028521,  0.036261, -0.016694, -0.004737,\n",
       "       -0.024197, -0.021768,  0.013913, -0.023028,  0.016729,  0.029387,\n",
       "        0.024801,  0.004027, -0.028153,  0.004244,  0.02098 , -0.033527,\n",
       "        0.012423, -0.038833,  0.017194, -0.036501, -0.026428,  0.001159,\n",
       "        0.025641, -0.025474,  0.001134, -0.003481, -0.066764, -0.036481,\n",
       "       -0.026879, -0.041793,  0.009422, -0.003788, -0.014092,  0.044399,\n",
       "        0.024733, -0.052522, -0.014015, -0.022492, -0.009904,  0.026387,\n",
       "        0.005416, -0.024689,  0.004839,  0.071272, -0.096254, -0.007924,\n",
       "       -0.100164, -0.034353,  0.014266,  0.034249,  0.033499, -0.024161,\n",
       "        0.037765, -0.025042, -0.005617,  0.037069,  0.007934, -0.073036,\n",
       "        0.043372,  0.033132, -0.004134,  0.04023 ,  0.036254, -0.055348,\n",
       "       -0.007817,  0.010347, -0.012143, -0.002932,  0.055812,  0.02861 ,\n",
       "        0.047584, -0.00001 ,  0.001901, -0.006232,  0.065588, -0.057109,\n",
       "       -0.013068, -0.032282, -0.01437 ,  0.002122,  0.064468, -0.03458 ,\n",
       "        0.008604, -0.047528,  0.026662, -0.021885,  0.01867 , -0.005405,\n",
       "       -0.024436,  0.000507, -0.032271, -0.030546,  0.053384, -0.009079,\n",
       "       -0.101145,  0.008429, -0.058221,  0.05405 , -0.011309, -0.005941,\n",
       "       -0.013009, -0.020788,  0.022513,  0.030137, -0.009736, -0.057647,\n",
       "       -0.001265, -0.020123, -0.035137,  0.001038, -0.013495,  0.00967 ,\n",
       "       -0.033689, -0.046221, -0.026879, -0.053476,  0.037112, -0.04811 ,\n",
       "        0.041728, -0.009547,  0.00667 ,  0.004971,  0.010704,  0.001389,\n",
       "       -0.039027,  0.017158,  0.004609,  0.026841,  0.000293, -0.009585,\n",
       "        0.025875,  0.029563,  0.02893 , -0.035549, -0.019572,  0.00833 ,\n",
       "        0.006102,  0.009988,  0.018259,  0.022184,  0.0454  ,  0.021707,\n",
       "       -0.032169, -0.037211, -0.023649, -0.029648,  0.000852, -0.030691,\n",
       "       -0.013244, -0.031134,  0.046547,  0.019969,  0.027769, -0.030774,\n",
       "       -0.031385, -0.015511,  0.011168,  0.028048,  0.004265,  0.021075,\n",
       "        0.038374,  0.045188, -0.017396, -0.019239, -0.022999, -0.014458,\n",
       "       -0.014256,  0.01683 , -0.004132, -0.009429, -0.017558, -0.000278,\n",
       "        0.025688, -0.132657, -0.044554,  0.002263, -0.010687,  0.043197,\n",
       "       -0.02735 ,  0.003175, -0.013036, -0.005737, -0.067068, -0.026385,\n",
       "       -0.013955,  0.025419,  0.021249, -0.068573, -0.003856, -0.038506,\n",
       "        0.011515,  0.011093,  0.002844,  0.02049 , -0.005809,  0.131219,\n",
       "       -0.038625,  0.01549 ,  0.036575, -0.008148, -0.047065, -0.012277,\n",
       "        0.022381, -0.046022,  0.002692, -0.015271, -0.023114, -0.045875,\n",
       "       -0.030971, -0.058404,  0.030288, -0.025735,  0.020038, -0.038934,\n",
       "        0.017782,  0.02808 , -0.010944,  0.027383,  0.001159, -0.038741,\n",
       "        0.017482,  0.014988,  0.000408,  0.000584,  0.000346, -0.005045,\n",
       "        0.065062,  0.029363,  0.074746, -0.034192, -0.01264 ,  0.054027,\n",
       "       -0.105561, -0.027188,  0.090586, -0.006002, -0.003421, -0.005062,\n",
       "       -0.047352, -0.027629,  0.00394 ,  0.030432,  0.059103, -0.005095,\n",
       "        0.000032, -0.018941, -0.015629,  0.097671,  0.033799,  0.020328,\n",
       "       -0.001202, -0.112675, -0.073643,  0.009968,  0.01085 ,  0.025783,\n",
       "       -0.047364,  0.009351,  0.00725 , -0.060345,  0.033703, -0.027965,\n",
       "       -0.09796 , -0.033455, -0.046425, -0.016741, -0.012498, -0.036111,\n",
       "       -0.027592,  0.010601, -0.021093, -0.054922, -0.007233, -0.036493,\n",
       "        0.090125, -0.054458,  0.018316, -0.023274, -0.012145,  0.033925,\n",
       "       -0.053814, -0.004485, -0.002943,  0.044626,  0.061093, -0.047417,\n",
       "        0.032516, -0.007296, -0.014743, -0.056119, -0.021516,  0.033383,\n",
       "       -0.036643,  0.035019,  0.013458, -0.047474, -0.05833 , -0.032688,\n",
       "       -0.005196, -0.039783, -0.005015,  0.121946,  0.066349,  0.02343 ,\n",
       "        0.042147, -0.022598,  0.009561,  0.020472,  0.040333, -0.016648,\n",
       "        0.002513, -0.038902, -0.043977,  0.008019,  0.042951,  0.038709,\n",
       "       -0.000018,  0.012027, -0.001861, -0.043929, -0.013864,  0.012555,\n",
       "        0.076264, -0.008469, -0.011085, -0.001058, -0.033822,  0.013957,\n",
       "        0.030688, -0.015974, -0.031004, -0.030045, -0.052019, -0.005821,\n",
       "       -0.007563, -0.022113,  0.008903,  0.01313 , -0.025665,  0.019718,\n",
       "       -0.035553, -0.0174  ,  0.05337 ,  0.01869 , -0.013046, -0.03117 ,\n",
       "        0.011724,  0.020809, -0.009703,  0.0145  , -0.094992, -0.040612,\n",
       "       -0.02292 ,  0.008777,  0.038464])"
      ]
     },
     "execution_count": 35,
     "metadata": {},
     "output_type": "execute_result"
    }
   ],
   "source": [
    "N_new[:,0]/numpy.sqrt(numpy.sum(numpy.square(N_new[:,0])))"
   ]
  },
  {
   "cell_type": "code",
   "execution_count": 51,
   "metadata": {},
   "outputs": [
    {
     "data": {
      "text/plain": [
       "(741,)"
      ]
     },
     "execution_count": 51,
     "metadata": {},
     "output_type": "execute_result"
    }
   ],
   "source": [
    "N_b[:,0].shape"
   ]
  },
  {
   "cell_type": "code",
   "execution_count": 55,
   "metadata": {},
   "outputs": [],
   "source": [
    "N_p = numpy.matmul(X_normal_T,V.transpose())"
   ]
  },
  {
   "cell_type": "code",
   "execution_count": 56,
   "metadata": {},
   "outputs": [
    {
     "data": {
      "text/plain": [
       "(741, 741)"
      ]
     },
     "execution_count": 56,
     "metadata": {},
     "output_type": "execute_result"
    }
   ],
   "source": [
    "N_p.shape"
   ]
  },
  {
   "cell_type": "code",
   "execution_count": 57,
   "metadata": {},
   "outputs": [
    {
     "data": {
      "text/plain": [
       "array([1226.62342699, 1220.01011676, 1211.90978412, 1205.36719649,\n",
       "       1187.41643427, 1179.67870831, 1171.46614121, 1166.57238434,\n",
       "       1163.3523569 , 1149.54801592, 1146.99305333, 1140.30173198,\n",
       "       1125.05128109, 1116.59898486, 1109.63999203, 1103.28503462,\n",
       "       1094.49147697, 1090.72084266, 1089.47137043, 1078.8854439 ,\n",
       "       1075.21811336, 1063.91476318, 1051.29135494, 1047.017262  ,\n",
       "       1043.88871384, 1031.90222053, 1024.13370252, 1019.96748084,\n",
       "       1015.51996124, 1002.98198282,  999.24908973,  995.60891992,\n",
       "        984.4396597 ,  979.87931666,  975.64377216,  969.95719561,\n",
       "        966.01896211,  963.33976699,  953.46586533,  948.13408992,\n",
       "        939.37567862,  938.06826596,  927.92748238,  924.51507884,\n",
       "        918.49320971,  911.69689136,  905.78785571,  898.5776666 ,\n",
       "        893.99672119,  888.86839416,  887.8407143 ,  882.58977852,\n",
       "        876.21235532,  871.60717419,  864.95048494,  858.75631694,\n",
       "        851.07984221,  841.67274615,  837.43601927,  833.17754374,\n",
       "        827.05983296,  824.29154638,  821.46497791,  813.35928962,\n",
       "        810.14672828,  801.41959074,  795.93865249,  795.31148274,\n",
       "        789.34296195,  785.83127317,  784.69592673,  774.80840977,\n",
       "        766.42679828,  765.85871585,  761.2091718 ,  755.6459789 ,\n",
       "        746.56393106,  745.52565136,  741.39289929,  735.17507131,\n",
       "        734.1044325 ,  728.65537252,  724.45257738,  721.62438805,\n",
       "        717.56853497,  709.97607896,  704.78095086,  700.46801716,\n",
       "        698.36145072,  694.01388844,  691.83690465,  686.0924618 ,\n",
       "        678.79831902,  677.16791688,  672.22901426,  669.84469035,\n",
       "        665.71209766,  663.0614054 ,  658.39112772,  654.43501018,\n",
       "        649.56299542,  647.70008751,  645.82813207,  645.3988968 ,\n",
       "        637.02481942,  633.39363268,  627.43023455,  626.13568448,\n",
       "        624.47138364,  620.62718035,  615.44702149,  611.39271052,\n",
       "        607.81845409,  603.5456559 ,  600.37147011,  596.00231854,\n",
       "        590.58135454,  587.99577564,  581.7976132 ,  578.64395944,\n",
       "        576.31587113,  573.96813735,  570.11843484,  567.76900384,\n",
       "        564.52175625,  560.30432211,  558.56611734,  552.76840233,\n",
       "        548.37048145,  545.66126165,  542.80665746,  539.53319453,\n",
       "        538.15992224,  534.18307782,  527.06990731,  524.86755464,\n",
       "        522.86490903,  519.95804359,  518.37878519,  513.96348542,\n",
       "        509.70827238,  508.94622262,  505.98965748,  501.2881767 ,\n",
       "        497.1026253 ,  495.99272219,  493.9875377 ,  489.59706003,\n",
       "        487.43389843,  485.38239676,  480.74921423,  479.9858734 ,\n",
       "        477.87497906,  476.10026519,  471.99855923,  467.59415519,\n",
       "        465.08447085,  463.56720292,  462.00398596,  456.34268208,\n",
       "        456.05810838,  453.71705631,  450.85871915,  446.85426215,\n",
       "        445.48551521,  442.09779787,  440.07180476,  438.25391253,\n",
       "        437.04539116,  434.45964106,  428.68561083,  426.38710575,\n",
       "        424.60577317,  423.18917702,  421.46917276,  415.92975289,\n",
       "        413.32647989,  410.2498092 ,  409.96626302,  407.2396969 ,\n",
       "        404.03409465,  401.48116705,  398.34127051,  398.27136213,\n",
       "        394.67473799,  390.53068489,  389.79156426,  389.1444367 ,\n",
       "        386.99501806,  384.16761047,  382.89440299,  378.74452065,\n",
       "        378.32506841,  376.7870608 ,  373.50077855,  371.51781379,\n",
       "        368.20722398,  367.01909433,  366.21180673,  364.33643326,\n",
       "        363.94566001,  361.5538875 ,  357.58945362,  354.77266398,\n",
       "        353.57187008,  352.8305017 ,  350.37495778,  348.90969205,\n",
       "        346.39935534,  345.55776292,  342.13282742,  341.14649089,\n",
       "        340.30951866,  336.75155441,  335.21408513,  334.57858002,\n",
       "        332.24103938,  330.27830742,  327.64847334,  325.7830587 ,\n",
       "        323.91306294,  323.22318434,  320.0050983 ,  317.36524771,\n",
       "        315.9687336 ,  314.87269425,  313.17310931,  311.60449845,\n",
       "        310.06329602,  308.85023975,  306.55805011,  304.04198301,\n",
       "        303.50837823,  300.33409786,  298.40205096,  296.84948381,\n",
       "        296.25970011,  294.52088645,  293.07596784,  290.23652117,\n",
       "        286.90100015,  285.57957013,  285.11888599,  282.68960224,\n",
       "        280.79857648,  278.58577964,  277.39552324,  275.36727893,\n",
       "        273.50407461,  271.66854515,  270.96211538,  268.55078622,\n",
       "        268.10044881,  266.86624011,  266.46364408,  264.45075054,\n",
       "        261.64635795,  260.12952628,  258.81895436,  258.59362214,\n",
       "        256.85945565,  255.99373161,  254.18434028,  252.5362326 ,\n",
       "        252.02872515,  250.58505497,  248.35340807,  247.34229378,\n",
       "        245.52253947,  244.69258329,  242.2424504 ,  241.12382113,\n",
       "        239.21441625,  238.71153794,  237.25244736,  235.68369242,\n",
       "        235.25697769,  232.56426907,  231.57733646,  230.67103103,\n",
       "        228.52435237,  228.23431599,  226.59816886,  225.8010215 ,\n",
       "        223.18241298,  221.44109578,  220.12202588,  218.84812275,\n",
       "        218.43871856,  217.46302025,  215.70133555,  214.62490837,\n",
       "        213.82732973,  212.1894037 ,  211.32751359,  210.61544307,\n",
       "        209.41254877,  208.91957805,  206.50238275,  204.57142657,\n",
       "        203.86882424,  202.20915271,  200.70823439,  200.16350958,\n",
       "        198.68944833,  197.72650219,  196.57822894,  195.38284768,\n",
       "        193.8004753 ,  193.25624646,  190.80229057,  189.59566979,\n",
       "        189.05292996,  187.64877858,  187.44090023,  186.5493226 ,\n",
       "        185.50211547,  184.60169485,  182.4811444 ,  181.89797752,\n",
       "        179.74055611,  179.00963608,  178.70898812,  177.36581873,\n",
       "        177.0596555 ,  175.67544226,  174.68192887,  173.67554102,\n",
       "        172.50848382,  172.17454326,  171.59265314,  170.01380247,\n",
       "        169.21085157,  166.94056226,  165.27041625,  164.48777823,\n",
       "        163.85004001,  162.91199681,  162.11661906,  161.29817549,\n",
       "        160.23511854,  159.04157589,  158.70541251,  157.76742238,\n",
       "        157.24275433,  156.61773461,  155.88163337,  153.62854684,\n",
       "        153.14402953,  152.64276316,  150.86645108,  149.79419491,\n",
       "        149.56730826,  149.19012576,  147.1836491 ,  146.14949845,\n",
       "        145.1668247 ,  145.00464441,  143.67676796,  143.32570825,\n",
       "        142.57660218,  141.41724745,  140.45902103,  139.47819085,\n",
       "        138.89120446,  138.15935227,  137.32096956,  136.31668715,\n",
       "        135.29143824,  133.76509962,  132.93452444,  132.33225485,\n",
       "        131.42708687,  130.83347509,  130.29116323,  129.18238809,\n",
       "        127.9839893 ,  127.04068212,  126.63587128,  126.23206252,\n",
       "        124.97373366,  123.62151847,  122.78512081,  122.52165101,\n",
       "        122.02672985,  121.56503491,  120.60427238,  120.23393489,\n",
       "        119.94092597,  118.71521765,  117.8629793 ,  116.05905992,\n",
       "        115.81221198,  115.36515787,  114.05403255,  112.93348019,\n",
       "        112.49170831,  112.15541846,  111.51907721,  111.24969688,\n",
       "        110.64837733,  109.59035712,  108.21487385,  107.94232511,\n",
       "        107.38554514,  107.00076159,  105.92643863,  105.43825653,\n",
       "        105.08161784,  104.3399637 ,  103.58927557,  102.05883012,\n",
       "        101.35130144,  101.15450004,  100.62198643,   99.71214411,\n",
       "         99.31839152,   98.31982592,   97.90485236,   97.29493966,\n",
       "         96.38035436,   95.51578306,   94.95145644,   94.27252256,\n",
       "         94.0193436 ,   93.43017819,   92.1928332 ,   91.57732613,\n",
       "         91.45322838,   90.50902646,   90.1891188 ,   89.06933876,\n",
       "         88.46153218,   87.99100885,   87.08995937,   86.71012932,\n",
       "         85.773956  ,   85.11443734,   84.11111634,   83.52646782,\n",
       "         83.33120359,   82.27012645,   81.85918274,   81.4914129 ,\n",
       "         80.83452647,   80.40101517,   79.57774865,   78.9477786 ,\n",
       "         78.82367339,   78.38357922,   77.20274029,   76.52251539,\n",
       "         76.17466604,   74.88392735,   74.43540989,   74.07879726,\n",
       "         73.45785692,   72.55575759,   72.38914143,   71.80661113,\n",
       "         71.48524283,   70.74497549,   70.65674615,   70.01455775,\n",
       "         69.56518686,   69.31794394,   68.15655131,   67.93628123,\n",
       "         67.40960261,   66.63986935,   66.21320912,   65.93571457,\n",
       "         65.39991993,   65.17962181,   64.46339493,   64.11309225,\n",
       "         63.02616546,   62.73339734,   61.85123479,   61.48609769,\n",
       "         61.0373057 ,   60.53963867,   60.19802557,   59.88352585,\n",
       "         59.39911367,   58.95051231,   58.60947922,   57.81684637,\n",
       "         57.60270395,   56.71353245,   56.29432201,   55.03505174,\n",
       "         54.16765483,   53.86237525,   53.77447872,   52.86813   ,\n",
       "         52.67787732,   52.66126941,   51.80918982,   51.5918552 ,\n",
       "         51.32536573,   50.46353246,   49.67891884,   49.29705532,\n",
       "         49.04767283,   48.13073968,   47.56365816,   47.2741815 ,\n",
       "         46.70549128,   46.07096092,   45.79946645,   45.05663761,\n",
       "         44.97913495,   44.33818988,   43.7377438 ,   43.72361248,\n",
       "         43.4276857 ,   42.39282479,   42.04338085,   41.81177508,\n",
       "         41.20774617,   40.42266167,   39.8367692 ,   39.05114737,\n",
       "         38.93115499,   38.62876457,   38.46316056,   37.48922494,\n",
       "         36.51634337,   36.45250234,   35.57792347,   35.23486699,\n",
       "         34.76783652,   34.67187713,   33.46871553,   32.45264847,\n",
       "         32.37261237,   31.49390298,   30.80045803,   29.9306398 ,\n",
       "         29.01216351])"
      ]
     },
     "execution_count": 57,
     "metadata": {},
     "output_type": "execute_result"
    }
   ],
   "source": [
    "numpy.sum(numpy.square(N_p[:,200:]),axis=0)"
   ]
  },
  {
   "cell_type": "markdown",
   "metadata": {},
   "source": [
    "Method Two: Feature selection to Patients"
   ]
  },
  {
   "cell_type": "code",
   "execution_count": 25,
   "metadata": {},
   "outputs": [],
   "source": [
    "U_p, s_p, V_p = numpy.linalg.svd(X_normal, full_matrices=False)"
   ]
  },
  {
   "cell_type": "code",
   "execution_count": 26,
   "metadata": {},
   "outputs": [
    {
     "data": {
      "text/plain": [
       "(741, 741)"
      ]
     },
     "execution_count": 26,
     "metadata": {},
     "output_type": "execute_result"
    }
   ],
   "source": [
    "U_p.shape"
   ]
  },
  {
   "cell_type": "code",
   "execution_count": 94,
   "metadata": {},
   "outputs": [],
   "source": [
    "def project(A,v):\n",
    "    ''' A is a numpy array of basis of the subspace, output of basis\n",
    "    v is the column of A(orginal matrix)\n",
    "    Vn is the projected data on N_l space\n",
    "    and V_np is the projected data perpendicular to it'''\n",
    "    P_2=numpy.linalg.inv(numpy.matmul(A.transpose(),A))\n",
    "    P=numpy.matmul(numpy.matmul(A,P_2),A.transpose())\n",
    "    Vn=numpy.dot(P,v)\n",
    "    V_np=v-Vn\n",
    "    return (Vn,V_np)"
   ]
  },
  {
   "cell_type": "code",
   "execution_count": 38,
   "metadata": {},
   "outputs": [],
   "source": []
  },
  {
   "cell_type": "code",
   "execution_count": 43,
   "metadata": {},
   "outputs": [
    {
     "data": {
      "text/plain": [
       "(741, 741)"
      ]
     },
     "execution_count": 43,
     "metadata": {},
     "output_type": "execute_result"
    }
   ],
   "source": [
    "U.shape"
   ]
  },
  {
   "cell_type": "code",
   "execution_count": 42,
   "metadata": {},
   "outputs": [
    {
     "data": {
      "text/plain": [
       "(1, 2)"
      ]
     },
     "execution_count": 42,
     "metadata": {},
     "output_type": "execute_result"
    }
   ],
   "source": []
  },
  {
   "cell_type": "code",
   "execution_count": 102,
   "metadata": {},
   "outputs": [
    {
     "ename": "ValueError",
     "evalue": "shapes (741,741) and (2055,) not aligned: 741 (dim 1) != 2055 (dim 0)",
     "output_type": "error",
     "traceback": [
      "\u001b[1;31m---------------------------------------------------------------------------\u001b[0m",
      "\u001b[1;31mValueError\u001b[0m                                Traceback (most recent call last)",
      "\u001b[1;32m<ipython-input-102-7b9923100819>\u001b[0m in \u001b[0;36m<module>\u001b[1;34m\u001b[0m\n\u001b[0;32m      5\u001b[0m \u001b[1;32mfor\u001b[0m \u001b[0mi\u001b[0m \u001b[1;32min\u001b[0m \u001b[0mrange\u001b[0m\u001b[1;33m(\u001b[0m\u001b[0mq\u001b[0m\u001b[1;33m)\u001b[0m\u001b[1;33m:\u001b[0m\u001b[1;33m\u001b[0m\u001b[1;33m\u001b[0m\u001b[0m\n\u001b[0;32m      6\u001b[0m     \u001b[0mpp\u001b[0m\u001b[1;33m=\u001b[0m\u001b[0mX_normal\u001b[0m\u001b[1;33m[\u001b[0m\u001b[0mi\u001b[0m\u001b[1;33m,\u001b[0m\u001b[1;33m:\u001b[0m\u001b[1;33m]\u001b[0m\u001b[1;33m\u001b[0m\u001b[1;33m\u001b[0m\u001b[0m\n\u001b[1;32m----> 7\u001b[1;33m     \u001b[1;33m(\u001b[0m\u001b[0mV_n\u001b[0m\u001b[1;33m,\u001b[0m\u001b[0mV_np\u001b[0m\u001b[1;33m)\u001b[0m\u001b[1;33m=\u001b[0m\u001b[0mproject\u001b[0m\u001b[1;33m(\u001b[0m\u001b[0mN_b\u001b[0m\u001b[1;33m,\u001b[0m\u001b[0mpp\u001b[0m\u001b[1;33m)\u001b[0m\u001b[1;33m\u001b[0m\u001b[1;33m\u001b[0m\u001b[0m\n\u001b[0m\u001b[0;32m      8\u001b[0m     \u001b[0mN_c\u001b[0m\u001b[1;33m.\u001b[0m\u001b[0mappend\u001b[0m\u001b[1;33m(\u001b[0m\u001b[0mV_n\u001b[0m\u001b[1;33m)\u001b[0m\u001b[1;33m\u001b[0m\u001b[1;33m\u001b[0m\u001b[0m\n\u001b[0;32m      9\u001b[0m     \u001b[0mD_c\u001b[0m\u001b[1;33m.\u001b[0m\u001b[0mappend\u001b[0m\u001b[1;33m(\u001b[0m\u001b[0mV_np\u001b[0m\u001b[1;33m)\u001b[0m\u001b[1;33m\u001b[0m\u001b[1;33m\u001b[0m\u001b[0m\n",
      "\u001b[1;32m<ipython-input-94-567e46faef9b>\u001b[0m in \u001b[0;36mproject\u001b[1;34m(A, v)\u001b[0m\n\u001b[0;32m      6\u001b[0m     \u001b[0mP_2\u001b[0m\u001b[1;33m=\u001b[0m\u001b[0mnumpy\u001b[0m\u001b[1;33m.\u001b[0m\u001b[0mlinalg\u001b[0m\u001b[1;33m.\u001b[0m\u001b[0minv\u001b[0m\u001b[1;33m(\u001b[0m\u001b[0mnumpy\u001b[0m\u001b[1;33m.\u001b[0m\u001b[0mmatmul\u001b[0m\u001b[1;33m(\u001b[0m\u001b[0mA\u001b[0m\u001b[1;33m.\u001b[0m\u001b[0mtranspose\u001b[0m\u001b[1;33m(\u001b[0m\u001b[1;33m)\u001b[0m\u001b[1;33m,\u001b[0m\u001b[0mA\u001b[0m\u001b[1;33m)\u001b[0m\u001b[1;33m)\u001b[0m\u001b[1;33m\u001b[0m\u001b[1;33m\u001b[0m\u001b[0m\n\u001b[0;32m      7\u001b[0m     \u001b[0mP\u001b[0m\u001b[1;33m=\u001b[0m\u001b[0mnumpy\u001b[0m\u001b[1;33m.\u001b[0m\u001b[0mmatmul\u001b[0m\u001b[1;33m(\u001b[0m\u001b[0mnumpy\u001b[0m\u001b[1;33m.\u001b[0m\u001b[0mmatmul\u001b[0m\u001b[1;33m(\u001b[0m\u001b[0mA\u001b[0m\u001b[1;33m,\u001b[0m\u001b[0mP_2\u001b[0m\u001b[1;33m)\u001b[0m\u001b[1;33m,\u001b[0m\u001b[0mA\u001b[0m\u001b[1;33m.\u001b[0m\u001b[0mtranspose\u001b[0m\u001b[1;33m(\u001b[0m\u001b[1;33m)\u001b[0m\u001b[1;33m)\u001b[0m\u001b[1;33m\u001b[0m\u001b[1;33m\u001b[0m\u001b[0m\n\u001b[1;32m----> 8\u001b[1;33m     \u001b[0mVn\u001b[0m\u001b[1;33m=\u001b[0m\u001b[0mnumpy\u001b[0m\u001b[1;33m.\u001b[0m\u001b[0mdot\u001b[0m\u001b[1;33m(\u001b[0m\u001b[0mP\u001b[0m\u001b[1;33m,\u001b[0m\u001b[0mv\u001b[0m\u001b[1;33m)\u001b[0m\u001b[1;33m\u001b[0m\u001b[1;33m\u001b[0m\u001b[0m\n\u001b[0m\u001b[0;32m      9\u001b[0m     \u001b[0mV_np\u001b[0m\u001b[1;33m=\u001b[0m\u001b[0mv\u001b[0m\u001b[1;33m-\u001b[0m\u001b[0mVn\u001b[0m\u001b[1;33m\u001b[0m\u001b[1;33m\u001b[0m\u001b[0m\n\u001b[0;32m     10\u001b[0m     \u001b[1;32mreturn\u001b[0m \u001b[1;33m(\u001b[0m\u001b[0mVn\u001b[0m\u001b[1;33m,\u001b[0m\u001b[0mV_np\u001b[0m\u001b[1;33m)\u001b[0m\u001b[1;33m\u001b[0m\u001b[1;33m\u001b[0m\u001b[0m\n",
      "\u001b[1;31mValueError\u001b[0m: shapes (741,741) and (2055,) not aligned: 741 (dim 1) != 2055 (dim 0)"
     ]
    }
   ],
   "source": [
    "(p,q) = X_normal.shape\n",
    "\n",
    "N_c=[]\n",
    "D_c=[]\n",
    "for i in range(q):\n",
    "    pp=X_normal[i,:]\n",
    "    (V_n,V_np)=project(N_b,pp)\n",
    "    N_c.append(V_n)\n",
    "    D_c.append(V_np)\n",
    "N_c=numpy.stack(N_c,axis=1)\n",
    "D_c=numpy.stack(D_c,axis=1)"
   ]
  },
  {
   "cell_type": "code",
   "execution_count": 98,
   "metadata": {},
   "outputs": [
    {
     "name": "stdout",
     "output_type": "stream",
     "text": [
      "2055\n"
     ]
    }
   ],
   "source": []
  },
  {
   "cell_type": "code",
   "execution_count": 105,
   "metadata": {},
   "outputs": [
    {
     "data": {
      "image/png": "[encoded data removed]",
      "text/plain": [
       "<Figure size 432x288 with 1 Axes>"
      ]
     },
     "metadata": {
      "needs_background": "light"
     },
     "output_type": "display_data"
    }
   ],
   "source": [
    "N_Dc_dist = numpy.sum(numpy.square(D_c),axis=0)\n",
    "plt.hist(N_Dc_dist, bins='auto');"
   ]
  },
  {
   "cell_type": "code",
   "execution_count": 63,
   "metadata": {},
   "outputs": [
    {
     "ename": "ValueError",
     "evalue": "shapes (741,741) and (173,) not aligned: 741 (dim 1) != 173 (dim 0)",
     "output_type": "error",
     "traceback": [
      "\u001b[1;31m---------------------------------------------------------------------------\u001b[0m",
      "\u001b[1;31mValueError\u001b[0m                                Traceback (most recent call last)",
      "\u001b[1;32m<ipython-input-63-28b74ae95b73>\u001b[0m in \u001b[0;36m<module>\u001b[1;34m\u001b[0m\n\u001b[0;32m      6\u001b[0m \u001b[1;32mfor\u001b[0m \u001b[0mi\u001b[0m \u001b[1;32min\u001b[0m \u001b[0mrange\u001b[0m\u001b[1;33m(\u001b[0m\u001b[0mp1\u001b[0m\u001b[1;33m)\u001b[0m\u001b[1;33m:\u001b[0m\u001b[1;33m\u001b[0m\u001b[1;33m\u001b[0m\u001b[0m\n\u001b[0;32m      7\u001b[0m     \u001b[0mp_diat\u001b[0m\u001b[1;33m,\u001b[0m\u001b[0mX_diabetes_T_new\u001b[0m\u001b[1;33m=\u001b[0m\u001b[0mdrop\u001b[0m\u001b[1;33m(\u001b[0m\u001b[0mX_diabetes\u001b[0m\u001b[1;33m,\u001b[0m\u001b[0mi\u001b[0m\u001b[1;33m)\u001b[0m\u001b[1;33m\u001b[0m\u001b[1;33m\u001b[0m\u001b[0m\n\u001b[1;32m----> 8\u001b[1;33m     \u001b[1;33m(\u001b[0m\u001b[0mV_n\u001b[0m\u001b[1;33m,\u001b[0m\u001b[0mV_np\u001b[0m\u001b[1;33m)\u001b[0m\u001b[1;33m=\u001b[0m\u001b[0mproject\u001b[0m\u001b[1;33m(\u001b[0m\u001b[0mN_b\u001b[0m\u001b[1;33m,\u001b[0m\u001b[0mp_diat\u001b[0m\u001b[1;33m)\u001b[0m\u001b[1;33m\u001b[0m\u001b[1;33m\u001b[0m\u001b[0m\n\u001b[0m\u001b[0;32m      9\u001b[0m \u001b[1;31m#    Diab_Nc.append(V_n)\u001b[0m\u001b[1;33m\u001b[0m\u001b[1;33m\u001b[0m\u001b[1;33m\u001b[0m\u001b[0m\n\u001b[0;32m     10\u001b[0m \u001b[1;31m#    Diab_Dc.append(V_np)\u001b[0m\u001b[1;33m\u001b[0m\u001b[1;33m\u001b[0m\u001b[1;33m\u001b[0m\u001b[0m\n",
      "\u001b[1;32m<ipython-input-58-567e46faef9b>\u001b[0m in \u001b[0;36mproject\u001b[1;34m(A, v)\u001b[0m\n\u001b[0;32m      6\u001b[0m     \u001b[0mP_2\u001b[0m\u001b[1;33m=\u001b[0m\u001b[0mnumpy\u001b[0m\u001b[1;33m.\u001b[0m\u001b[0mlinalg\u001b[0m\u001b[1;33m.\u001b[0m\u001b[0minv\u001b[0m\u001b[1;33m(\u001b[0m\u001b[0mnumpy\u001b[0m\u001b[1;33m.\u001b[0m\u001b[0mmatmul\u001b[0m\u001b[1;33m(\u001b[0m\u001b[0mA\u001b[0m\u001b[1;33m.\u001b[0m\u001b[0mtranspose\u001b[0m\u001b[1;33m(\u001b[0m\u001b[1;33m)\u001b[0m\u001b[1;33m,\u001b[0m\u001b[0mA\u001b[0m\u001b[1;33m)\u001b[0m\u001b[1;33m)\u001b[0m\u001b[1;33m\u001b[0m\u001b[1;33m\u001b[0m\u001b[0m\n\u001b[0;32m      7\u001b[0m     \u001b[0mP\u001b[0m\u001b[1;33m=\u001b[0m\u001b[0mnumpy\u001b[0m\u001b[1;33m.\u001b[0m\u001b[0mmatmul\u001b[0m\u001b[1;33m(\u001b[0m\u001b[0mnumpy\u001b[0m\u001b[1;33m.\u001b[0m\u001b[0mmatmul\u001b[0m\u001b[1;33m(\u001b[0m\u001b[0mA\u001b[0m\u001b[1;33m,\u001b[0m\u001b[0mP_2\u001b[0m\u001b[1;33m)\u001b[0m\u001b[1;33m,\u001b[0m\u001b[0mA\u001b[0m\u001b[1;33m.\u001b[0m\u001b[0mtranspose\u001b[0m\u001b[1;33m(\u001b[0m\u001b[1;33m)\u001b[0m\u001b[1;33m)\u001b[0m\u001b[1;33m\u001b[0m\u001b[1;33m\u001b[0m\u001b[0m\n\u001b[1;32m----> 8\u001b[1;33m     \u001b[0mVn\u001b[0m\u001b[1;33m=\u001b[0m\u001b[0mnumpy\u001b[0m\u001b[1;33m.\u001b[0m\u001b[0mdot\u001b[0m\u001b[1;33m(\u001b[0m\u001b[0mP\u001b[0m\u001b[1;33m,\u001b[0m\u001b[0mv\u001b[0m\u001b[1;33m)\u001b[0m\u001b[1;33m\u001b[0m\u001b[1;33m\u001b[0m\u001b[0m\n\u001b[0m\u001b[0;32m      9\u001b[0m     \u001b[0mV_np\u001b[0m\u001b[1;33m=\u001b[0m\u001b[0mv\u001b[0m\u001b[1;33m-\u001b[0m\u001b[0mVn\u001b[0m\u001b[1;33m\u001b[0m\u001b[1;33m\u001b[0m\u001b[0m\n\u001b[0;32m     10\u001b[0m     \u001b[1;32mreturn\u001b[0m \u001b[1;33m(\u001b[0m\u001b[0mVn\u001b[0m\u001b[1;33m,\u001b[0m\u001b[0mV_np\u001b[0m\u001b[1;33m)\u001b[0m\u001b[1;33m\u001b[0m\u001b[1;33m\u001b[0m\u001b[0m\n",
      "\u001b[1;31mValueError\u001b[0m: shapes (741,741) and (173,) not aligned: 741 (dim 1) != 173 (dim 0)"
     ]
    }
   ],
   "source": [
    "#================ Normal data projection to Checking ==============\n",
    "(p1,q1) = X_diabetes.shape\n",
    "\n",
    "Diab_Nc=[]\n",
    "Diab_Dc=[]\n",
    "for i in range(p1):\n",
    "    p_diat,X_diabetes_T_new=drop(X_diabetes,i)\n",
    "    (V_n,V_np)=project(N_b,p_diat)\n",
    "#    Diab_Nc.append(V_n)\n",
    "#    Diab_Dc.append(V_np)\n",
    "#Diab_Nc=numpy.stack(Diab_Nc,axis=1)\n",
    "#Diab_Dc=numpy.stack(Diab_Dc,axis=1)"
   ]
  },
  {
   "cell_type": "code",
   "execution_count": 64,
   "metadata": {},
   "outputs": [],
   "source": [
    "Diat_dist = numpy.sum(numpy.square(Diab_Dc),axis=0)"
   ]
  },
  {
   "cell_type": "code",
   "execution_count": 65,
   "metadata": {},
   "outputs": [
    {
     "data": {
      "image/png": "[encoded data removed]",
      "text/plain": [
       "<Figure size 432x288 with 1 Axes>"
      ]
     },
     "metadata": {
      "needs_background": "light"
     },
     "output_type": "display_data"
    }
   ],
   "source": [
    "fig, ax = plt.subplots()\n",
    "ax.hist(N_Dc_dist, bins='auto', ec='red', histtype='step')\n",
    "ax.hist(Diat_dist, bins='auto', ec='green', histtype='step')\n",
    "#ax.legend(loc='upper left')\n",
    "plt.show()"
   ]
  },
  {
   "cell_type": "markdown",
   "metadata": {},
   "source": [
    "$$W(l)\\approx\\left(\\frac{\\lambda_{l}^{2}}{\\lambda_{l+1}^{2}+\\cdots+\\lambda_{R}^{2}}\\right)\\frac{(n-l-1)(R-l)}{n+R-2l}$$\n",
    "Recall that $\\lambda_{i}$ essentially gives a\n",
    "measure of the amount of data in the $i_{th}$ direction, so that\n",
    "roughly, Wold’s invariant $W(l)$ measures the ratio between the\n",
    "smallest signal $\\lambda_{l}$ and all noise (the subsequent singular values\n",
    "$\\lambda_{l+1}, \\cdots, \\lambda_{r}$.). We take $L$ so that $W(l)$ spikes up for the value $L$"
   ]
  },
  {
   "cell_type": "code",
   "execution_count": 312,
   "metadata": {},
   "outputs": [],
   "source": [
    "def wold(s,l,R,n):\n",
    "   ''' s is the matrix containing singular values in descending order\n",
    "   l is the dimension we wish to reduce to; not indices\n",
    "   R is the orginal dimension; not indices, i.e. the number of normal samples\n",
    "   n is the number of rows or genes'''\n",
    "   c=(n-l-1)*(R-l)/(n+R-2*l)\n",
    "   l = l-1 #makes it as index\n",
    "   R = R-1 #makes it as index\n",
    "   w_1 = (s[l])**2/numpy.sum(numpy.square(s[l+1:]))\n",
    "   return w_1*c"
   ]
  },
  {
   "cell_type": "code",
   "execution_count": 332,
   "metadata": {},
   "outputs": [
    {
     "data": {
      "image/png": "[encoded data removed]",
      "text/plain": [
       "<Figure size 432x288 with 1 Axes>"
      ]
     },
     "metadata": {
      "needs_background": "light"
     },
     "output_type": "display_data"
    },
    {
     "data": {
      "text/plain": [
       "[60.736732126722586,\n",
       " 31.47956546629699,\n",
       " 22.952611305999188,\n",
       " 19.1155335570108,\n",
       " 17.750700412557403,\n",
       " 17.1132341910641,\n",
       " 14.853028653659035,\n",
       " 14.406383341713385,\n",
       " 13.339951297574904,\n",
       " 13.004965861292048]"
      ]
     },
     "execution_count": 332,
     "metadata": {},
     "output_type": "execute_result"
    }
   ],
   "source": [
    "dim = X_normal_T.shape\n",
    "r = dim[1]\n",
    "gamma = dim[0]\n",
    "\n",
    "wold_cost = []\n",
    "for i in range(1,r):\n",
    "    wold_cost.append(wold(s,i,r,gamma))\n",
    "wold_cost\n",
    "plt.plot(range(1,r), wold_cost, linewidth=2.0)\n",
    "plt.title('measure of signal to noise ratio')\n",
    "plt.axis([0, r, 0, 65])\n",
    "plt.show()\n",
    "wold_cost[0:10]"
   ]
  },
  {
   "cell_type": "code",
   "execution_count": 495,
   "metadata": {},
   "outputs": [],
   "source": [
    "def DIC(s,l,n):\n",
    "   ''' s is the matrix containing singular values in descending order\n",
    "   l is the dimension we wish to reduce to; not indices\n",
    "   R is the orginal dimension; not indices, i.e. the number of normal samples\n",
    "   n is the number of rows or genes'''\n",
    "\n",
    "   V_1 = numpy.sum(numpy.square(s[0:l]))/numpy.sum(numpy.square(s[0:]))\n",
    "   c = l*numpy.log(n) - 200*V_1\n",
    "   return V_1*c"
   ]
  },
  {
   "cell_type": "code",
   "execution_count": 496,
   "metadata": {},
   "outputs": [
    {
     "name": "stdout",
     "output_type": "stream",
     "text": [
      "4696.5284633444\n"
     ]
    }
   ],
   "source": [
    "dim = X_normal_T.shape\n",
    "r = dim[1]\n",
    "\n",
    "\n",
    "print(DIC(s,r,r))"
   ]
  },
  {
   "cell_type": "code",
   "execution_count": 497,
   "metadata": {},
   "outputs": [
    {
     "data": {
      "text/plain": [
       "array([385.15498051])"
      ]
     },
     "execution_count": 497,
     "metadata": {},
     "output_type": "execute_result"
    }
   ],
   "source": [
    "s[0:1]"
   ]
  },
  {
   "cell_type": "code",
   "execution_count": 498,
   "metadata": {},
   "outputs": [
    {
     "data": {
      "image/png": "[encoded data removed]",
      "text/plain": [
       "<Figure size 432x288 with 1 Axes>"
      ]
     },
     "metadata": {
      "needs_background": "light"
     },
     "output_type": "display_data"
    }
   ],
   "source": [
    "dim = X_normal_T.shape\n",
    "r = dim[1]\n",
    "gamma = dim[0]\n",
    "\n",
    "drew_cost = []\n",
    "for i in range(1,r):\n",
    "    drew_cost.append(DIC(s,i,r))\n",
    "#drew_cost\n",
    "plt.plot(range(1,50), drew_cost[1:50], linewidth=2.0)\n",
    "plt.title('measure of signal to noise ratio')\n",
    "#plt.axis([0, r, 0, 65])\n",
    "plt.show()\n",
    "#drew_cost[0:20]\n"
   ]
  },
  {
   "cell_type": "code",
   "execution_count": null,
   "metadata": {},
   "outputs": [],
   "source": []
  },
  {
   "cell_type": "code",
   "execution_count": 22,
   "metadata": {},
   "outputs": [],
   "source": [
    "#----------FLAT Reconstruction---------------\n",
    "def drop(A,ind):\n",
    "    ''' A is a numpy matrix \n",
    "        ind is the index of the column to be removed'''\n",
    "    p=A[:,ind]                   # removed column\n",
    "    A_1=A[:,0:ind]\n",
    "    A_2=A[:,ind+1:A.shape[1]]\n",
    "    A_new=numpy.hstack((A_1,A_2))    # left columns\n",
    "    return (p,A_new)\n",
    "\n",
    "def flat(A,ind):\n",
    "    B=drop(A,ind)\n",
    "    X=B[1]\n",
    "    y=B[0]\n",
    "    reg = linear_model.LinearRegression(fit_intercept=False)\n",
    "    reg.fit(X,y)\n",
    "    #print(X.shape)\n",
    "    #print(reg.coef_.shape)\n",
    "    return numpy.dot(X,reg.coef_)"
   ]
  },
  {
   "cell_type": "code",
   "execution_count": 401,
   "metadata": {},
   "outputs": [],
   "source": [
    "N=[]\n",
    "for i in range(r):\n",
    "    N_i=flat(X_normal_T,i)\n",
    "    N.append(N_i)\n",
    "N=numpy.stack(N,axis=1)"
   ]
  },
  {
   "cell_type": "code",
   "execution_count": 402,
   "metadata": {},
   "outputs": [
    {
     "data": {
      "text/plain": [
       "(2055, 741)"
      ]
     },
     "execution_count": 402,
     "metadata": {},
     "output_type": "execute_result"
    }
   ],
   "source": [
    "N.shape"
   ]
  },
  {
   "cell_type": "code",
   "execution_count": 403,
   "metadata": {},
   "outputs": [],
   "source": [
    "U, s, V = numpy.linalg.svd(N, full_matrices=False)"
   ]
  },
  {
   "cell_type": "code",
   "execution_count": 404,
   "metadata": {},
   "outputs": [
    {
     "data": {
      "image/png": "[encoded data removed]",
      "text/plain": [
       "<Figure size 432x288 with 1 Axes>"
      ]
     },
     "metadata": {
      "needs_background": "light"
     },
     "output_type": "display_data"
    }
   ],
   "source": [
    "plt.plot(range(0,r), s, linewidth=2.0)\n",
    "#plt.axis([0, 1400, 0, 10])\n",
    "plt.show()"
   ]
  },
  {
   "cell_type": "code",
   "execution_count": null,
   "metadata": {},
   "outputs": [],
   "source": []
  },
  {
   "cell_type": "code",
   "execution_count": 301,
   "metadata": {},
   "outputs": [],
   "source": [
    "def wold(s,l,r,gamma):\n",
    "   ''' s is the matrix containing singular values in descending order\n",
    "   l is the dimension we wish to reduce to not indices\n",
    "   r is the orginal dimension not indices, i.e. the number of normal samples\n",
    "   gamma is the number of rows or genes'''\n",
    "   c=(gamma-l-1)*(r-l)/(gamma+r-2*l)\n",
    "   l = l-1 #makes it as index\n",
    "   r = r-1 #makes it as index\n",
    "   w_1 = (s[l])**2/numpy.sum(numpy.square(s[l+1:]))\n",
    "   return w_1*c\n",
    "\n",
    "def N_hat(U,s,V,l):\n",
    "    ''' returns the dimension reduced array '''\n",
    "    s[l:]=0\n",
    "    S=numpy.diag(s)\n",
    "    N=numpy.matmul(U,numpy.matmul(S,V))\n",
    "    return N\n",
    "\n",
    "#rank of N_hat is reduced to l i.e. L\n",
    " #========Finding the basis of the matrix\n",
    "\n",
    "def basis(N,l,method='QR'):\n",
    "    ''' The numpy matrix returned after N_hat'''\n",
    "    if method != 'QR':\n",
    "        return scipy.linalg.orth(N)\n",
    "    else:\n",
    "        q,r=numpy.linalg.qr(N) # QR decomposition, by means of the Gram–Schmidt process, q: basis, \n",
    "        return q[:,:l]   # r: right upper matrix which element are magnitute of column vectors of N matrix on new coordinates."
   ]
  },
  {
   "cell_type": "markdown",
   "metadata": {},
   "source": []
  },
  {
   "cell_type": "code",
   "execution_count": 228,
   "metadata": {},
   "outputs": [
    {
     "data": {
      "image/png": "[encoded data removed]",
      "text/plain": [
       "<Figure size 432x288 with 1 Axes>"
      ]
     },
     "metadata": {
      "needs_background": "light"
     },
     "output_type": "display_data"
    },
    {
     "data": {
      "text/plain": [
       "[45.4148305234822,\n",
       " 33.17868723298128,\n",
       " 28.742126918077883,\n",
       " 28.090122176553823,\n",
       " 24.95514855455895,\n",
       " 22.466772435566405,\n",
       " 20.013722006000975,\n",
       " 20.247114164101575,\n",
       " 18.92280091145272]"
      ]
     },
     "execution_count": 228,
     "metadata": {},
     "output_type": "execute_result"
    }
   ],
   "source": [
    "U, s, V = numpy.linalg.svd(N, full_matrices=False)\n",
    "wold_cost = []\n",
    "for i in range(1,r):\n",
    "    wold_cost.append(wold(s,i,r,gamma))\n",
    "wold_cost\n",
    "plt.plot(range(1,r), wold_cost, linewidth=2.0)\n",
    "plt.title('measure of signal to noise ratio')\n",
    "plt.axis([0, 500, 0, 100])\n",
    "plt.show()\n",
    "wold_cost[1:10]"
   ]
  },
  {
   "cell_type": "code",
   "execution_count": 232,
   "metadata": {},
   "outputs": [
    {
     "ename": "NameError",
     "evalue": "name 'ln' is not defined",
     "output_type": "error",
     "traceback": [
      "\u001b[1;31m---------------------------------------------------------------------------\u001b[0m",
      "\u001b[1;31mNameError\u001b[0m                                 Traceback (most recent call last)",
      "\u001b[1;32m<ipython-input-232-50c52cbf3f02>\u001b[0m in \u001b[0;36m<module>\u001b[1;34m\u001b[0m\n\u001b[1;32m----> 1\u001b[1;33m \u001b[0mplt\u001b[0m\u001b[1;33m.\u001b[0m\u001b[0mplot\u001b[0m\u001b[1;33m(\u001b[0m\u001b[0mrange\u001b[0m\u001b[1;33m(\u001b[0m\u001b[1;36m0\u001b[0m\u001b[1;33m,\u001b[0m\u001b[0mr\u001b[0m\u001b[1;33m)\u001b[0m\u001b[1;33m,\u001b[0m \u001b[0mln\u001b[0m\u001b[1;33m(\u001b[0m\u001b[0ms\u001b[0m\u001b[1;33m)\u001b[0m\u001b[1;33m/\u001b[0m\u001b[0mr\u001b[0m\u001b[1;33m,\u001b[0m \u001b[0mlinewidth\u001b[0m\u001b[1;33m=\u001b[0m\u001b[1;36m2.0\u001b[0m\u001b[1;33m)\u001b[0m\u001b[1;33m\u001b[0m\u001b[1;33m\u001b[0m\u001b[0m\n\u001b[0m\u001b[0;32m      2\u001b[0m \u001b[1;31m#plt.axis([0, 1400, 0, 10])\u001b[0m\u001b[1;33m\u001b[0m\u001b[1;33m\u001b[0m\u001b[1;33m\u001b[0m\u001b[0m\n\u001b[0;32m      3\u001b[0m \u001b[0mplt\u001b[0m\u001b[1;33m.\u001b[0m\u001b[0mshow\u001b[0m\u001b[1;33m(\u001b[0m\u001b[1;33m)\u001b[0m\u001b[1;33m\u001b[0m\u001b[1;33m\u001b[0m\u001b[0m\n",
      "\u001b[1;31mNameError\u001b[0m: name 'ln' is not defined"
     ]
    }
   ],
   "source": [
    "plt.plot(range(0,r), nln(s)/r, linewidth=2.0)\n",
    "#plt.axis([0, 1400, 0, 10])\n",
    "plt.show()"
   ]
  },
  {
   "cell_type": "code",
   "execution_count": 148,
   "metadata": {},
   "outputs": [
    {
     "name": "stdout",
     "output_type": "stream",
     "text": [
      "Give in the value of l 200\n"
     ]
    }
   ],
   "source": [
    "#choose l based on the plot (the x-axis value)\n",
    "l=int(input(\"Give in the value of l \"))\n",
    "N_new=N_hat(U,s,V,l)     # approximation with all the other vectors.\n",
    "N_b=basis(N_new,l)"
   ]
  },
  {
   "cell_type": "code",
   "execution_count": 162,
   "metadata": {},
   "outputs": [
    {
     "data": {
      "text/plain": [
       "(2072, 1354)"
      ]
     },
     "execution_count": 162,
     "metadata": {},
     "output_type": "execute_result"
    }
   ],
   "source": [
    "N_new.shape"
   ]
  },
  {
   "cell_type": "code",
   "execution_count": 170,
   "metadata": {},
   "outputs": [
    {
     "data": {
      "text/plain": [
       "(2072, 200)"
      ]
     },
     "execution_count": 170,
     "metadata": {},
     "output_type": "execute_result"
    }
   ],
   "source": [
    "N_b.shape"
   ]
  },
  {
   "cell_type": "code",
   "execution_count": 69,
   "metadata": {},
   "outputs": [
    {
     "data": {
      "text/plain": [
       "array([[45.05094465,  9.71820153, 97.48342575, 79.69559674, 12.29154316,\n",
       "        83.57097711, 78.95921804, 60.37680122, 79.69383209, 77.58392612],\n",
       "       [72.09429453, 39.36039431, 80.5957243 ,  9.85560479, 70.52063096,\n",
       "        62.87132124, 55.6359282 , 86.92554231, 95.20363231, 28.09344202],\n",
       "       [25.87845123, 91.01243121, 62.06044604,  9.54343621, 57.4290457 ,\n",
       "        27.87708346, 16.6855426 , 97.54581989, 83.4652987 , 23.72127679],\n",
       "       [26.69488808, 78.53719038, 95.94090351, 83.68105531, 17.72038106,\n",
       "        13.87211883,  2.50448798, 69.54886599, 19.07771613, 13.41888504],\n",
       "       [39.02406339, 28.76747194, 85.03595989, 86.89672282, 61.0707463 ,\n",
       "        70.94716534, 23.4834346 , 48.00035939, 12.89472137, 53.75844672],\n",
       "       [72.1025373 , 12.09237496, 92.93515193, 88.3542906 , 90.56548912,\n",
       "        91.70173617, 39.58473455, 51.32525754, 86.80201406, 49.49500069],\n",
       "       [24.46582501, 92.51257174, 51.75346742, 52.91093623, 46.80163434,\n",
       "         3.80293383, 82.68179589, 14.43378415, 51.69676191, 32.75784273],\n",
       "       [37.54084946, 70.16286981,  4.96470515, 61.64800225, 83.3957384 ,\n",
       "        59.01692389, 35.70503357, 98.92951441, 33.58882239, 74.35917736],\n",
       "       [35.70845746, 61.83816631, 47.47984942,  6.39068652, 86.09731803,\n",
       "        93.65144165, 72.39393505, 43.35645984, 20.5658117 , 79.3971572 ],\n",
       "       [24.60817984, 96.83743941, 98.6054409 , 75.27849623, 42.19279113,\n",
       "        26.13349818, 46.75274098, 24.89145868, 84.46680462, 92.59309036]])"
      ]
     },
     "execution_count": 69,
     "metadata": {},
     "output_type": "execute_result"
    }
   ],
   "source": [
    "B=numpy.random.random((10,10))*100 #Diseased people\n",
    "(p,q)=B.shape\n",
    "B"
   ]
  },
  {
   "cell_type": "code",
   "execution_count": 22,
   "metadata": {},
   "outputs": [
    {
     "data": {
      "text/plain": [
       "[0, 1, 2, 3, 4, 5, 6, 7, 8, 9]"
      ]
     },
     "execution_count": 22,
     "metadata": {},
     "output_type": "execute_result"
    }
   ],
   "source": [
    "list(range(q))"
   ]
  },
  {
   "cell_type": "code",
   "execution_count": 55,
   "metadata": {},
   "outputs": [
    {
     "data": {
      "text/plain": [
       "(array([16.02672383, 34.86634414, 14.67250846, 11.76256843, 80.53346051,\n",
       "        30.73796904, 59.77695835, 23.30752075, 66.1912662 , 16.04322102]),\n",
       " array([[61.42643223, 27.31752954, 66.92539778, 60.87977689, 67.85931902,\n",
       "         96.19820985, 58.21397447, 82.04089685, 51.01138104],\n",
       "        [58.62322366, 76.43498777, 67.32404226, 50.82535874, 34.80286237,\n",
       "         86.11247208,  5.33693289, 34.65178891, 15.8459606 ],\n",
       "        [17.93747538, 86.37039753, 57.54747856, 15.9649214 , 59.33095203,\n",
       "         68.34570422, 94.36437504, 84.54788225, 43.93871559],\n",
       "        [31.09764845, 38.65115246, 65.00697349, 79.19769907, 30.77834134,\n",
       "          1.18429669, 13.07424033, 53.99992808, 20.95311931],\n",
       "        [76.3203676 , 52.61296947, 63.70431499, 71.09195042, 54.82113248,\n",
       "         96.56975716, 58.07369288, 35.68528709, 95.3515894 ],\n",
       "        [94.499966  , 69.81810023, 39.39046566, 47.91092044, 14.01227899,\n",
       "         37.20532641, 82.96100715,  2.38011547, 50.37685199],\n",
       "        [52.70935726, 60.75663471, 60.40012519, 22.75284693, 68.65073403,\n",
       "         88.82054685, 98.05779916, 35.55185207, 94.45221386],\n",
       "        [66.74380367, 40.06693186, 47.90147261, 96.60200511, 31.89986371,\n",
       "         82.2002431 , 32.8520857 , 91.38961186, 79.76618498],\n",
       "        [40.34422624, 16.93004471, 40.77753611, 64.66641665, 23.53473661,\n",
       "          7.65169211,  1.94030234, 37.04686853, 91.40351795],\n",
       "        [61.39978814, 67.07024355, 83.53968496, 59.25529369, 84.76018927,\n",
       "         28.73990296, 44.584195  , 10.1342174 , 97.05358823]]))"
      ]
     },
     "execution_count": 55,
     "metadata": {},
     "output_type": "execute_result"
    }
   ],
   "source": [
    "drop(B,2)"
   ]
  },
  {
   "cell_type": "code",
   "execution_count": 56,
   "metadata": {},
   "outputs": [],
   "source": [
    " p,B_new=drop(B,2)"
   ]
  },
  {
   "cell_type": "code",
   "execution_count": 25,
   "metadata": {},
   "outputs": [
    {
     "data": {
      "text/plain": [
       "array([67.58967287, 60.01809693, 58.59457551, 46.8989717 , 33.74144188,\n",
       "       32.70726518, 24.75642654, 31.26888387, 72.27223758,  8.96458203])"
      ]
     },
     "execution_count": 25,
     "metadata": {},
     "output_type": "execute_result"
    }
   ],
   "source": [
    "p"
   ]
  },
  {
   "cell_type": "code",
   "execution_count": 26,
   "metadata": {},
   "outputs": [
    {
     "data": {
      "text/plain": [
       "array([[66.36403785, 94.34327747, 21.82052235,  4.21807655, 14.8202847 ,\n",
       "        55.81732489, 34.30239548, 39.3744018 , 44.10736676],\n",
       "       [54.13868865, 71.24684674, 58.93639599, 75.15946955, 95.34794489,\n",
       "         2.9213864 , 66.71287893, 60.95764849, 95.55527309],\n",
       "       [25.31833724, 64.71721936, 26.94397158, 64.76684698, 66.80022784,\n",
       "        37.94035697, 63.89321766, 37.69374013, 38.30940123],\n",
       "       [63.85747905, 38.42456294,  8.7968329 , 79.39876765, 97.26913667,\n",
       "        53.2949542 , 98.37314481, 16.16142245, 28.41402675],\n",
       "       [83.43877262, 84.5773416 , 38.81628341, 84.19323992, 35.44184376,\n",
       "        33.09446487, 50.83908127, 20.30227585, 81.05296402],\n",
       "       [45.08253645, 90.71203543, 11.78540658, 83.8837379 , 42.37887254,\n",
       "        83.47042368, 22.80826301, 26.32965478, 64.42973304],\n",
       "       [77.0647143 , 29.55485859, 11.78578549,  3.38415254, 38.2820342 ,\n",
       "        38.33504507, 17.15861085, 60.71360929, 45.47507968],\n",
       "       [ 3.76428012, 15.90556203, 76.1136368 , 78.32489369, 86.37700183,\n",
       "        93.21334154, 79.74131466, 34.20099923, 99.35704378],\n",
       "       [46.83217006, 16.84134037, 11.87913374,  3.86537655, 59.03627239,\n",
       "        51.74063989, 84.07258843, 54.09753617, 87.55490785],\n",
       "       [17.86217756, 59.30803204, 44.7775465 ,  3.62316197, 44.51157501,\n",
       "        88.85335687, 21.51712953,  1.07955177, 74.14245065]])"
      ]
     },
     "execution_count": 26,
     "metadata": {},
     "output_type": "execute_result"
    }
   ],
   "source": [
    "B_new"
   ]
  },
  {
   "cell_type": "code",
   "execution_count": 27,
   "metadata": {},
   "outputs": [],
   "source": [
    "def project(A,v):\n",
    "    ''' A is a numpy array of basis of the subspace, output of basis\n",
    "    v is the column of A(orginal matrix)\n",
    "    Vn is the projected data on N_l space\n",
    "    and V_np is the projected data perpendicular to it'''\n",
    "    P_2=numpy.linalg.inv(numpy.matmul(A.transpose(),A))\n",
    "    P=numpy.matmul(numpy.matmul(A,P_2),A.transpose())\n",
    "    Vn=numpy.dot(P,v)\n",
    "    V_np=v-Vn\n",
    "    return (Vn,V_np)"
   ]
  },
  {
   "cell_type": "code",
   "execution_count": 573,
   "metadata": {},
   "outputs": [
    {
     "data": {
      "text/plain": [
       "(741, 2055)"
      ]
     },
     "execution_count": 573,
     "metadata": {},
     "output_type": "execute_result"
    }
   ],
   "source": [
    "X_normal.shape"
   ]
  },
  {
   "cell_type": "code",
   "execution_count": 651,
   "metadata": {},
   "outputs": [],
   "source": [
    "U_f, s_f, V_f = numpy.linalg.svd(X_normal, full_matrices=True)"
   ]
  },
  {
   "cell_type": "code",
   "execution_count": 586,
   "metadata": {},
   "outputs": [
    {
     "data": {
      "text/plain": [
       "(741, 2055)"
      ]
     },
     "execution_count": 586,
     "metadata": {},
     "output_type": "execute_result"
    }
   ],
   "source": [
    "V_f.shape"
   ]
  },
  {
   "cell_type": "code",
   "execution_count": 652,
   "metadata": {},
   "outputs": [
    {
     "data": {
      "text/plain": [
       "(741,)"
      ]
     },
     "execution_count": 652,
     "metadata": {},
     "output_type": "execute_result"
    }
   ],
   "source": [
    "s_f.shape"
   ]
  },
  {
   "cell_type": "code",
   "execution_count": 587,
   "metadata": {},
   "outputs": [
    {
     "data": {
      "text/plain": [
       "(741, 741)"
      ]
     },
     "execution_count": 587,
     "metadata": {},
     "output_type": "execute_result"
    }
   ],
   "source": [
    "U_f.shape"
   ]
  },
  {
   "cell_type": "code",
   "execution_count": 585,
   "metadata": {},
   "outputs": [
    {
     "data": {
      "image/png": "[encoded data removed]",
      "text/plain": [
       "<Figure size 432x288 with 1 Axes>"
      ]
     },
     "metadata": {
      "needs_background": "light"
     },
     "output_type": "display_data"
    },
    {
     "data": {
      "image/png": "[encoded data removed]",
      "text/plain": [
       "<Figure size 432x288 with 1 Axes>"
      ]
     },
     "metadata": {
      "needs_background": "light"
     },
     "output_type": "display_data"
    }
   ],
   "source": [
    "plt.plot(range(0,len(s_f)), s_f, linewidth=2.0)\n",
    "#plt.axis([0, 1400, 0, 10])\n",
    "plt.show()\n",
    "varAccountedForFeature = []\n",
    "for i in range(1,len(s_f)):\n",
    "    varAccountedForFeature.append(numpy.sum(numpy.square(s_f[0:i]))/numpy.sum(numpy.square(s_f[0:])))\n",
    "plt.plot(range(0,len(varAccountedForFeature)), varAccountedForFeature, linewidth=2.0)\n",
    "plt.show()"
   ]
  },
  {
   "cell_type": "code",
   "execution_count": 644,
   "metadata": {},
   "outputs": [
    {
     "name": "stdout",
     "output_type": "stream",
     "text": [
      "Give in the value of l 300\n"
     ]
    }
   ],
   "source": [
    "#choose l based on the plot (the x-axis value)\n",
    "ll=int(input(\"Give in the value of l \"))\n",
    "N_f_new=N_hat(U_f,s_f,V_f,ll)     # approximation with all the other vectors.\n"
   ]
  },
  {
   "cell_type": "code",
   "execution_count": 645,
   "metadata": {},
   "outputs": [
    {
     "data": {
      "text/plain": [
       "(741, 300)"
      ]
     },
     "execution_count": 645,
     "metadata": {},
     "output_type": "execute_result"
    }
   ],
   "source": [
    "N_f_b=basis(N_f_new,ll)\n",
    "N_f_b.shape"
   ]
  },
  {
   "cell_type": "code",
   "execution_count": 648,
   "metadata": {},
   "outputs": [
    {
     "ename": "ValueError",
     "evalue": "shapes (741,741) and (173,) not aligned: 741 (dim 1) != 173 (dim 0)",
     "output_type": "error",
     "traceback": [
      "\u001b[1;31m---------------------------------------------------------------------------\u001b[0m",
      "\u001b[1;31mValueError\u001b[0m                                Traceback (most recent call last)",
      "\u001b[1;32m<ipython-input-648-2b6380815c3f>\u001b[0m in \u001b[0;36m<module>\u001b[1;34m\u001b[0m\n\u001b[0;32m      6\u001b[0m \u001b[1;32mfor\u001b[0m \u001b[0mi\u001b[0m \u001b[1;32min\u001b[0m \u001b[0mrange\u001b[0m\u001b[1;33m(\u001b[0m\u001b[0mq2\u001b[0m\u001b[1;33m)\u001b[0m\u001b[1;33m:\u001b[0m\u001b[1;33m\u001b[0m\u001b[1;33m\u001b[0m\u001b[0m\n\u001b[0;32m      7\u001b[0m     \u001b[0mp_diat_f\u001b[0m\u001b[1;33m,\u001b[0m\u001b[0mX_diabetes_f_new\u001b[0m\u001b[1;33m=\u001b[0m\u001b[0mdrop\u001b[0m\u001b[1;33m(\u001b[0m\u001b[0mX_diabetes\u001b[0m\u001b[1;33m,\u001b[0m\u001b[0mi\u001b[0m\u001b[1;33m)\u001b[0m\u001b[1;33m\u001b[0m\u001b[1;33m\u001b[0m\u001b[0m\n\u001b[1;32m----> 8\u001b[1;33m     \u001b[1;33m(\u001b[0m\u001b[0mV_n\u001b[0m\u001b[1;33m,\u001b[0m\u001b[0mV_np\u001b[0m\u001b[1;33m)\u001b[0m\u001b[1;33m=\u001b[0m\u001b[0mproject\u001b[0m\u001b[1;33m(\u001b[0m\u001b[0mN_f_b\u001b[0m\u001b[1;33m,\u001b[0m\u001b[0mp_diat_f\u001b[0m\u001b[1;33m)\u001b[0m\u001b[1;33m\u001b[0m\u001b[1;33m\u001b[0m\u001b[0m\n\u001b[0m\u001b[0;32m      9\u001b[0m     \u001b[0mDiab_f_Nc\u001b[0m\u001b[1;33m.\u001b[0m\u001b[0mappend\u001b[0m\u001b[1;33m(\u001b[0m\u001b[0mV_n\u001b[0m\u001b[1;33m)\u001b[0m\u001b[1;33m\u001b[0m\u001b[1;33m\u001b[0m\u001b[0m\n\u001b[0;32m     10\u001b[0m     \u001b[0mDiab_f_Dc\u001b[0m\u001b[1;33m.\u001b[0m\u001b[0mappend\u001b[0m\u001b[1;33m(\u001b[0m\u001b[0mV_np\u001b[0m\u001b[1;33m)\u001b[0m\u001b[1;33m\u001b[0m\u001b[1;33m\u001b[0m\u001b[0m\n",
      "\u001b[1;32m<ipython-input-604-567e46faef9b>\u001b[0m in \u001b[0;36mproject\u001b[1;34m(A, v)\u001b[0m\n\u001b[0;32m      6\u001b[0m     \u001b[0mP_2\u001b[0m\u001b[1;33m=\u001b[0m\u001b[0mnumpy\u001b[0m\u001b[1;33m.\u001b[0m\u001b[0mlinalg\u001b[0m\u001b[1;33m.\u001b[0m\u001b[0minv\u001b[0m\u001b[1;33m(\u001b[0m\u001b[0mnumpy\u001b[0m\u001b[1;33m.\u001b[0m\u001b[0mmatmul\u001b[0m\u001b[1;33m(\u001b[0m\u001b[0mA\u001b[0m\u001b[1;33m.\u001b[0m\u001b[0mtranspose\u001b[0m\u001b[1;33m(\u001b[0m\u001b[1;33m)\u001b[0m\u001b[1;33m,\u001b[0m\u001b[0mA\u001b[0m\u001b[1;33m)\u001b[0m\u001b[1;33m)\u001b[0m\u001b[1;33m\u001b[0m\u001b[1;33m\u001b[0m\u001b[0m\n\u001b[0;32m      7\u001b[0m     \u001b[0mP\u001b[0m\u001b[1;33m=\u001b[0m\u001b[0mnumpy\u001b[0m\u001b[1;33m.\u001b[0m\u001b[0mmatmul\u001b[0m\u001b[1;33m(\u001b[0m\u001b[0mnumpy\u001b[0m\u001b[1;33m.\u001b[0m\u001b[0mmatmul\u001b[0m\u001b[1;33m(\u001b[0m\u001b[0mA\u001b[0m\u001b[1;33m,\u001b[0m\u001b[0mP_2\u001b[0m\u001b[1;33m)\u001b[0m\u001b[1;33m,\u001b[0m\u001b[0mA\u001b[0m\u001b[1;33m.\u001b[0m\u001b[0mtranspose\u001b[0m\u001b[1;33m(\u001b[0m\u001b[1;33m)\u001b[0m\u001b[1;33m)\u001b[0m\u001b[1;33m\u001b[0m\u001b[1;33m\u001b[0m\u001b[0m\n\u001b[1;32m----> 8\u001b[1;33m     \u001b[0mVn\u001b[0m\u001b[1;33m=\u001b[0m\u001b[0mnumpy\u001b[0m\u001b[1;33m.\u001b[0m\u001b[0mdot\u001b[0m\u001b[1;33m(\u001b[0m\u001b[0mP\u001b[0m\u001b[1;33m,\u001b[0m\u001b[0mv\u001b[0m\u001b[1;33m)\u001b[0m\u001b[1;33m\u001b[0m\u001b[1;33m\u001b[0m\u001b[0m\n\u001b[0m\u001b[0;32m      9\u001b[0m     \u001b[0mV_np\u001b[0m\u001b[1;33m=\u001b[0m\u001b[0mv\u001b[0m\u001b[1;33m-\u001b[0m\u001b[0mVn\u001b[0m\u001b[1;33m\u001b[0m\u001b[1;33m\u001b[0m\u001b[0m\n\u001b[0;32m     10\u001b[0m     \u001b[1;32mreturn\u001b[0m \u001b[1;33m(\u001b[0m\u001b[0mVn\u001b[0m\u001b[1;33m,\u001b[0m\u001b[0mV_np\u001b[0m\u001b[1;33m)\u001b[0m\u001b[1;33m\u001b[0m\u001b[1;33m\u001b[0m\u001b[0m\n",
      "\u001b[1;31mValueError\u001b[0m: shapes (741,741) and (173,) not aligned: 741 (dim 1) != 173 (dim 0)"
     ]
    }
   ],
   "source": [
    "#================ Normal data projection to Checking ==============\n",
    "(p2,q2) = X_diabetes.shape\n",
    "\n",
    "Diab_f_Nc=[]\n",
    "Diab_f_Dc=[]\n",
    "for i in range(q2):\n",
    "    p_diat_f,X_diabetes_f_new=drop(X_diabetes,i)\n",
    "    (V_n,V_np)=project(N_f_b,p_diat_f)\n",
    "    Diab_f_Nc.append(V_n)\n",
    "    Diab_f_Dc.append(V_np)\n",
    "Diab_f_Nc=numpy.stack(Diab_f_Nc,axis=1)\n",
    "Diab_f_Dc=numpy.stack(Diab_f_Dc,axis=1)"
   ]
  },
  {
   "cell_type": "code",
   "execution_count": 650,
   "metadata": {},
   "outputs": [
    {
     "data": {
      "text/plain": [
       "(173, 2055)"
      ]
     },
     "execution_count": 650,
     "metadata": {},
     "output_type": "execute_result"
    }
   ],
   "source": [
    "X_diabetes.shape"
   ]
  },
  {
   "cell_type": "code",
   "execution_count": null,
   "metadata": {},
   "outputs": [],
   "source": []
  },
  {
   "cell_type": "code",
   "execution_count": null,
   "metadata": {},
   "outputs": [],
   "source": []
  }
 ],
 "metadata": {
  "kernelspec": {
   "display_name": "Python 3",
   "language": "python",
   "name": "python3"
  },
  "language_info": {
   "codemirror_mode": {
    "name": "ipython",
    "version": 3
   },
   "file_extension": ".py",
   "mimetype": "text/x-python",
   "name": "python",
   "nbconvert_exporter": "python",
   "pygments_lexer": "ipython3",
   "version": "3.7.6"
  }
 },
 "nbformat": 4,
 "nbformat_minor": 2
}
